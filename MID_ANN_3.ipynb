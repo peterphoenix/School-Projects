{
  "nbformat": 4,
  "nbformat_minor": 0,
  "metadata": {
    "colab": {
      "name": "MID ANN 3.ipynb",
      "provenance": [],
      "authorship_tag": "ABX9TyPXWYrcf2y2Ix0ZesEoxrY6",
      "include_colab_link": true
    },
    "kernelspec": {
      "name": "python3",
      "display_name": "Python 3"
    }
  },
  "cells": [
    {
      "cell_type": "markdown",
      "metadata": {
        "id": "view-in-github",
        "colab_type": "text"
      },
      "source": [
        "<a href=\"https://colab.research.google.com/github/peterphoenix/School-Projects/blob/master/MID_ANN_3.ipynb\" target=\"_parent\"><img src=\"https://colab.research.google.com/assets/colab-badge.svg\" alt=\"Open In Colab\"/></a>"
      ]
    },
    {
      "cell_type": "markdown",
      "metadata": {
        "id": "jQe0fvGLoWnY"
      },
      "source": [
        "Peter Phoenix - 2201735413\n",
        "Artificial Neural Network - LA01\n",
        "\n",
        "3"
      ]
    },
    {
      "cell_type": "code",
      "metadata": {
        "id": "MG2AFnbEAogR"
      },
      "source": [
        "import numpy as np \n",
        "from sklearn.model_selection import train_test_split\n",
        "from sklearn.preprocessing import MinMaxScaler\n",
        "from sklearn.preprocessing import OrdinalEncoder\n",
        "from sklearn.preprocessing import OneHotEncoder\n",
        "from sklearn import datasets\n",
        "from sklearn import metrics\n",
        "from sklearn.metrics import accuracy_score\n",
        "from sklearn.metrics import confusion_matrix\n",
        "import matplotlib.pyplot as plt\n",
        "import tensorflow as tf\n",
        "\n",
        "# sigmoid function\n",
        "def nonlin(x,deriv=False):\n",
        "    if(deriv==True):\n",
        "        return x*(1-x)\n",
        "    return 1/(1+np.exp(-x))\n",
        "\n",
        "# input dataset\n",
        "digits = datasets.load_digits()\n",
        "n_samples = len(digits.images)\n",
        "t_samples = len(digits.target)\n",
        "\n",
        "data = digits.data\n",
        "# output dataset            \n",
        "target = digits.target.reshape((t_samples, -1))\n",
        "\n",
        "\n",
        "data = MinMaxScaler().fit_transform(data)\n",
        "target = OneHotEncoder(sparse = False).fit_transform(target)\n",
        "\n",
        "np.random.seed(1)\n",
        "alpha = 0.001\n",
        "\n",
        "syn0 = np.random.uniform(size=(64,20))\n",
        "bias0 =np.random.uniform(size=(1,20))\n",
        "syn1 = np.random.uniform(size=(20,10))\n",
        "bias1 = np.random.uniform(size=(1,10))\n",
        "\n",
        "X, feature_test, y, target_test = train_test_split(\n",
        "    data, target, test_size=0.2)\n",
        "\n",
        "target_test = np.argmax(target_test, axis = 1)\n",
        "\n",
        "acc_list = []\n",
        "epoch_list = []"
      ],
      "execution_count": null,
      "outputs": []
    },
    {
      "cell_type": "markdown",
      "metadata": {
        "id": "-wqnK2m7gMHA"
      },
      "source": [
        "Pada bagian diatas, semua library yang dibutuhkan diimport, kemudian rumus sigmoid didefinisikan.\n",
        "\n",
        "Input data didapatkan dari datasets.load_digits() sesuai dengan ketentuan soal. Kemudian dilakukan normalisasi data menggunakan MinMaxScaler dan OneHotEncoder.\n",
        "\n",
        "Alpha serta bias ditentukan secara random dengan hidden layer sebanyak 20, kemudian dataset dibagi menjadi training dataset dan test dataset dengan rincian 80% menjadi training dan 20% menjadi test.\n",
        "\n",
        "Digunakan argmax pada target_test agar output yang didapatkan untuk setiap test hanya berupa 1 angka saja."
      ]
    },
    {
      "cell_type": "code",
      "metadata": {
        "id": "eAcYa7-XgMel",
        "outputId": "ad7733f4-b944-4b3d-f73c-59301adadfd8",
        "colab": {
          "base_uri": "https://localhost:8080/",
          "height": 265
        }
      },
      "source": [
        "for idx in range(300000):\n",
        "    #Forward Propagation --> Batch Learning\n",
        "    l1 = nonlin(np.dot(X,syn0) + bias0)\n",
        "    l2 = nonlin(np.dot(l1,syn1) + bias1)\n",
        "  \n",
        "    #Backpropagation\n",
        "    l2_error = y - l2\n",
        "    l2_delta = l2_error * nonlin(l2, deriv = True)\n",
        "    \n",
        "    l1_error = l2_delta.dot(syn1.T)\n",
        "    l1_delta = l1_error * nonlin(l1, deriv = True)\n",
        "\n",
        "    #Updating Weights and Biases\n",
        "    syn1 += l1.T.dot(l2_delta) * alpha\n",
        "    bias1 += np.sum(l2_delta,axis=0,keepdims=True) * alpha\n",
        "    syn0 += X.T.dot(l1_delta) * alpha\n",
        "    bias0 += np.sum(l1_delta,axis=0,keepdims=True) * alpha\n",
        "\n",
        "    if (idx) % 1000 == 0:\n",
        "      l1_temp = nonlin(np.dot(feature_test,syn0) + bias0)\n",
        "      l2_temp = nonlin(np.dot(l1_temp,syn1) + bias1)\n",
        "      result_temp = np.argmax(l2_temp, axis = 1)\n",
        "      accuracy_temp = metrics.accuracy_score(target_test, result_temp)\n",
        "      acc_list.append(accuracy_temp)\n",
        "      epoch_list.append(idx)\n",
        "  \n",
        "plt.plot(epoch_list, acc_list)\n",
        "plt.show()\n"
      ],
      "execution_count": null,
      "outputs": [
        {
          "output_type": "display_data",
          "data": {
            "image/png": "[encoded data removed]",
            "text/plain": [
              "<Figure size 432x288 with 1 Axes>"
            ]
          },
          "metadata": {
            "tags": [],
            "needs_background": "light"
          }
        }
      ]
    },
    {
      "cell_type": "markdown",
      "metadata": {
        "id": "b7teU_pScvxZ"
      },
      "source": [
        "Pada tahap diatas adalah tahap training, menggunakan batch training. Batch training memang memakan waktu yang lebih lama dibandingkan online atau mini-batch, namun hasil yang didapatkan menjadi lebih konsisten dan akurat.\n",
        "\n",
        "Setiap 1000 epoch dilakukan append pada list akurasi dan list epoch untuk dibuat menjadi validation curve nantinya.\n",
        "\n",
        "Dapat dilihat validation curve diatas dengan garis biru merupakan akurasi. Sumbu-x menandakan jumlah epoch dan sumbu-y merupakan nilai akurasi dalam desimal."
      ]
    },
    {
      "cell_type": "code",
      "metadata": {
        "id": "7R-0JimYcwm4",
        "outputId": "f1a06e16-def5-409c-92cb-b200a4505e9e",
        "colab": {
          "base_uri": "https://localhost:8080/",
          "height": 1000
        }
      },
      "source": [
        "l1 = nonlin(np.dot(feature_test,syn0) + bias0)\n",
        "l2 = nonlin(np.dot(l1,syn1) + bias1)\n",
        "\n",
        "result = np.argmax(l2, axis = 1)\n",
        "accuracy = metrics.accuracy_score(target_test, result)\n",
        "print (\"Accuracy :{}%\".format(accuracy*100))\n",
        "confusion = metrics.confusion_matrix(target_test, result)\n",
        "print(confusion)\n",
        "precision = metrics.precision_score(target_test, result, average = None)\n",
        "recall = metrics.recall_score(target_test, result, average = None)\n",
        "f1 = metrics.f1_score(target_test, result, average = None)\n",
        "\n",
        "                                    \n",
        "for i in range(0,10):\n",
        "  print(\"\")\n",
        "  print(\"Kelas {}\".format(i))\n",
        "  print(\"Precision :{}%\".format(precision[i]*100))\n",
        "  print(\"Recall :{}%\".format(recall[i]*100))\n",
        "  print(\"F1 Score :{}\".format(f1[i]))"
      ],
      "execution_count": null,
      "outputs": [
        {
          "output_type": "stream",
          "text": [
            "Accuracy :91.38888888888889%\n",
            "[[31  0  0  0  1  0  1  0  0  0]\n",
            " [ 0 29  1  0  0  0  2  0  2  0]\n",
            " [ 0  0 32  0  0  0  0  0  0  0]\n",
            " [ 0  0  0 35  0  0  0  0  1  2]\n",
            " [ 0  1  0  0 33  0  0  0  0  0]\n",
            " [ 0  0  0  0  0 43  1  2  0  0]\n",
            " [ 0  1  0  0  0  0 33  0  0  0]\n",
            " [ 0  2  0  1  1  0  1 37  1  0]\n",
            " [ 0  2  1  0  0  1  0  0 25  1]\n",
            " [ 0  0  0  0  1  0  2  0  2 31]]\n",
            "\n",
            "Kelas 0\n",
            "Precision :100.0%\n",
            "Recall :93.93939393939394%\n",
            "F1 Score :0.96875\n",
            "\n",
            "Kelas 1\n",
            "Precision :82.85714285714286%\n",
            "Recall :85.29411764705883%\n",
            "F1 Score :0.8405797101449276\n",
            "\n",
            "Kelas 2\n",
            "Precision :94.11764705882352%\n",
            "Recall :100.0%\n",
            "F1 Score :0.9696969696969697\n",
            "\n",
            "Kelas 3\n",
            "Precision :97.22222222222221%\n",
            "Recall :92.10526315789474%\n",
            "F1 Score :0.9459459459459458\n",
            "\n",
            "Kelas 4\n",
            "Precision :91.66666666666666%\n",
            "Recall :97.05882352941177%\n",
            "F1 Score :0.9428571428571428\n",
            "\n",
            "Kelas 5\n",
            "Precision :97.72727272727273%\n",
            "Recall :93.47826086956522%\n",
            "F1 Score :0.9555555555555557\n",
            "\n",
            "Kelas 6\n",
            "Precision :82.5%\n",
            "Recall :97.05882352941177%\n",
            "F1 Score :0.8918918918918919\n",
            "\n",
            "Kelas 7\n",
            "Precision :94.87179487179486%\n",
            "Recall :86.04651162790698%\n",
            "F1 Score :0.9024390243902439\n",
            "\n",
            "Kelas 8\n",
            "Precision :80.64516129032258%\n",
            "Recall :83.33333333333334%\n",
            "F1 Score :0.819672131147541\n",
            "\n",
            "Kelas 9\n",
            "Precision :91.17647058823529%\n",
            "Recall :86.11111111111111%\n",
            "F1 Score :0.8857142857142858\n"
          ],
          "name": "stdout"
        }
      ]
    },
    {
      "cell_type": "markdown",
      "metadata": {
        "id": "seZZcRKtq2Do"
      },
      "source": [
        "Tahap diatas merupakan tahap testing dengan hasil akurasi final, yaitu: 91.38888888888889%\n",
        "\n",
        "Digambarkan juga confusion matrix serta nilai Precision, Recall, dan F1-Score untuk setiap kelas"
      ]
    }
  ]
}