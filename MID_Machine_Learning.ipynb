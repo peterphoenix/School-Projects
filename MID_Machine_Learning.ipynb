{
  "nbformat": 4,
  "nbformat_minor": 0,
  "metadata": {
    "colab": {
      "name": "MID Machine Learning.ipynb",
      "provenance": [],
      "collapsed_sections": [
        "Ad7fHdp5zRFg",
        "EMcq9mM20u82",
        "LCLvG3mEx6pZ",
        "uFrurt_h1kry",
        "NCQ-QFTRyHwi",
        "qJVUbKwVyIrz",
        "tOLgW8kcyJBf",
        "wHqqBPKldMRl",
        "4wtrRZJAmG82",
        "Rj-DghR_d_q_",
        "-uKiPh05iKU4",
        "yGZlrqeIeJ4j",
        "VBBFdHjDeWnu"
      ],
      "toc_visible": true,
      "include_colab_link": true
    },
    "kernelspec": {
      "name": "python3",
      "display_name": "Python 3"
    }
  },
  "cells": [
    {
      "cell_type": "markdown",
      "metadata": {
        "id": "view-in-github",
        "colab_type": "text"
      },
      "source": [
        "<a href=\"https://colab.research.google.com/github/peterphoenix/School-Projects/blob/master/MID_Machine_Learning.ipynb\" target=\"_parent\"><img src=\"https://colab.research.google.com/assets/colab-badge.svg\" alt=\"Open In Colab\"/></a>"
      ]
    },
    {
      "cell_type": "markdown",
      "metadata": {
        "id": "NdSLSmks30Wt"
      },
      "source": [
        "Peter Phoenix - 2201735413\n",
        "\n",
        "Machine Learning - LA01"
      ]
    },
    {
      "cell_type": "code",
      "metadata": {
        "id": "c69eqaGcENzP",
        "outputId": "7f601c3c-0350-470f-eb62-05a691bf24fc",
        "colab": {
          "base_uri": "https://localhost:8080/",
          "height": 293
        }
      },
      "source": [
        "# https://drive.google.com/file/d/1nl-4PGyGo1EctzURUI0pbTI8Y45D1q-i/view?usp=sharing\n",
        "!wget --no-check-certificate 'https://docs.google.com/uc?export=download&id=1nl-4PGyGo1EctzURUI0pbTI8Y45D1q-i' -O dataset.csv"
      ],
      "execution_count": null,
      "outputs": [
        {
          "output_type": "stream",
          "text": [
            "--2020-06-23 16:08:12--  https://docs.google.com/uc?export=download&id=1nl-4PGyGo1EctzURUI0pbTI8Y45D1q-i\n",
            "Resolving docs.google.com (docs.google.com)... 74.125.204.113, 74.125.204.138, 74.125.204.139, ...\n",
            "Connecting to docs.google.com (docs.google.com)|74.125.204.113|:443... connected.\n",
            "HTTP request sent, awaiting response... 302 Moved Temporarily\n",
            "Location: https://doc-14-7k-docs.googleusercontent.com/docs/securesc/ha0ro937gcuc7l7deffksulhg5h7mbp1/kg8d0j6ds0k8p58gt2ts2u9a8ud9gf7o/1592928450000/13698787521697155934/*/1nl-4PGyGo1EctzURUI0pbTI8Y45D1q-i?e=download [following]\n",
            "Warning: wildcards not supported in HTTP.\n",
            "--2020-06-23 16:08:12--  https://doc-14-7k-docs.googleusercontent.com/docs/securesc/ha0ro937gcuc7l7deffksulhg5h7mbp1/kg8d0j6ds0k8p58gt2ts2u9a8ud9gf7o/1592928450000/13698787521697155934/*/1nl-4PGyGo1EctzURUI0pbTI8Y45D1q-i?e=download\n",
            "Resolving doc-14-7k-docs.googleusercontent.com (doc-14-7k-docs.googleusercontent.com)... 64.233.189.132, 2404:6800:4008:c07::84\n",
            "Connecting to doc-14-7k-docs.googleusercontent.com (doc-14-7k-docs.googleusercontent.com)|64.233.189.132|:443... connected.\n",
            "HTTP request sent, awaiting response... 200 OK\n",
            "Length: unspecified [text/csv]\n",
            "Saving to: ‘dataset.csv’\n",
            "\n",
            "dataset.csv             [ <=>                ]   3.31M  --.-KB/s    in 0.02s   \n",
            "\n",
            "2020-06-23 16:08:13 (176 MB/s) - ‘dataset.csv’ saved [3472123]\n",
            "\n"
          ],
          "name": "stdout"
        }
      ]
    },
    {
      "cell_type": "code",
      "metadata": {
        "id": "3cgcC_2S4W-u",
        "outputId": "273b1ace-cbe1-4892-9515-15b776765249",
        "colab": {
          "base_uri": "https://localhost:8080/",
          "height": 50
        }
      },
      "source": [
        "import pandas as pd\n",
        "import numpy as np\n",
        "import matplotlib.pyplot as plt\n",
        "import seaborn as sb\n",
        "from sklearn import metrics\n",
        "from sklearn import preprocessing\n",
        "from sklearn.model_selection import train_test_split\n",
        "from sklearn.ensemble import ExtraTreesClassifier\n",
        "from sklearn.linear_model import LinearRegression\n",
        "from sklearn.neighbors import KNeighborsClassifier\n",
        "from sklearn.svm import SVC\n",
        "from sklearn.tree import DecisionTreeClassifier\n",
        "from sklearn.cluster import KMeans\n",
        "from sklearn.mixture import GaussianMixture\n",
        "from sklearn.metrics import silhouette_score\n",
        "from sklearn.utils import resample"
      ],
      "execution_count": null,
      "outputs": [
        {
          "output_type": "stream",
          "text": [
            "/usr/local/lib/python3.6/dist-packages/statsmodels/tools/_testing.py:19: FutureWarning: pandas.util.testing is deprecated. Use the functions in the public API at pandas.testing instead.\n",
            "  import pandas.util.testing as tm\n"
          ],
          "name": "stderr"
        }
      ]
    },
    {
      "cell_type": "code",
      "metadata": {
        "id": "yeMLvfvX3uMp",
        "outputId": "46416c55-9ad9-4d01-ebad-704fb74d68a0",
        "colab": {
          "base_uri": "https://localhost:8080/",
          "height": 1000
        }
      },
      "source": [
        "dataset = pd.read_csv('dataset.csv')\n",
        "# Dikarenakan data memiliki kolom kosong dari kolom 31 - 90 maka kita hanya perlu menggunakan 30 kolom pertama\n",
        "datafull = dataset[dataset.columns[range(30)]]\n",
        "print(datafull)\n",
        "print(datafull.dtypes)\n",
        "print(datafull.isna().values.any())\n",
        " \n",
        "# Pilih 12 Feature secara random\n",
        "data = datafull[datafull.columns[[11, 12, 13, 14, 15, 16, 17, 18, 19, 20, 21, 28]]]\n",
        "print(data)\n",
        "print(data.dtypes)\n",
        "print(data.isna().values.any())"
      ],
      "execution_count": null,
      "outputs": [
        {
          "output_type": "stream",
          "text": [
            "             id    host_id  ... review_scores_rating reviews_per_month\n",
            "0         35303     151977  ...                   94              0.18\n",
            "1        197677     964081  ...                   95              1.57\n",
            "2        289597     341577  ...                   95              1.18\n",
            "3        370759    1573631  ...                   95              1.39\n",
            "4        700253     341577  ...                   96              1.12\n",
            "...         ...        ...  ...                  ...               ...\n",
            "13044  43260549  191971770  ...                  NaN               NaN\n",
            "13045  43260684  191971770  ...                  NaN               NaN\n",
            "13046  43272924  335257890  ...                  NaN               NaN\n",
            "13047  43281694  333948576  ...                  NaN               NaN\n",
            "13048  43286916  341561924  ...                  NaN               NaN\n",
            "\n",
            "[13049 rows x 30 columns]\n",
            "id                            int64\n",
            "host_id                      object\n",
            "host_name                    object\n",
            "host_response_time           object\n",
            "host_response_rate           object\n",
            "host_acceptance_rate         object\n",
            "host_neighbourhood           object\n",
            "host_listings_count          object\n",
            "host_total_listings_count    object\n",
            "neighbourhood                object\n",
            "neighbourhood_cleansed       object\n",
            "property_type                object\n",
            "room_type                    object\n",
            "accommodates                 object\n",
            "bathrooms                    object\n",
            "bedrooms                     object\n",
            "beds                         object\n",
            "price                        object\n",
            "guests_included              object\n",
            "extra_people                 object\n",
            "minimum_nights               object\n",
            "maximum_nights               object\n",
            "minimum_minimum_nights       object\n",
            "maximum_minimum_nights       object\n",
            "minimum_maximum_nights       object\n",
            "maximum_maximum_nights       object\n",
            "number_of_reviews            object\n",
            "number_of_reviews_ltm        object\n",
            "review_scores_rating         object\n",
            "reviews_per_month            object\n",
            "dtype: object\n",
            "True\n",
            "      property_type        room_type  ... maximum_nights review_scores_rating\n",
            "0         Apartment     Private room  ...           1125                   94\n",
            "1         Apartment  Entire home/apt  ...            365                   95\n",
            "2         Apartment  Entire home/apt  ...            180                   95\n",
            "3         Apartment  Entire home/apt  ...            720                   95\n",
            "4         Apartment  Entire home/apt  ...            180                   96\n",
            "...             ...              ...  ...            ...                  ...\n",
            "13044        Hostel     Private room  ...            365                  NaN\n",
            "13045        Hostel     Private room  ...            365                  NaN\n",
            "13046         Hotel     Private room  ...             30                  NaN\n",
            "13047         House  Entire home/apt  ...             90                  NaN\n",
            "13048         House  Entire home/apt  ...           1125                  NaN\n",
            "\n",
            "[13049 rows x 12 columns]\n",
            "property_type           object\n",
            "room_type               object\n",
            "accommodates            object\n",
            "bathrooms               object\n",
            "bedrooms                object\n",
            "beds                    object\n",
            "price                   object\n",
            "guests_included         object\n",
            "extra_people            object\n",
            "minimum_nights          object\n",
            "maximum_nights          object\n",
            "review_scores_rating    object\n",
            "dtype: object\n",
            "True\n"
          ],
          "name": "stdout"
        },
        {
          "output_type": "stream",
          "text": [
            "/usr/local/lib/python3.6/dist-packages/IPython/core/interactiveshell.py:2718: DtypeWarning: Columns (50,51,52,53,54,55,56,57,58,62,63,64,66,69,70,78,79,81,82,83,84,85) have mixed types.Specify dtype option on import or set low_memory=False.\n",
            "  interactivity=interactivity, compiler=compiler, result=result)\n"
          ],
          "name": "stderr"
        }
      ]
    },
    {
      "cell_type": "markdown",
      "metadata": {
        "id": "Ad7fHdp5zRFg"
      },
      "source": [
        "#Pre-processing"
      ]
    },
    {
      "cell_type": "markdown",
      "metadata": {
        "id": "7XE4qSvLCWWb"
      },
      "source": [
        "Jika di cek menggunakan value_counts(), data memiliki banyak value yang tidak sesuai dan beberapa value memiliki count sangat sedikit maka value tersebut akan diubah menjadi NULL .\n",
        "\n",
        "Untuk mengecek dapat dijalankan kode dibawah ini:"
      ]
    },
    {
      "cell_type": "code",
      "metadata": {
        "id": "DSTRc0BLjN5n"
      },
      "source": [
        "# print(\"property_type -----------------------------------------------------\")\n",
        "# print(data[\"property_type\"].value_counts())\n",
        "# print(\"room_type ---------------------------------------------------------\")\n",
        "# print(data[\"room_type\"].value_counts())\n",
        "# print(\"accommodates ------------------------------------------------------\")\n",
        "# print(data[\"accommodates\"].value_counts())\n",
        "# print(\"bathrooms ---------------------------------------------------------\")\n",
        "# print(data[\"bathrooms\"].value_counts())\n",
        "# print(\"bedrooms ----------------------------------------------------------\")\n",
        "# print(data[\"bedrooms\"].value_counts())\n",
        "# print(\"beds --------------------------------------------------------------\")\n",
        "# print(data[\"beds\"].value_counts())\n",
        "# print(\"price -------------------------------------------------------------\")\n",
        "# print(data[\"price\"].value_counts())\n",
        "# print(\"guests_included ---------------------------------------------------\")\n",
        "# print(data[\"guests_included\"].value_counts())\n",
        "# print(\"extra_people ------------------------------------------------------\")\n",
        "# print(data[\"extra_people\"].value_counts())\n",
        "# print(\"minimum_nights ----------------------------------------------------\")\n",
        "# print(data[\"minimum_nights\"].value_counts())\n",
        "# print(\"maximum_nights ----------------------------------------------------\")\n",
        "# print(data[\"maximum_nights\"].value_counts())\n",
        "# print(\"review_scores_rating ----------------------------------------------\")\n",
        "# print(data[\"review_scores_rating\"].value_counts())"
      ],
      "execution_count": null,
      "outputs": []
    },
    {
      "cell_type": "markdown",
      "metadata": {
        "id": "J2JALXigCV_a"
      },
      "source": [
        "Berikut kode untuk mengubah value yang memiliki jumlah sedikit menjadi NULL"
      ]
    },
    {
      "cell_type": "code",
      "metadata": {
        "id": "59DhWXq_CTY7"
      },
      "source": [
        "threshold = 10\n",
        "value_counts = data.stack().value_counts()\n",
        "to_remove = value_counts[value_counts <= threshold].index\n",
        "data.replace(to_remove, np.nan, inplace=True)"
      ],
      "execution_count": null,
      "outputs": []
    },
    {
      "cell_type": "markdown",
      "metadata": {
        "id": "8f2p5stLCjMg"
      },
      "source": [
        "Data yang memiliki nilai NULL akan dihapus. Data NULL tersebut dapat berasal dari dataset awal maupun setelah proses filtering yang dilakukan"
      ]
    },
    {
      "cell_type": "code",
      "metadata": {
        "id": "7qBI6njBrC2c",
        "outputId": "4499045d-d985-4e1e-84cd-b4fcff03c52f",
        "colab": {
          "base_uri": "https://localhost:8080/",
          "height": 472
        }
      },
      "source": [
        "data = data.dropna()\n",
        "print(data)\n",
        "print(data.dtypes)\n",
        "print(data.isna().values.any())"
      ],
      "execution_count": null,
      "outputs": [
        {
          "output_type": "stream",
          "text": [
            "      property_type        room_type  ... maximum_nights review_scores_rating\n",
            "0         Apartment     Private room  ...           1125                   94\n",
            "1         Apartment  Entire home/apt  ...            365                   95\n",
            "2         Apartment  Entire home/apt  ...            180                   95\n",
            "4         Apartment  Entire home/apt  ...            180                   96\n",
            "6         Apartment  Entire home/apt  ...            365                   90\n",
            "...             ...              ...  ...            ...                  ...\n",
            "12889     Apartment  Entire home/apt  ...           1125                  100\n",
            "12916     Apartment  Entire home/apt  ...           1125                  100\n",
            "12932     Apartment  Entire home/apt  ...           1125                  100\n",
            "12991     Apartment  Entire home/apt  ...           1125                  100\n",
            "13001     Apartment  Entire home/apt  ...             90                  100\n",
            "\n",
            "[9266 rows x 12 columns]\n",
            "property_type           object\n",
            "room_type               object\n",
            "accommodates            object\n",
            "bathrooms               object\n",
            "bedrooms                object\n",
            "beds                    object\n",
            "price                   object\n",
            "guests_included         object\n",
            "extra_people            object\n",
            "minimum_nights          object\n",
            "maximum_nights          object\n",
            "review_scores_rating    object\n",
            "dtype: object\n",
            "False\n"
          ],
          "name": "stdout"
        }
      ]
    },
    {
      "cell_type": "markdown",
      "metadata": {
        "id": "afPGS1T8CqGR"
      },
      "source": [
        "Setelah data dicek kembali maka value setiap kolom telah menjadi lebih rapih dan sesuai.\n",
        "\n",
        "Untuk mengecek dapat dijalankan kode dibawah ini:"
      ]
    },
    {
      "cell_type": "code",
      "metadata": {
        "id": "1Z1I1jeEp1Dx"
      },
      "source": [
        "# print(\"property_type -----------------------------------------------------\")\n",
        "# print(data[\"property_type\"].value_counts())\n",
        "# print(\"room_type ---------------------------------------------------------\")\n",
        "# print(data[\"room_type\"].value_counts())\n",
        "# print(\"accommodates ------------------------------------------------------\")\n",
        "# print(data[\"accommodates\"].value_counts())\n",
        "# print(\"bathrooms ---------------------------------------------------------\")\n",
        "# print(data[\"bathrooms\"].value_counts())\n",
        "# print(\"bedrooms ----------------------------------------------------------\")\n",
        "# print(data[\"bedrooms\"].value_counts())\n",
        "# print(\"beds --------------------------------------------------------------\")\n",
        "# print(data[\"beds\"].value_counts())\n",
        "# print(\"price -------------------------------------------------------------\")\n",
        "# print(data[\"price\"].value_counts())\n",
        "# print(\"guests_included ---------------------------------------------------\")\n",
        "# print(data[\"guests_included\"].value_counts())\n",
        "# print(\"extra_people ------------------------------------------------------\")\n",
        "# print(data[\"extra_people\"].value_counts())\n",
        "# print(\"minimum_nights ----------------------------------------------------\")\n",
        "# print(data[\"minimum_nights\"].value_counts())\n",
        "# print(\"maximum_nights ----------------------------------------------------\")\n",
        "# print(data[\"maximum_nights\"].value_counts())\n",
        "# print(\"review_scores_rating ----------------------------------------------\")\n",
        "# print(data[\"review_scores_rating\"].value_counts())"
      ],
      "execution_count": null,
      "outputs": []
    },
    {
      "cell_type": "markdown",
      "metadata": {
        "id": "NdKctKPwCz4f"
      },
      "source": [
        "Sebelum masuk ke tahap Feature Selection, ada beberapa yang hal yang perlu dilakukan:\n",
        "1.   Data yang berupa string perlu diubah menjadi numeric dengan cara diberi label\n",
        "2.   Menghilangkan simbol '$' dan ',' pada kolom yang berisi harga agar dapat dibuat menjadi numeric\n",
        "3.   Mengubah seluruh tipe data menjadi float\n",
        "\n",
        "\n",
        "\n"
      ]
    },
    {
      "cell_type": "code",
      "metadata": {
        "id": "5hd-153Y54xK"
      },
      "source": [
        "# Proses mengubah data bertipe string menjadi numeric dengan LabelEnncoder\n",
        "pre = preprocessing.LabelEncoder()\n",
        "pre.fit(data.property_type)\n",
        "data['property_type'] = pre.transform(data.property_type)\n",
        "\n",
        "pre2 = preprocessing.LabelEncoder()\n",
        "pre2.fit(data.room_type)\n",
        "data['room_type'] = pre2.transform(data.room_type)\n",
        "\n",
        "# preprocessing menggunakan variable yang berbeda (pre dan pre2) agar data dapat dikembalikan jika diperlukan menggunakan fungsi berikut:\n",
        "# pre.inverse_transform(data['property_type'])\n",
        "# pre2.inverse_transform(data['room_type'])\n",
        "\n",
        "# Simbol '$' pada kolom price serta extra people perlu dihilangkan dan diubah menjadi float\n",
        "data['price'] = data.price.str.replace('$', '')\n",
        "data['price'] = data.price.str.replace(',', '')\n",
        "\n",
        "data['extra_people'] = data.extra_people.str.replace('$', '')\n",
        "data['extra_people'] = data.extra_people.str.replace(',', '')\n",
        "\n",
        "# Tipe seluruh data diubah menjadi float\n",
        "data = data.astype(float)\n"
      ],
      "execution_count": null,
      "outputs": []
    },
    {
      "cell_type": "code",
      "metadata": {
        "id": "96N834xa65C3",
        "outputId": "76e875ac-abaf-4e1c-d4e4-bfbaaaeee3ef",
        "colab": {
          "base_uri": "https://localhost:8080/",
          "height": 456
        }
      },
      "source": [
        "print(data)\n",
        "print(data.dtypes)\n",
        "# print(\"property_type -----------------------------------------------------\")\n",
        "# print(data[\"property_type\"].value_counts())\n",
        "# print(\"room_type ---------------------------------------------------------\")\n",
        "# print(data[\"room_type\"].value_counts())\n",
        "# print(\"price -------------------------------------------------------------\")\n",
        "# print(data[\"price\"].value_counts())\n",
        "# print(\"extra_people ------------------------------------------------------\")\n",
        "# print(data[\"extra_people\"].value_counts())"
      ],
      "execution_count": null,
      "outputs": [
        {
          "output_type": "stream",
          "text": [
            "       property_type  room_type  ...  maximum_nights  review_scores_rating\n",
            "0                1.0        2.0  ...          1125.0                  94.0\n",
            "1                1.0        0.0  ...           365.0                  95.0\n",
            "2                1.0        0.0  ...           180.0                  95.0\n",
            "4                1.0        0.0  ...           180.0                  96.0\n",
            "6                1.0        0.0  ...           365.0                  90.0\n",
            "...              ...        ...  ...             ...                   ...\n",
            "12889            1.0        0.0  ...          1125.0                 100.0\n",
            "12916            1.0        0.0  ...          1125.0                 100.0\n",
            "12932            1.0        0.0  ...          1125.0                 100.0\n",
            "12991            1.0        0.0  ...          1125.0                 100.0\n",
            "13001            1.0        0.0  ...            90.0                 100.0\n",
            "\n",
            "[9266 rows x 12 columns]\n",
            "property_type           float64\n",
            "room_type               float64\n",
            "accommodates            float64\n",
            "bathrooms               float64\n",
            "bedrooms                float64\n",
            "beds                    float64\n",
            "price                   float64\n",
            "guests_included         float64\n",
            "extra_people            float64\n",
            "minimum_nights          float64\n",
            "maximum_nights          float64\n",
            "review_scores_rating    float64\n",
            "dtype: object\n"
          ],
          "name": "stdout"
        }
      ]
    },
    {
      "cell_type": "markdown",
      "metadata": {
        "id": "EMcq9mM20u82"
      },
      "source": [
        "#Feature Selection\n",
        "Hasil yang terlihat pada tahap feature selection tidaklah begitu baik, dimana nilai yang didapatkan sangat kecil (mendekati 0) hal ini menandakan bahwa keterkaitan antar data kurang baik.\n",
        "\n",
        "Namun berdasarkan hasil yang didapatkan maka feature yang dipilih adalah\n",
        "\n",
        "\n",
        "*   [\"accommodates\", \"beds\", \"price\", \"guests_included\", \"extra_people\", \"minimum_nights\", \"maximum_nights\"] untuk kolom \"review_scores_rating\"\n",
        "*   [\"accommodates\", \"beds\", \"extra_people\", \"minimum_nights\", \"maximum_nights\", \"review_scores_rating\"] untuk kolom \"price\"\n",
        "\n"
      ]
    },
    {
      "cell_type": "markdown",
      "metadata": {
        "id": "QLTdTxu9Kpn0"
      },
      "source": [
        "Feature Importance terhadap kolom \"price\" menggunakan algoritma Extra Trees classifier"
      ]
    },
    {
      "cell_type": "code",
      "metadata": {
        "id": "ZQ9k4WtZ21VJ",
        "outputId": "5792700b-9b3f-4818-c560-467a5565f77e",
        "colab": {
          "base_uri": "https://localhost:8080/",
          "height": 297
        }
      },
      "source": [
        "X = data.iloc[:,[0, 1, 2, 3, 4, 5, 7, 8, 9, 10, 11]]\n",
        "y = data.iloc[:,[6]]\n",
        "model = ExtraTreesClassifier()\n",
        "model.fit(X,y)\n",
        "\n",
        "feat_importances = pd.Series(model.feature_importances_, index=X.columns)\n",
        "feat_importances.nlargest(11).plot(kind='barh')\n",
        "plt.show()"
      ],
      "execution_count": null,
      "outputs": [
        {
          "output_type": "stream",
          "text": [
            "/usr/local/lib/python3.6/dist-packages/ipykernel_launcher.py:5: DataConversionWarning: A column-vector y was passed when a 1d array was expected. Please change the shape of y to (n_samples,), for example using ravel().\n",
            "  \"\"\"\n"
          ],
          "name": "stderr"
        },
        {
          "output_type": "display_data",
          "data": {
            "image/png": "[encoded data removed]",
            "text/plain": [
              "<Figure size 432x288 with 1 Axes>"
            ]
          },
          "metadata": {
            "tags": [],
            "needs_background": "light"
          }
        }
      ]
    },
    {
      "cell_type": "markdown",
      "metadata": {
        "id": "nqhyHtfbKs8l"
      },
      "source": [
        "Feature Importance terhadap kolom \"review_scores_rating\" menggunakan algoritma Extra Trees classifier"
      ]
    },
    {
      "cell_type": "code",
      "metadata": {
        "id": "z3AwlEYzq8ar",
        "outputId": "6ce0fff9-5e3e-4038-f1c5-e1f46ffa8155",
        "colab": {
          "base_uri": "https://localhost:8080/",
          "height": 297
        }
      },
      "source": [
        "X = data.iloc[:,[0, 1, 2, 3, 4, 5, 6, 7, 8, 9, 10]]\n",
        "y = data.iloc[:,[11]]\n",
        "model = ExtraTreesClassifier()\n",
        "model.fit(X,y)\n",
        "\n",
        "feat_importances = pd.Series(model.feature_importances_, index=X.columns)\n",
        "feat_importances.nlargest(11).plot(kind='barh')\n",
        "plt.show()"
      ],
      "execution_count": null,
      "outputs": [
        {
          "output_type": "stream",
          "text": [
            "/usr/local/lib/python3.6/dist-packages/ipykernel_launcher.py:5: DataConversionWarning: A column-vector y was passed when a 1d array was expected. Please change the shape of y to (n_samples,), for example using ravel().\n",
            "  \"\"\"\n"
          ],
          "name": "stderr"
        },
        {
          "output_type": "display_data",
          "data": {
            "image/png": "[encoded data removed]",
            "text/plain": [
              "<Figure size 432x288 with 1 Axes>"
            ]
          },
          "metadata": {
            "tags": [],
            "needs_background": "light"
          }
        }
      ]
    },
    {
      "cell_type": "markdown",
      "metadata": {
        "id": "NxWdlZ8MKwjU"
      },
      "source": [
        "Correlation Matrix Heatmap"
      ]
    },
    {
      "cell_type": "code",
      "metadata": {
        "id": "ypsLwBkBnOXm",
        "outputId": "d608607e-30ce-41a5-b7f1-65a9104027ef",
        "colab": {
          "base_uri": "https://localhost:8080/",
          "height": 962
        }
      },
      "source": [
        "corrmat = data.corr()\n",
        "top_corr_features = corrmat.index\n",
        "plt.figure(figsize=(15,15))\n",
        "\n",
        "sb.heatmap(data[top_corr_features].corr(),annot=True,cmap=\"RdYlGn\")\n",
        "plt.show()"
      ],
      "execution_count": null,
      "outputs": [
        {
          "output_type": "display_data",
          "data": {
            "image/png": "[encoded data removed]",
            "text/plain": [
              "<Figure size 1080x1080 with 2 Axes>"
            ]
          },
          "metadata": {
            "tags": [],
            "needs_background": "light"
          }
        }
      ]
    },
    {
      "cell_type": "markdown",
      "metadata": {
        "id": "LCLvG3mEx6pZ"
      },
      "source": [
        "#Split Train and Test Dataset\n",
        "\n",
        "Berdasarkan feature selection diatas,  maka berikut feature yang digunakan"
      ]
    },
    {
      "cell_type": "code",
      "metadata": {
        "id": "uAebVwOk1pkq"
      },
      "source": [
        "# Split dengan target \"review_scores_rating\"\n",
        "# Selected Feature\n",
        "X = data[[\"accommodates\", \"beds\", \"price\", \"guests_included\", \"extra_people\", \"minimum_nights\", \"maximum_nights\"]]\n",
        "Y = data[\"review_scores_rating\"]\n",
        "XTrain, XTest, YTrain, YTest = train_test_split(X, Y, test_size=0.2)\n",
        "\n",
        "# All Feature\n",
        "X1 = data[[\"property_type\", \"room_type\", \"accommodates\", \"bathrooms\", \"bedrooms\", \"beds\", \"guests_included\", \"extra_people\", \"minimum_nights\", \"maximum_nights\", \"price\"]]\n",
        "Y1 = data[\"review_scores_rating\"]\n",
        "XTrain1, XTest1, YTrain1, YTest1 = train_test_split(X1, Y1, test_size=0.2)\n",
        "\n",
        "# Split dengan target \"price\"\n",
        "# Selected Feature\n",
        "Xprice = data[[\"accommodates\", \"beds\", \"extra_people\", \"minimum_nights\", \"maximum_nights\", \"review_scores_rating\"]]\n",
        "Yprice = data[\"price\"]\n",
        "XTrainprice, XTestprice, YTrainprice, YTestprice = train_test_split(Xprice, Yprice, test_size=0.2)\n",
        "\n",
        "# All Feature\n",
        "Xprice1 = data[[\"property_type\", \"room_type\", \"accommodates\", \"bathrooms\", \"bedrooms\", \"beds\", \"guests_included\", \"extra_people\", \"minimum_nights\", \"maximum_nights\", \"review_scores_rating\"]]\n",
        "Yprice1 = data[\"price\"]\n",
        "XTrainprice1, XTestprice1, YTrainprice1, YTestprice1 = train_test_split(Xprice1, Yprice1, test_size=0.2)"
      ],
      "execution_count": null,
      "outputs": []
    },
    {
      "cell_type": "markdown",
      "metadata": {
        "id": "uFrurt_h1kry"
      },
      "source": [
        "#Linear Regression"
      ]
    },
    {
      "cell_type": "code",
      "metadata": {
        "id": "BtuCQgJi1Jm6",
        "outputId": "4ee13d05-5994-4454-c39e-b2debf5417fb",
        "colab": {
          "base_uri": "https://localhost:8080/",
          "height": 440
        }
      },
      "source": [
        "reg = LinearRegression()  \n",
        "reg.fit(XTrainprice, YTrainprice)\n",
        "y_pred = reg.predict(XTestprice)\n",
        "\n",
        "df = pd.DataFrame({'Actual': YTestprice, 'Predicted': y_pred})\n",
        "print(df.head(25))"
      ],
      "execution_count": null,
      "outputs": [
        {
          "output_type": "stream",
          "text": [
            "        Actual     Predicted\n",
            "7634   11048.0  22149.665313\n",
            "500    13798.0  40187.632181\n",
            "9611    6007.0  11616.410174\n",
            "8138    2460.0  13030.512321\n",
            "9138    9975.0  13824.869646\n",
            "5032    7487.0  14751.631680\n",
            "1809    5041.0   6155.302344\n",
            "8130    3540.0  19024.556634\n",
            "4178   34967.0  59340.280452\n",
            "5290    6007.0  28953.552513\n",
            "9569    9761.0   3702.362480\n",
            "10514   9761.0  12907.755997\n",
            "2213    9947.0  15143.160783\n",
            "3871   30033.0  57177.866837\n",
            "3927    9546.0  31778.181297\n",
            "7132   18020.0  27165.678411\n",
            "11058   8045.0  16001.566366\n",
            "1639    2467.0  46384.690625\n",
            "5454    9975.0  28695.195868\n",
            "11592   6007.0  16880.992337\n",
            "1686    8045.0   7987.974738\n",
            "9516    3325.0  20469.459945\n",
            "9638    3530.0  13331.772618\n",
            "1207   19951.0  40326.511201\n",
            "7947    9947.0  24184.790969\n"
          ],
          "name": "stdout"
        }
      ]
    },
    {
      "cell_type": "code",
      "metadata": {
        "id": "STmzcH6d7KvY",
        "outputId": "b0550723-fb5d-44b1-8bfc-e7b13b72bfd8",
        "colab": {
          "base_uri": "https://localhost:8080/",
          "height": 66
        }
      },
      "source": [
        "print('Mean Absolute Error     :', metrics.mean_absolute_error(YTestprice, y_pred))  \n",
        "print('Mean Squared Error      :', metrics.mean_squared_error(YTestprice, y_pred))  \n",
        "print('Root Mean Squared Error :', np.sqrt(metrics.mean_squared_error(YTestprice, y_pred)))"
      ],
      "execution_count": null,
      "outputs": [
        {
          "output_type": "stream",
          "text": [
            "Mean Absolute Error     : 22359.432485484216\n",
            "Mean Squared Error      : 4960141396.941823\n",
            "Root Mean Squared Error : 70428.27129031226\n"
          ],
          "name": "stdout"
        }
      ]
    },
    {
      "cell_type": "markdown",
      "metadata": {
        "id": "DOwdLDFb9Nu_"
      },
      "source": [
        "Secara teori, feature engineering serta feature selection dapat memperbaik hasil yang didapatkan.\n",
        "\n",
        "Dalam kasus ini, feature engineering berperan besar dalam preprocessing data karena data awal memiliki nilai yang tidak sesuai. Namun untuk feature selection kurang terlihat pengaruhnya, karena didapatkan hasil error yang serupa. Dapat dilihat dibawah ini:"
      ]
    },
    {
      "cell_type": "code",
      "metadata": {
        "id": "0kN37Cv59KFh",
        "outputId": "44927acb-1af2-47e8-c860-a0ac84653e63",
        "colab": {
          "base_uri": "https://localhost:8080/",
          "height": 66
        }
      },
      "source": [
        "reg = LinearRegression()  \n",
        "reg.fit(XTrainprice1, YTrainprice1)\n",
        "y_pred = reg.predict(XTestprice1)\n",
        "\n",
        "print('Mean Absolute Error     :', metrics.mean_absolute_error(YTestprice1, y_pred))  \n",
        "print('Mean Squared Error      :', metrics.mean_squared_error(YTestprice1, y_pred))  \n",
        "print('Root Mean Squared Error :', np.sqrt(metrics.mean_squared_error(YTestprice1, y_pred)))"
      ],
      "execution_count": null,
      "outputs": [
        {
          "output_type": "stream",
          "text": [
            "Mean Absolute Error     : 24182.796186475884\n",
            "Mean Squared Error      : 6636527256.579342\n",
            "Root Mean Squared Error : 81464.88357924132\n"
          ],
          "name": "stdout"
        }
      ]
    },
    {
      "cell_type": "markdown",
      "metadata": {
        "id": "NCQ-QFTRyHwi"
      },
      "source": [
        "#Nearest-Neighbor Classification"
      ]
    },
    {
      "cell_type": "code",
      "metadata": {
        "id": "-s7VdFZiyIfl",
        "outputId": "75d3d2b4-23fc-43eb-d65e-158aecb5f2f4",
        "colab": {
          "base_uri": "https://localhost:8080/",
          "height": 33
        }
      },
      "source": [
        "clf = KNeighborsClassifier(n_neighbors = 3)\n",
        "clf.fit(XTrain, YTrain)\n",
        "Ypred  = clf.predict(XTest)\n",
        "\n",
        "print(\"Accuracy: \", metrics.accuracy_score(YTest, Ypred))"
      ],
      "execution_count": null,
      "outputs": [
        {
          "output_type": "stream",
          "text": [
            "Accuracy:  0.08198489751887811\n"
          ],
          "name": "stdout"
        }
      ]
    },
    {
      "cell_type": "markdown",
      "metadata": {
        "id": "QxS_qgusg6VX"
      },
      "source": [
        "Hasil tersebut didapatkan jika menggunakan K = 3, sedangkan hasil terbaik didapatkan menggunakan K = 22, dapat dilihat pada kode dibawah ini:"
      ]
    },
    {
      "cell_type": "code",
      "metadata": {
        "id": "2TUzPUgEBSeA",
        "outputId": "0c31765f-124d-4c4f-dcbe-57d17305c8a8",
        "colab": {
          "base_uri": "https://localhost:8080/",
          "height": 33
        }
      },
      "source": [
        "MaxK = 30\n",
        "acc = np.zeros((MaxK-1))\n",
        "\n",
        "for n in range(1, MaxK):    \n",
        "    clf = KNeighborsClassifier(n_neighbors = n)\n",
        "    clf.fit(XTrain, YTrain)\n",
        "    Ypred  = clf.predict(XTest)\n",
        "    acc[n - 1] = metrics.accuracy_score(YTest, Ypred)\n",
        "\n",
        "print(\"Best Accuracy : %f\" % acc.max(), \", with k = \", acc.argmax() + 1)"
      ],
      "execution_count": null,
      "outputs": [
        {
          "output_type": "stream",
          "text": [
            "Best Accuracy : 0.126214 , with k =  22\n"
          ],
          "name": "stdout"
        }
      ]
    },
    {
      "cell_type": "markdown",
      "metadata": {
        "id": "osPCQo2JAuvI"
      },
      "source": [
        "Secara teori, feature engineering serta feature selection dapat memperbaik hasil yang didapatkan.\n",
        "\n",
        "Dalam kasus ini, feature engineering berperan besar dalam preprocessing data karena data awal memiliki nilai yang tidak sesuai. Namun untuk feature selection kurang terlihat pengaruhnya, karena didapatkan hasil accuracy yang serupa. Dapat dilihat dibawah ini:"
      ]
    },
    {
      "cell_type": "code",
      "metadata": {
        "id": "aEgY0JBAAvt_",
        "outputId": "12ac1841-8440-4eee-ef84-c504efe91cf2",
        "colab": {
          "base_uri": "https://localhost:8080/",
          "height": 33
        }
      },
      "source": [
        "clf = KNeighborsClassifier(n_neighbors = 3)\n",
        "clf.fit(XTrain1, YTrain1)\n",
        "Ypred  = clf.predict(XTest1)\n",
        "\n",
        "print(\"Accuracy: \", metrics.accuracy_score(YTest1, Ypred))"
      ],
      "execution_count": null,
      "outputs": [
        {
          "output_type": "stream",
          "text": [
            "Accuracy:  0.09061488673139159\n"
          ],
          "name": "stdout"
        }
      ]
    },
    {
      "cell_type": "code",
      "metadata": {
        "id": "_R-H0M-8BfBq",
        "outputId": "2181aabd-28e4-4720-eb24-4dc07bb42b63",
        "colab": {
          "base_uri": "https://localhost:8080/",
          "height": 33
        }
      },
      "source": [
        "MaxK = 30\n",
        "acc = np.zeros((MaxK-1))\n",
        "\n",
        "for n in range(1, MaxK):    \n",
        "    clf = KNeighborsClassifier(n_neighbors = n)\n",
        "    clf.fit(XTrain, YTrain)\n",
        "    Ypred  = clf.predict(XTest)\n",
        "    acc[n - 1] = metrics.accuracy_score(YTest, Ypred)\n",
        "\n",
        "print(\"Best Accuracy : %f\" % acc.max(), \", with k = \", acc.argmax() + 1)"
      ],
      "execution_count": null,
      "outputs": [
        {
          "output_type": "stream",
          "text": [
            "Best Accuracy : 0.126214 , with k =  22\n"
          ],
          "name": "stdout"
        }
      ]
    },
    {
      "cell_type": "markdown",
      "metadata": {
        "id": "qJVUbKwVyIrz"
      },
      "source": [
        "#Support-Vector Machine Classification"
      ]
    },
    {
      "cell_type": "code",
      "metadata": {
        "id": "jMp6aW4_yI56",
        "outputId": "23f7b191-27dd-46f6-9265-6a71a5cb3cf8",
        "colab": {
          "base_uri": "https://localhost:8080/",
          "height": 33
        }
      },
      "source": [
        "clf = SVC()\n",
        "clf.fit(XTrain, YTrain)\n",
        "Ypred  = clf.predict(XTest)\n",
        "\n",
        "print(\"Accuracy: \", metrics.accuracy_score(YTest, Ypred))"
      ],
      "execution_count": null,
      "outputs": [
        {
          "output_type": "stream",
          "text": [
            "Accuracy:  0.16936353829557713\n"
          ],
          "name": "stdout"
        }
      ]
    },
    {
      "cell_type": "markdown",
      "metadata": {
        "id": "fiHCwj2TH-_L"
      },
      "source": [
        "Secara teori, feature engineering serta feature selection dapat memperbaik hasil yang didapatkan.\n",
        "\n",
        "Dalam kasus ini, feature engineering berperan besar dalam preprocessing data karena data awal memiliki nilai yang tidak sesuai. Namun untuk feature selection kurang terlihat pengaruhnya, karena didapatkan hasil accuracy yang serupa. Dapat dilihat dibawah ini:"
      ]
    },
    {
      "cell_type": "code",
      "metadata": {
        "id": "wMSH9Y7FIEOv",
        "outputId": "65fe1ab9-5f04-475c-e6d2-f81aa05205ba",
        "colab": {
          "base_uri": "https://localhost:8080/",
          "height": 33
        }
      },
      "source": [
        "clf = SVC()\n",
        "clf.fit(XTrain1, YTrain1)\n",
        "Ypred  = clf.predict(XTest1)\n",
        "\n",
        "print(\"Accuracy: \", metrics.accuracy_score(YTest1, Ypred))"
      ],
      "execution_count": null,
      "outputs": [
        {
          "output_type": "stream",
          "text": [
            "Accuracy:  0.1796116504854369\n"
          ],
          "name": "stdout"
        }
      ]
    },
    {
      "cell_type": "markdown",
      "metadata": {
        "id": "tOLgW8kcyJBf"
      },
      "source": [
        "#Classification Tree"
      ]
    },
    {
      "cell_type": "code",
      "metadata": {
        "id": "z52319JuyJKv",
        "outputId": "f38e06a6-9745-4f5a-e549-af401d8ceb02",
        "colab": {
          "base_uri": "https://localhost:8080/",
          "height": 33
        }
      },
      "source": [
        "clf = DecisionTreeClassifier(criterion=\"gini\")\n",
        "clf.fit(XTrain, YTrain)\n",
        "Ypred  = clf.predict(XTest)\n",
        "\n",
        "print(\"Accuracy: \", metrics.accuracy_score(YTest, Ypred))"
      ],
      "execution_count": null,
      "outputs": [
        {
          "output_type": "stream",
          "text": [
            "Accuracy:  0.12459546925566344\n"
          ],
          "name": "stdout"
        }
      ]
    },
    {
      "cell_type": "markdown",
      "metadata": {
        "id": "400tkn6JIW4k"
      },
      "source": [
        "Secara teori, feature engineering serta feature selection dapat memperbaik hasil yang didapatkan.\n",
        "\n",
        "Dalam kasus ini, feature engineering berperan besar dalam preprocessing data karena data awal memiliki nilai yang tidak sesuai. Namun untuk feature selection kurang terlihat pengaruhnya, karena didapatkan hasil accuracy yang serupa. Dapat dilihat dibawah ini:"
      ]
    },
    {
      "cell_type": "code",
      "metadata": {
        "id": "pbyujvZRIYFF",
        "outputId": "a25eda79-bab1-457d-ef5a-408a564d2862",
        "colab": {
          "base_uri": "https://localhost:8080/",
          "height": 33
        }
      },
      "source": [
        "clf = DecisionTreeClassifier(criterion=\"gini\")\n",
        "clf.fit(XTrain1, YTrain1)\n",
        "Ypred  = clf.predict(XTest1)\n",
        "\n",
        "print(\"Accuracy: \", metrics.accuracy_score(YTest1, Ypred))"
      ],
      "execution_count": null,
      "outputs": [
        {
          "output_type": "stream",
          "text": [
            "Accuracy:  0.12405609492988134\n"
          ],
          "name": "stdout"
        }
      ]
    },
    {
      "cell_type": "markdown",
      "metadata": {
        "id": "0tG_fvy0I3Yk"
      },
      "source": [
        "# Conclusion\n",
        "\n",
        "\n",
        "*   Metric yang digunakan untuk menghitung accuracy berasal dari library  sklearn metrics kemudian memanggil fungsi metrics.accuracy_score.\n",
        "*   Jika dibandingkan dari ketiga metode classification, SVM mendapatkan hasil yang terbaik dengan accuracy 17.96% diikuti dengan KNN 12.62% dan Decision Tree dengan accuracy 12.45%.\n",
        "*   Ketiga accuracy yang didapatkan sangatlah kecil, hal ini dapat disebabkan karena banyaknya class output ditambah lagi ada beberapa class yang memiliki input sedikit, oleh karena itu akan dilakukan upsampling pada setiap kelas.\n"
      ]
    },
    {
      "cell_type": "markdown",
      "metadata": {
        "id": "wHqqBPKldMRl"
      },
      "source": [
        "#Resampling\n",
        "Resampling dapat membuat hasil lebih baik serta membuat data menjadi lebih balance, dapat dilihat sebelumnya bahwa terdapat beberapa kelas yang mempunyai inputan sangat sedikit, oleh karena itu dilakukan upsampling agar seluruh kelas memiliki jumlah data yang sama. Namun resampling dapat menyebabkan adanya data train dan test dengan nilai yang sama."
      ]
    },
    {
      "cell_type": "code",
      "metadata": {
        "id": "byrCa18ZgQwt",
        "outputId": "e5521619-60ca-434f-bffd-69306aed6ff6",
        "colab": {
          "base_uri": "https://localhost:8080/",
          "height": 651
        }
      },
      "source": [
        "resamp = data\n",
        "majority = resamp[resamp[\"review_scores_rating\"]==100]\n",
        "new = majority\n",
        "\n",
        "for i in range(100) :\n",
        "  if i in resamp[\"review_scores_rating\"].values:\n",
        "    minority = resamp[resamp[\"review_scores_rating\"]==i]\n",
        "    minority_upsampled = resample(minority,replace=True, n_samples=len(majority), random_state=27)\n",
        "    new = pd.concat([new, minority_upsampled])\n",
        "    \n",
        "print(new[\"review_scores_rating\"].value_counts())"
      ],
      "execution_count": null,
      "outputs": [
        {
          "output_type": "stream",
          "text": [
            "78.0     1539\n",
            "74.0     1539\n",
            "100.0    1539\n",
            "81.0     1539\n",
            "88.0     1539\n",
            "67.0     1539\n",
            "95.0     1539\n",
            "73.0     1539\n",
            "40.0     1539\n",
            "87.0     1539\n",
            "85.0     1539\n",
            "94.0     1539\n",
            "72.0     1539\n",
            "65.0     1539\n",
            "79.0     1539\n",
            "86.0     1539\n",
            "93.0     1539\n",
            "50.0     1539\n",
            "96.0     1539\n",
            "80.0     1539\n",
            "89.0     1539\n",
            "82.0     1539\n",
            "92.0     1539\n",
            "99.0     1539\n",
            "30.0     1539\n",
            "71.0     1539\n",
            "84.0     1539\n",
            "91.0     1539\n",
            "98.0     1539\n",
            "60.0     1539\n",
            "70.0     1539\n",
            "76.0     1539\n",
            "83.0     1539\n",
            "90.0     1539\n",
            "97.0     1539\n",
            "77.0     1539\n",
            "75.0     1539\n",
            "20.0     1539\n",
            "Name: review_scores_rating, dtype: int64\n"
          ],
          "name": "stdout"
        }
      ]
    },
    {
      "cell_type": "markdown",
      "metadata": {
        "id": "4wtrRZJAmG82"
      },
      "source": [
        "##Feature Selection Resampled\n",
        "Hasil yang didapatkan pada feature selection sebelum dan sesudah dilakukan resampling tidak berbeda jauh, maka feature yang dipilih untuk dilakukan train-test tidak berubah."
      ]
    },
    {
      "cell_type": "markdown",
      "metadata": {
        "id": "gxCl8dGdmPff"
      },
      "source": [
        "Feature Importance terhadap kolom \"price\" menggunakan algoritma Extra Trees classifier"
      ]
    },
    {
      "cell_type": "code",
      "metadata": {
        "id": "sA0xXceDmSVG",
        "outputId": "42d8a472-aa1d-4d7c-d1b8-d0dd608b7c09",
        "colab": {
          "base_uri": "https://localhost:8080/",
          "height": 297
        }
      },
      "source": [
        "X = new.iloc[:,[0, 1, 2, 3, 4, 5, 7, 8, 9, 10, 11]]\n",
        "y = new.iloc[:,[6]]\n",
        "model = ExtraTreesClassifier()\n",
        "model.fit(X,y)\n",
        "\n",
        "feat_importances = pd.Series(model.feature_importances_, index=X.columns)\n",
        "feat_importances.nlargest(11).plot(kind='barh')\n",
        "plt.show()"
      ],
      "execution_count": null,
      "outputs": [
        {
          "output_type": "stream",
          "text": [
            "/usr/local/lib/python3.6/dist-packages/ipykernel_launcher.py:4: DataConversionWarning: A column-vector y was passed when a 1d array was expected. Please change the shape of y to (n_samples,), for example using ravel().\n",
            "  after removing the cwd from sys.path.\n"
          ],
          "name": "stderr"
        },
        {
          "output_type": "display_data",
          "data": {
            "image/png": "[encoded data removed]",
            "text/plain": [
              "<Figure size 432x288 with 1 Axes>"
            ]
          },
          "metadata": {
            "tags": [],
            "needs_background": "light"
          }
        }
      ]
    },
    {
      "cell_type": "markdown",
      "metadata": {
        "id": "FtuEPKhzmUw0"
      },
      "source": [
        "Feature Importance terhadap kolom \"review_scores_rating\" menggunakan algoritma Extra Trees classifier"
      ]
    },
    {
      "cell_type": "code",
      "metadata": {
        "id": "U-lY4ND_mW-w",
        "outputId": "6dccf9f0-9331-471f-9ff7-d729c5ad8b60",
        "colab": {
          "base_uri": "https://localhost:8080/",
          "height": 297
        }
      },
      "source": [
        "X = new.iloc[:,[0, 1, 2, 3, 4, 5, 6, 7, 8, 9, 10]]\n",
        "y = new.iloc[:,[11]]\n",
        "model = ExtraTreesClassifier()\n",
        "model.fit(X,y)\n",
        "\n",
        "feat_importances = pd.Series(model.feature_importances_, index=X.columns)\n",
        "feat_importances.nlargest(11).plot(kind='barh')\n",
        "plt.show()"
      ],
      "execution_count": null,
      "outputs": [
        {
          "output_type": "stream",
          "text": [
            "/usr/local/lib/python3.6/dist-packages/ipykernel_launcher.py:4: DataConversionWarning: A column-vector y was passed when a 1d array was expected. Please change the shape of y to (n_samples,), for example using ravel().\n",
            "  after removing the cwd from sys.path.\n"
          ],
          "name": "stderr"
        },
        {
          "output_type": "display_data",
          "data": {
            "image/png": "[encoded data removed]",
            "text/plain": [
              "<Figure size 432x288 with 1 Axes>"
            ]
          },
          "metadata": {
            "tags": [],
            "needs_background": "light"
          }
        }
      ]
    },
    {
      "cell_type": "markdown",
      "metadata": {
        "id": "8wEBWabamaCq"
      },
      "source": [
        "Correlation Matrix Heatmap"
      ]
    },
    {
      "cell_type": "code",
      "metadata": {
        "id": "UUbpG5nlmcpO",
        "outputId": "3772ff00-8d8f-41c8-e001-d7bc18d40204",
        "colab": {
          "base_uri": "https://localhost:8080/",
          "height": 962
        }
      },
      "source": [
        "corrmat = new.corr()\n",
        "top_corr_features = corrmat.index\n",
        "plt.figure(figsize=(15,15))\n",
        "\n",
        "sb.heatmap(data[top_corr_features].corr(),annot=True,cmap=\"RdYlGn\")\n",
        "plt.show()"
      ],
      "execution_count": null,
      "outputs": [
        {
          "output_type": "display_data",
          "data": {
            "image/png": "[encoded data removed]",
            "text/plain": [
              "<Figure size 1080x1080 with 2 Axes>"
            ]
          },
          "metadata": {
            "tags": [],
            "needs_background": "light"
          }
        }
      ]
    },
    {
      "cell_type": "markdown",
      "metadata": {
        "id": "Rj-DghR_d_q_"
      },
      "source": [
        "##Split Train and Test Resampled Dataset"
      ]
    },
    {
      "cell_type": "code",
      "metadata": {
        "id": "gmqip6gydOpW"
      },
      "source": [
        "# Split dengan target \"review_scores_rating\"\n",
        "# Selected Feature\n",
        "X1 = new[[\"accommodates\", \"beds\", \"price\", \"guests_included\", \"extra_people\", \"minimum_nights\", \"maximum_nights\"]]\n",
        "Y1 = new[\"review_scores_rating\"]\n",
        "XTrain1, XTest1, YTrain1, YTest1 = train_test_split(X1, Y1, test_size=0.2)\n",
        "\n",
        "# All Feature\n",
        "X2 = new[[\"property_type\", \"room_type\", \"accommodates\", \"bathrooms\", \"bedrooms\", \"beds\", \"guests_included\", \"extra_people\", \"minimum_nights\", \"maximum_nights\", \"price\"]]\n",
        "Y2 = new[\"review_scores_rating\"]\n",
        "XTrain2, XTest2, YTrain2, YTest2 = train_test_split(X2, Y2, test_size=0.2)\n",
        "\n",
        "# Split dengan target \"price\"\n",
        "# Selected Feature\n",
        "Xprice1 = new[[\"accommodates\", \"beds\", \"extra_people\", \"minimum_nights\", \"maximum_nights\", \"review_scores_rating\"]]\n",
        "Yprice1 = new[\"price\"]\n",
        "XTrainprice1, XTestprice1, YTrainprice1, YTestprice1 = train_test_split(Xprice1, Yprice1, test_size=0.2)\n",
        "\n",
        "# All Feature\n",
        "Xprice2 = new[[\"accommodates\", \"beds\", \"extra_people\", \"minimum_nights\", \"maximum_nights\", \"review_scores_rating\"]]\n",
        "Yprice2 = new[\"price\"]\n",
        "XTrainprice2, XTestprice2, YTrainprice2, YTestprice2 = train_test_split(Xprice2, Yprice2, test_size=0.2)"
      ],
      "execution_count": null,
      "outputs": []
    },
    {
      "cell_type": "markdown",
      "metadata": {
        "id": "-uKiPh05iKU4"
      },
      "source": [
        "##Linear Regression Resample"
      ]
    },
    {
      "cell_type": "markdown",
      "metadata": {
        "id": "2O2aWfVEil3G"
      },
      "source": [
        "Linear Regression Resampled dengan feature yang telah dipilih"
      ]
    },
    {
      "cell_type": "code",
      "metadata": {
        "id": "mVLToj-6hbVr",
        "outputId": "da139286-ae84-440f-d3a9-6b0049ddeb13",
        "colab": {
          "base_uri": "https://localhost:8080/",
          "height": 66
        }
      },
      "source": [
        "reg = LinearRegression()  \n",
        "reg.fit(XTrainprice1, YTrainprice1)\n",
        "y_pred = reg.predict(XTestprice1)\n",
        "\n",
        "print('Mean Absolute Error     :', metrics.mean_absolute_error(YTestprice1, y_pred))  \n",
        "print('Mean Squared Error      :', metrics.mean_squared_error(YTestprice1, y_pred))  \n",
        "print('Root Mean Squared Error :', np.sqrt(metrics.mean_squared_error(YTestprice1, y_pred)))"
      ],
      "execution_count": null,
      "outputs": [
        {
          "output_type": "stream",
          "text": [
            "Mean Absolute Error     : 19543.778560197767\n",
            "Mean Squared Error      : 4526425588.627297\n",
            "Root Mean Squared Error : 67278.71571773125\n"
          ],
          "name": "stdout"
        }
      ]
    },
    {
      "cell_type": "markdown",
      "metadata": {
        "id": "mInNUk4nivHD"
      },
      "source": [
        "Linear Regression Resampled dengan seluruh feature"
      ]
    },
    {
      "cell_type": "code",
      "metadata": {
        "id": "-FpTEcSLiNgm",
        "outputId": "c7747565-d19e-4d30-829d-e81116ab41fd",
        "colab": {
          "base_uri": "https://localhost:8080/",
          "height": 66
        }
      },
      "source": [
        "reg = LinearRegression()  \n",
        "reg.fit(XTrainprice2, YTrainprice2)\n",
        "y_pred = reg.predict(XTestprice2)\n",
        "\n",
        "print('Mean Absolute Error     :', metrics.mean_absolute_error(YTestprice2, y_pred))  \n",
        "print('Mean Squared Error      :', metrics.mean_squared_error(YTestprice2, y_pred))  \n",
        "print('Root Mean Squared Error :', np.sqrt(metrics.mean_squared_error(YTestprice2, y_pred)))"
      ],
      "execution_count": null,
      "outputs": [
        {
          "output_type": "stream",
          "text": [
            "Mean Absolute Error     : 19407.308381764935\n",
            "Mean Squared Error      : 4414531171.7429085\n",
            "Root Mean Squared Error : 66441.93835028376\n"
          ],
          "name": "stdout"
        }
      ]
    },
    {
      "cell_type": "markdown",
      "metadata": {
        "id": "Icai2zviixFc"
      },
      "source": [
        "Hasil Linear Regression setelah dilakukan resampling menjadi lebih baik, namun feature selection yang dilakukan kurang terlihat keuntungannya"
      ]
    },
    {
      "cell_type": "markdown",
      "metadata": {
        "id": "yGZlrqeIeJ4j"
      },
      "source": [
        "##Nearest-Neighbor Classification Resampled"
      ]
    },
    {
      "cell_type": "markdown",
      "metadata": {
        "id": "W_lynCOqjC_a"
      },
      "source": [
        "KNN Resampled dengan feature yang telah dipilih"
      ]
    },
    {
      "cell_type": "code",
      "metadata": {
        "id": "nVMkz0rd0vyG",
        "outputId": "668882f4-8b58-4259-ead1-f5def47382f0",
        "colab": {
          "base_uri": "https://localhost:8080/",
          "height": 33
        }
      },
      "source": [
        "clf = KNeighborsClassifier(n_neighbors = 3)\n",
        "clf.fit(XTrain1, YTrain1)\n",
        "Ypred  = clf.predict(XTest1)\n",
        "\n",
        "print(\"Accuracy: \", metrics.accuracy_score(YTest1, Ypred))"
      ],
      "execution_count": null,
      "outputs": [
        {
          "output_type": "stream",
          "text": [
            "Accuracy:  0.7122339061297769\n"
          ],
          "name": "stdout"
        }
      ]
    },
    {
      "cell_type": "markdown",
      "metadata": {
        "id": "MHhi34m8oAMf"
      },
      "source": [
        "Hasil tersebut didapatkan jika menggunakan K = 3, sedangkan hasil terbaik didapatkan menggunakan K = 2, dapat dilihat pada kode dibawah ini:"
      ]
    },
    {
      "cell_type": "code",
      "metadata": {
        "id": "zSDWwE-XoC5j",
        "outputId": "55f1462f-371c-4814-8ca3-cfc661b8d79d",
        "colab": {
          "base_uri": "https://localhost:8080/",
          "height": 33
        }
      },
      "source": [
        "MaxK = 30\n",
        "acc = np.zeros((MaxK-1))\n",
        "\n",
        "for n in range(1, MaxK):    \n",
        "    clf = KNeighborsClassifier(n_neighbors = n)\n",
        "    clf.fit(XTrain1, YTrain1)\n",
        "    Ypred  = clf.predict(XTest1)\n",
        "    acc[n - 1] = metrics.accuracy_score(YTest1, Ypred)\n",
        "\n",
        "print(\"Best Accuracy : %f\" % acc.max(), \", with k = \", acc.argmax() + 1)"
      ],
      "execution_count": null,
      "outputs": [
        {
          "output_type": "stream",
          "text": [
            "Best Accuracy : 0.727195 , with k =  2\n"
          ],
          "name": "stdout"
        }
      ]
    },
    {
      "cell_type": "markdown",
      "metadata": {
        "id": "OZMHGf52jDii"
      },
      "source": [
        "KNN Resampled dengan seluruh feature"
      ]
    },
    {
      "cell_type": "code",
      "metadata": {
        "id": "XkgvLNDvjDsD",
        "outputId": "c6f9a437-0a1d-4dc8-c2b5-b78eab1bd86a",
        "colab": {
          "base_uri": "https://localhost:8080/",
          "height": 33
        }
      },
      "source": [
        "clf = KNeighborsClassifier(n_neighbors = 3)\n",
        "clf.fit(XTrain2, YTrain2)\n",
        "Ypred  = clf.predict(XTest2)\n",
        "\n",
        "print(\"Accuracy: \", metrics.accuracy_score(YTest2, Ypred))"
      ],
      "execution_count": null,
      "outputs": [
        {
          "output_type": "stream",
          "text": [
            "Accuracy:  0.7290758314097632\n"
          ],
          "name": "stdout"
        }
      ]
    },
    {
      "cell_type": "code",
      "metadata": {
        "id": "snNC3p4aoGch",
        "outputId": "3b68b609-59fe-4351-ee0f-eb1cef4e84ae",
        "colab": {
          "base_uri": "https://localhost:8080/",
          "height": 33
        }
      },
      "source": [
        "MaxK = 30\n",
        "acc = np.zeros((MaxK-1))\n",
        "\n",
        "for n in range(1, MaxK):    \n",
        "    clf = KNeighborsClassifier(n_neighbors = n)\n",
        "    clf.fit(XTrain2, YTrain2)\n",
        "    Ypred  = clf.predict(XTest2)\n",
        "    acc[n - 1] = metrics.accuracy_score(YTest2, Ypred)\n",
        "\n",
        "print(\"Best Accuracy : %f\" % acc.max(), \", with k = \", acc.argmax() + 1)"
      ],
      "execution_count": null,
      "outputs": [
        {
          "output_type": "stream",
          "text": [
            "Best Accuracy : 0.751475 , with k =  2\n"
          ],
          "name": "stdout"
        }
      ]
    },
    {
      "cell_type": "markdown",
      "metadata": {
        "id": "Bv_dGwcvjezP"
      },
      "source": [
        "Hasil KNN setelah dilakukan resampling menjadi jauh lebih baik dimana accuracy yang hanya 12% berubah menjadi 75%. Namun, feature selection yang dilakukan sekali lagi kurang terlihat keuntungannya. Hal ini dapat dikarenakan setiap data memiliki keterkaitan yang kurang signifikan, dapat dilihat juga pada bagian feature selection dimana skor yang didapatkan sangatkan kecil semua (mendekati 0)."
      ]
    },
    {
      "cell_type": "markdown",
      "metadata": {
        "id": "m5CkDEr7ePKJ"
      },
      "source": [
        "##Support-Vector Machine Resampled"
      ]
    },
    {
      "cell_type": "markdown",
      "metadata": {
        "id": "_2HDeyU8kCkC"
      },
      "source": [
        "SVM Resampled dengan feature yang telah dipilih"
      ]
    },
    {
      "cell_type": "code",
      "metadata": {
        "id": "8sVLNWp5kB1j",
        "outputId": "1194666e-93e0-4fb3-ba7b-62b4c4058aff",
        "colab": {
          "base_uri": "https://localhost:8080/",
          "height": 33
        }
      },
      "source": [
        "clf = SVC()\n",
        "clf.fit(XTrain1, YTrain1)\n",
        "Ypred1  = clf.predict(XTest1)\n",
        "\n",
        "print(\"Accuracy defaut: \", metrics.accuracy_score(YTest1, Ypred1))"
      ],
      "execution_count": null,
      "outputs": [
        {
          "output_type": "stream",
          "text": [
            "Accuracy defaut:  0.09147644695220997\n"
          ],
          "name": "stdout"
        }
      ]
    },
    {
      "cell_type": "markdown",
      "metadata": {
        "id": "pvEcFQvtkGhA"
      },
      "source": [
        "Hasil SVM yang didapatkan sangatlah kecil bahkan berkurang dibandingkan dengan sebelum dilakukan resampling. Hal ini dapat dikarenakan SVM bekerja dengan cara membuat garis batas antar data sehingga kurang cocok untung data dengan persebaran yang kurang baik. Setelah dilakukan upsampling, data yang didapatkan menjadi semakin kompleks. Telah dicoba juga beberapa SVM dengan kernel yang berbeda namun hasil terbaik tetap dengan kernel default yaitu rbf."
      ]
    },
    {
      "cell_type": "code",
      "metadata": {
        "id": "EDM6chZx33Qh",
        "outputId": "7c8afd85-9fb4-4fc7-8a2a-84631c94c7a7",
        "colab": {
          "base_uri": "https://localhost:8080/",
          "height": 50
        }
      },
      "source": [
        "clf = SVC(kernel='sigmoid')\n",
        "clf.fit(XTrain1, YTrain1)\n",
        "Ypred  = clf.predict(XTest1)\n",
        "\n",
        "print(\"Accuracy sigmoid: \", metrics.accuracy_score(YTest1, Ypred))\n",
        "\n",
        "clf = SVC(kernel='poly')\n",
        "clf.fit(XTrain1, YTrain1)\n",
        "Ypred  = clf.predict(XTest1)\n",
        "\n",
        "print(\"Accuracy poly: \", metrics.accuracy_score(YTest1, Ypred))"
      ],
      "execution_count": null,
      "outputs": [
        {
          "output_type": "stream",
          "text": [
            "Accuracy sigmoid:  0.06822262118491922\n",
            "Accuracy poly:  0.0524065999829016\n"
          ],
          "name": "stdout"
        }
      ]
    },
    {
      "cell_type": "markdown",
      "metadata": {
        "id": "9HbIDySWki-G"
      },
      "source": [
        "SVM Resampled dengan seluruh feature"
      ]
    },
    {
      "cell_type": "code",
      "metadata": {
        "id": "3u7YhsFwkowC",
        "outputId": "24f5f76e-49e6-4bae-fa4c-6cb7fad4c6b4",
        "colab": {
          "base_uri": "https://localhost:8080/",
          "height": 33
        }
      },
      "source": [
        "clf = SVC()\n",
        "clf.fit(XTrain2, YTrain2)\n",
        "Ypred  = clf.predict(XTest2)\n",
        "\n",
        "print(\"Accuracy defaut: \", metrics.accuracy_score(YTest2, Ypred))"
      ],
      "execution_count": null,
      "outputs": [
        {
          "output_type": "stream",
          "text": [
            "Accuracy defaut:  0.08856971873129862\n"
          ],
          "name": "stdout"
        }
      ]
    },
    {
      "cell_type": "markdown",
      "metadata": {
        "id": "KYac4w0MlITt"
      },
      "source": [
        "Oleh karena hasil yang didapatkan, dapat disimpulkan bahwa SVM kurang cocok untuk dataset yang telah dilakukan resampling dalam kasus ini"
      ]
    },
    {
      "cell_type": "markdown",
      "metadata": {
        "id": "VBBFdHjDeWnu"
      },
      "source": [
        "##Classification Tree Resampled"
      ]
    },
    {
      "cell_type": "markdown",
      "metadata": {
        "id": "or_B4qNGkzcD"
      },
      "source": [
        "Decision Tree Resampled dengan feature yang telah dipilih"
      ]
    },
    {
      "cell_type": "code",
      "metadata": {
        "id": "dismIsog5d6q",
        "outputId": "7bfc928d-55af-4b3b-e3db-36eaf0b00937",
        "colab": {
          "base_uri": "https://localhost:8080/",
          "height": 33
        }
      },
      "source": [
        "clf = DecisionTreeClassifier(criterion=\"gini\")\n",
        "clf.fit(XTrain1, YTrain1)\n",
        "Ypred  = clf.predict(XTest1)\n",
        "\n",
        "print(\"Accuracy: \", metrics.accuracy_score(YTest1, Ypred))"
      ],
      "execution_count": null,
      "outputs": [
        {
          "output_type": "stream",
          "text": [
            "Accuracy:  0.7611353338462854\n"
          ],
          "name": "stdout"
        }
      ]
    },
    {
      "cell_type": "markdown",
      "metadata": {
        "id": "IwsDoG8rk1ee"
      },
      "source": [
        "Decision Tree Resampled dengan seluruh feature"
      ]
    },
    {
      "cell_type": "code",
      "metadata": {
        "id": "iEhFIvzqk4GG",
        "outputId": "dca62a4d-0d4f-4ca3-f0b3-9680ab93ca17",
        "colab": {
          "base_uri": "https://localhost:8080/",
          "height": 33
        }
      },
      "source": [
        "clf = DecisionTreeClassifier(criterion=\"gini\")\n",
        "clf.fit(XTrain2, YTrain2)\n",
        "Ypred  = clf.predict(XTest2)\n",
        "\n",
        "print(\"Accuracy: \", metrics.accuracy_score(YTest2, Ypred))"
      ],
      "execution_count": null,
      "outputs": [
        {
          "output_type": "stream",
          "text": [
            "Accuracy:  0.7949901684192529\n"
          ],
          "name": "stdout"
        }
      ]
    },
    {
      "cell_type": "markdown",
      "metadata": {
        "id": "7-K5O5eik8Vz"
      },
      "source": [
        "Hasil KNN setelah dilakukan resampling menjadi jauh lebih baik dimana accuracy yang hanya 12% berubah menjadi 79%. Namun, feature selection yang dilakukan sekali lagi kurang terlihat keuntungannya. Hal ini dapat dikarenakan setiap data memiliki keterkaitan yang kurang signifikan, dapat dilihat juga pada bagian feature selection dimana skor yang didapatkan sangatkan kecil semua (mendekati 0)."
      ]
    },
    {
      "cell_type": "markdown",
      "metadata": {
        "id": "ylXrK-AelUoK"
      },
      "source": [
        "#Conclusion\n",
        "\n",
        "*   Hasil resampling yang didapatkan untuk metoda Linear Regression, KNN, dan Decision tree menjadi lebih baik, terutama pada KNN dan Decision Tree dimana accuracy bertambah dengan sangat banyak, menjadi lebih dari 70%.\n",
        "*   Metode SVM mendapatkan hasil accuracy yang berkurang. Hal ini dapat dikarenakan SVM bekerja dengan cara membuat garis batas antar data sehingga kurang cocok untung data dengan persebaran yang kurang baik. Setelah dilakukan upsampling, data yang didapatkan menjadi semakin kompleks.\n",
        "*   Feature selection kurang berperan baik dalam kasus ini, bahkan hasil yang didapatkan lebih baik jika menggunakan seluruh feature. Hal ini dapat dikarenakan data yang digunakan kurang baik, dapat dilihat pada bagian feature selection bahwa keterkaitan suatu data tidaklah terlalu besar.\n"
      ]
    },
    {
      "cell_type": "markdown",
      "metadata": {
        "id": "pWZLR5Huydd4"
      },
      "source": [
        "#Gaussian Mixture Model"
      ]
    },
    {
      "cell_type": "markdown",
      "metadata": {
        "id": "TgqhlJkSGHJC"
      },
      "source": [
        "Cara kerja Gaussian Mixture Model adalah :\n",
        "\n",
        "\n",
        "1.   Menempatkan *n* buah area gaussian dengan mean dan covariance random. Convariance matrix menentukan bentuk dari gaussian.\n",
        "2.   Untuk setiap input, hitung kemungkinan input tersebut berada dalam gaussian tertentu.\n",
        "3.   Untuk setiap input, hitung kemungkinan input berada dalam gaussian tertentu.\n",
        "4.   Untuk setiap input, hitung weight input terdapat gaussian tertentu.\n",
        "5.   Hitung dan update mean setiap input terhadap gaussian\n",
        "6.   Hitung dan update covariance setiap input terhadap gaussian\n",
        "7.   Ulangi langkah 2 hingga konstan\n"
      ]
    },
    {
      "cell_type": "code",
      "metadata": {
        "id": "9-8tbBpzyd0s",
        "outputId": "4f1dff16-4787-481f-9407-01954932a02c",
        "colab": {
          "base_uri": "https://localhost:8080/",
          "height": 310
        }
      },
      "source": [
        "GMM = GaussianMixture(n_components=2).fit(data)\n",
        "YPredict = GMM.predict(data)\n",
        "print(\"Y Predict : \", YPredict)\n",
        "\n",
        "plt.scatter(data.iloc[:,6], data.iloc[:,11],c = YPredict)\n",
        "plt.show()\n",
        "print(\"GMM: \", silhouette_score(data, YPredict))"
      ],
      "execution_count": null,
      "outputs": [
        {
          "output_type": "stream",
          "text": [
            "Y Predict :  [0 0 0 ... 0 0 0]\n"
          ],
          "name": "stdout"
        },
        {
          "output_type": "display_data",
          "data": {
            "image/png": "[encoded data removed]",
            "text/plain": [
              "<Figure size 432x288 with 1 Axes>"
            ]
          },
          "metadata": {
            "tags": [],
            "needs_background": "light"
          }
        },
        {
          "output_type": "stream",
          "text": [
            "GMM:  0.9772382537748067\n"
          ],
          "name": "stdout"
        }
      ]
    },
    {
      "cell_type": "markdown",
      "metadata": {
        "id": "uV9IvwIiLJVQ"
      },
      "source": [
        "Berikut persebaran data diantara kolom ke 6 (price) dan kolom ke 11 (review_scores_rating) yang dibagi menjadi 2 komponen. Terdapat komponen berwarna ungu dan kuning yang terpisah secara cukup jelas. Kolom price dan review_scores_rating dipilih karena memiliki nilai feature importance satu sama lain yang cukup besar jika menggunakan algoritma extra trees classifier yang telah dilakukan pada bagian feature selection sebelumnya.\n",
        "\n",
        "Nilai GMM didapatkan dari silhoutte_score dimana silhoutte score adalah sebuah ukuran keterkaitan antara setiap cluster dan cluster tetangganya. Nilai sikhoutte score berjarak diantara -1 hingga 1 dimana nilai yang tinggi (mendekati 1) berarti suatu object cocok terhadap cluster tersebut dan tidak cocok terhadap cluster lainnya, dan nilai yang rendah (nilai negatif) berarti kebalikannya. "
      ]
    },
    {
      "cell_type": "markdown",
      "metadata": {
        "id": "VV8UWot_yd6B"
      },
      "source": [
        "#K-Means Clustering"
      ]
    },
    {
      "cell_type": "markdown",
      "metadata": {
        "id": "OSrElR33E0sS"
      },
      "source": [
        "Cara kerja K-Means Clustering adalah :\n",
        "\n",
        "\n",
        "1.   Menempatkan *n* buah titik yang dinamakan centroid secara random.\n",
        "2.   Untuk setiap input, cari centroid terdekat dan tandai input tersebut menjadi cluster milik centroid tersebut.\n",
        "3.   Update lokasi seluruh centroid dengan cara menghitung nilai tengah atau rata-rata dari seluruh lokasi input yang termasuk dalam centroid tersebut.\n",
        "4.   Ulangi langkah 2 dan 3 hingga tidak terjadi adanya perubahan cluster. (Jika data masih belum stabil, pasti akan terjadi perubahan cluster serta perubahan lokasi centroid)\n"
      ]
    },
    {
      "cell_type": "code",
      "metadata": {
        "id": "HWW6PaSmyeAv",
        "outputId": "afa7d3f5-a468-4bb7-e8fc-bc131c399a9d",
        "colab": {
          "base_uri": "https://localhost:8080/",
          "height": 196
        }
      },
      "source": [
        "# Training using KMean\n",
        "KMN = KMeans(n_clusters=3).fit(data)\n",
        "KMNLabels = KMN.labels_\n",
        "KMNClusterCenters = KMN.cluster_centers_\n",
        "YPredict = KMN.predict(data)\n",
        "print(\"KMN Labels : \", KMNLabels)\n",
        "print(\"KMN Cluster Centre : \", KMNClusterCenters)\n",
        "print(\"Y Predict : \", YPredict)"
      ],
      "execution_count": null,
      "outputs": [
        {
          "output_type": "stream",
          "text": [
            "KMN Labels :  [0 0 0 ... 0 0 0]\n",
            "KMN Cluster Centre :  [[3.57251389e+00 5.72400499e-01 4.27452092e+00 1.27333031e+00\n",
            "  1.26374872e+00 2.60029482e+00 1.44421834e+04 2.35162717e+00\n",
            "  1.41200544e+03 3.42499150e+00 6.57045583e+02 9.27032543e+01]\n",
            " [4.50000000e+00 1.29032258e-01 6.41935484e+00 1.11290323e+00\n",
            "  1.83870968e+00 2.66129032e+00 9.03256935e+05 3.22580645e+00\n",
            "  3.16129032e+03 1.01612903e+00 3.53806452e+02 9.22741935e+01]\n",
            " [2.44155844e+00 1.29870130e-01 4.58181818e+00 1.11688312e+00\n",
            "  1.20000000e+00 2.51948052e+00 1.14738834e+05 2.21298701e+00\n",
            "  1.19142857e+03 1.58441558e+00 6.42909091e+02 9.23428571e+01]]\n",
            "Y Predict :  [0 0 0 ... 0 0 0]\n"
          ],
          "name": "stdout"
        }
      ]
    },
    {
      "cell_type": "code",
      "metadata": {
        "id": "T7EKGDyYKE06",
        "outputId": "a3e0fc7c-3c58-4d2a-d214-a099cb895f57",
        "colab": {
          "base_uri": "https://localhost:8080/",
          "height": 295
        }
      },
      "source": [
        "# Choosing the right number of K with Elbow Curve\n",
        "Ks = range(1, 20)\n",
        "KMNs = [KMeans(n_clusters=i) for i in Ks]\n",
        "score = [KMNs[i].fit(data).score(data) for i in range(len(KMNs))]\n",
        "plt.plot(Ks, score)\n",
        "plt.xlabel('Number of Clusters')\n",
        "plt.ylabel('Score')\n",
        "plt.title('Elbow Curve')\n",
        "plt.show()"
      ],
      "execution_count": null,
      "outputs": [
        {
          "output_type": "display_data",
          "data": {
            "image/png": "[encoded data removed]",
            "text/plain": [
              "<Figure size 432x288 with 1 Axes>"
            ]
          },
          "metadata": {
            "tags": [],
            "needs_background": "light"
          }
        }
      ]
    },
    {
      "cell_type": "markdown",
      "metadata": {
        "id": "UYC8XQRZAyY1"
      },
      "source": [
        "Dari kurva ini didapatkan bahwa nilai cluster terbaik ada pada n=3"
      ]
    },
    {
      "cell_type": "code",
      "metadata": {
        "id": "_IEfiAYVKTzp",
        "outputId": "23f6c658-da62-4537-8a0a-89a5af78a8e5",
        "colab": {
          "base_uri": "https://localhost:8080/",
          "height": 293
        }
      },
      "source": [
        "# Visualise KMeans\n",
        "plt.scatter(data.iloc[:, 6], data.iloc[:, 11], c = YPredict)\n",
        "plt.scatter(KMNClusterCenters[:, 6], KMNClusterCenters[:, 11], c = \"r\", s=200, alpha=0.5);\n",
        "\n",
        "plt.show()\n",
        "print(\"KMeans: \", silhouette_score(data, YPredict))"
      ],
      "execution_count": null,
      "outputs": [
        {
          "output_type": "display_data",
          "data": {
            "image/png": "[encoded data removed]",
            "text/plain": [
              "<Figure size 432x288 with 1 Axes>"
            ]
          },
          "metadata": {
            "tags": [],
            "needs_background": "light"
          }
        },
        {
          "output_type": "stream",
          "text": [
            "KMeans:  0.8559880417174838\n"
          ],
          "name": "stdout"
        }
      ]
    },
    {
      "cell_type": "markdown",
      "metadata": {
        "id": "NSS_VoCMMIwQ"
      },
      "source": [
        "Berikut persebaran data diantara kolom ke 6 (price) dan kolom ke 11 (review_scores_rating) yang dibagi menjadi 3 komponen. Terdapat cluster yang ditandai dengan warna ungu, kuning dan hijau yang terpisah cukup jelas disertai dengan ikon bulat berwarna merah yang menandai nilai tengah setiap cluster.Kolom price dan review_scores_rating dipilih karena memiliki nilai feature importance satu sama lain yang cukup besar jika menggunakan algoritma extra trees classifier yang telah dilakukan pada bagian feature selection sebelumnya.\n",
        "\n",
        "Nilai KMeans berasal dari silhoutte_score yang telah dijelaskan pada bagian GMM sebelumnya."
      ]
    }
  ]
}