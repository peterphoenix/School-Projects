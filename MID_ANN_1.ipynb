{
  "nbformat": 4,
  "nbformat_minor": 0,
  "metadata": {
    "colab": {
      "name": "MID ANN 1.ipynb",
      "provenance": [],
      "collapsed_sections": [],
      "authorship_tag": "ABX9TyPuLIPgChNZFp9y+TxWHMsM",
      "include_colab_link": true
    },
    "kernelspec": {
      "name": "python3",
      "display_name": "Python 3"
    }
  },
  "cells": [
    {
      "cell_type": "markdown",
      "metadata": {
        "id": "view-in-github",
        "colab_type": "text"
      },
      "source": [
        "<a href=\"https://colab.research.google.com/github/peterphoenix/School-Projects/blob/master/MID_ANN_1.ipynb\" target=\"_parent\"><img src=\"https://colab.research.google.com/assets/colab-badge.svg\" alt=\"Open In Colab\"/></a>"
      ]
    },
    {
      "cell_type": "markdown",
      "metadata": {
        "id": "GmNclOZ1wdOi"
      },
      "source": [
        "Peter Phoenix - 2201735413\n",
        "Artificial Neural Network LA01"
      ]
    },
    {
      "cell_type": "markdown",
      "metadata": {
        "id": "QKzrRk1ldvMu"
      },
      "source": [
        "1 A. Data yang kita gunakan sebagai input berupa array 1 dimensi berukuran 81 yang menggambarkan bentuk gambar, dimana array tersebut hanya dapat berisi 1 atau 0, dengan 1 berarti warna hitam dan 0 berarti warna putih.\n",
        "\n",
        "Kita menggunakan fungsi aktivasi binary atau step function, karena hasil yang kita inginkan hanya 1 ataupun 0.\n",
        "\n",
        "Weight dan Bias awal semuanya bernilai 0 sesuai dengan soal B.\n",
        "\n",
        "Layer yang digunakan untuk masalah ini hanya 2 layer saja\n",
        "\n",
        "Output yang dihasilkan berupa sebuah angka biner, yaitu 1 jika diklasifikasikan menjadi tank dan 0 jika diklasifikasikan sebagai house.\n",
        "\n",
        "![gambaran perceptron](https://drive.google.com/file/d/1kuuyauA810MKvn4z1SmYlO-r2zqsmttY/view)\n",
        "\n",
        "(jika tidak muncul gambar bisa dilihat di https://drive.google.com/open?id=1kuuyauA810MKvn4z1SmYlO-r2zqsmttY)"
      ]
    },
    {
      "cell_type": "markdown",
      "metadata": {
        "id": "m35m5PgwdwBT"
      },
      "source": [
        "1 B"
      ]
    },
    {
      "cell_type": "code",
      "metadata": {
        "id": "xOovVu0Bdunb"
      },
      "source": [
        "import numpy as np\n",
        "\n",
        "dataset = [\n",
        "    [0,0,0,0,0,0,0,0,0,\n",
        "     0,0,0,0,1,0,0,0,0,\n",
        "     0,0,1,0,1,0,1,0,0,\n",
        "     0,0,1,1,1,1,1,0,0,\n",
        "     0,0,1,1,1,1,1,0,0,\n",
        "     0,0,1,1,1,1,1,0,0,\n",
        "     0,0,1,1,1,1,1,0,0,\n",
        "     0,0,1,0,1,0,1,0,0,\n",
        "     0,0,0,0,0,0,0,0,0],\n",
        "\n",
        "    [0,0,0,0,0,0,0,0,0,\n",
        "     0,0,0,0,1,0,0,0,0,\n",
        "     0,0,0,1,1,1,0,0,0,\n",
        "     0,0,1,1,1,1,1,0,0,\n",
        "     0,1,1,1,1,1,1,1,0,\n",
        "     0,1,0,0,1,1,0,1,0,\n",
        "     0,1,1,1,1,1,1,1,0,\n",
        "     0,1,1,1,1,1,1,1,0,\n",
        "     0,0,0,0,0,0,0,0,0]\n",
        "]\n",
        "\n",
        "target = [1, 0]\n",
        "\n",
        "layer = {\n",
        "    \"input\" : 81,\n",
        "    \"output\" : 1\n",
        "}\n",
        "\n",
        "weights = np.zeros(81)\n",
        "bias = 0\n",
        "\n",
        "\n",
        "def activation_function(result):\n",
        "    if result >= 0 :\n",
        "        return 1\n",
        "    return 0\n",
        "\n",
        "def feed_forward(data):\n",
        "    result = np.matmul(data, weights)\n",
        "    return activation_function(result + bias)\n",
        "\n",
        "epoch = 1000\n",
        "alpha = 1\n",
        "\n"
      ],
      "execution_count": null,
      "outputs": []
    },
    {
      "cell_type": "markdown",
      "metadata": {
        "id": "8mAlrEmHwqfe"
      },
      "source": [
        "code di atas menunjukkan library yang digunakan, yaitu hanya numpy.\n",
        "\n",
        "kemudian ada input dan output dari soal, dimana 0 adalah warna putih dan 1 adalah warna hitam.\n",
        "\n",
        "layer input terdiri dari 81 neuron karena ada 9x9 kotak dan 1 output. dengan weight dan bias dimulai dari 0 sesuai dengan ketentuan soal. np.zeros(81) pada weight digunakan untuk membuat sebuah array berisi 0 sebesar 81 buah.\n",
        "\n",
        "activation function yang digunakan yaitu binary activation function atau step function dimana akan menghasilkan 1 jika x >= 0 dan menghasilkan 0 jika x < 0.\n",
        "\n",
        "feed forward digunakan untuk menghitung x1.w1+x2.w2+x3.w3 dan seterusnya.\n",
        "\n",
        "epoch yang digunakan sebesar 1000 yang berarti 1000 iterasi dengan alpha atau learning rate sebesar 1"
      ]
    },
    {
      "cell_type": "code",
      "metadata": {
        "id": "oGveC7HDwqzY"
      },
      "source": [
        "for i in range(1, epoch+1):\n",
        "    pick_random = np.random.randint(len(dataset))\n",
        "    picked = dataset[pick_random]\n",
        "    result = feed_forward(picked)\n",
        "    error = target[pick_random] - result\n",
        "    weights = np.add(weights, alpha * error * np.array(picked) )\n",
        "    bias = bias + alpha * error\n",
        "\n"
      ],
      "execution_count": null,
      "outputs": []
    },
    {
      "cell_type": "markdown",
      "metadata": {
        "id": "3sBLpUaOwrJn"
      },
      "source": [
        "ini adalah tahap training dengan dataset yang diambil random dari tank atau house kemudian weight serta biasnya di update. tahap ini dilakukan sebanyak 1000 kali."
      ]
    },
    {
      "cell_type": "code",
      "metadata": {
        "id": "5Behazcbzh11",
        "outputId": "362c04e5-70bc-4b19-c7ef-4ffbd309b0b4",
        "colab": {
          "base_uri": "https://localhost:8080/",
          "height": 867
        }
      },
      "source": [
        "testtarget = [1, 0]\n",
        "for noise in range(0, 50):\n",
        "  \n",
        "  acc = 100\n",
        "  for i in range (0, 100):\n",
        "    testdata = [\n",
        "        [0,0,0,0,0,0,0,0,0,\n",
        "        0,0,0,0,1,0,0,0,0,\n",
        "        0,0,1,0,1,0,1,0,0,\n",
        "        0,0,1,1,1,1,1,0,0,\n",
        "        0,0,1,1,1,1,1,0,0,\n",
        "        0,0,1,1,1,1,1,0,0,\n",
        "        0,0,1,1,1,1,1,0,0,\n",
        "        0,0,1,0,1,0,1,0,0,\n",
        "        0,0,0,0,0,0,0,0,0],\n",
        "\n",
        "        [0,0,0,0,0,0,0,0,0,\n",
        "        0,0,0,0,1,0,0,0,0,\n",
        "        0,0,0,1,1,1,0,0,0,\n",
        "        0,0,1,1,1,1,1,0,0,\n",
        "        0,1,1,1,1,1,1,1,0,\n",
        "        0,1,0,0,1,1,0,1,0,\n",
        "        0,1,1,1,1,1,1,1,0,\n",
        "        0,1,1,1,1,1,1,1,0,\n",
        "        0,0,0,0,0,0,0,0,0]\n",
        "    ]\n",
        "    idx = np.random.randint(2)\n",
        "    for j in range(0, noise):\n",
        "      changed = set()\n",
        "      changed.clear()\n",
        "      pick_random = np.random.randint(81)\n",
        "      while(pick_random in changed):\n",
        "        pick_random = np.random.randint(81)\n",
        "      changed.add(pick_random)\n",
        "\n",
        "      if(testdata[idx][pick_random] == 0):\n",
        "        testdata[idx][pick_random] = 1\n",
        "      else:\n",
        "        testdata[idx][pick_random] = 0\n",
        "    result = feed_forward(testdata[idx])\n",
        "    if (result != testtarget[idx]):\n",
        "      acc-=1\n",
        "  print(\"Noise:{} Acc:{}%\".format(noise, acc))"
      ],
      "execution_count": null,
      "outputs": [
        {
          "output_type": "stream",
          "text": [
            "Noise:0 Acc:100%\n",
            "Noise:1 Acc:100%\n",
            "Noise:2 Acc:100%\n",
            "Noise:3 Acc:100%\n",
            "Noise:4 Acc:100%\n",
            "Noise:5 Acc:100%\n",
            "Noise:6 Acc:100%\n",
            "Noise:7 Acc:100%\n",
            "Noise:8 Acc:100%\n",
            "Noise:9 Acc:100%\n",
            "Noise:10 Acc:100%\n",
            "Noise:11 Acc:100%\n",
            "Noise:12 Acc:98%\n",
            "Noise:13 Acc:100%\n",
            "Noise:14 Acc:98%\n",
            "Noise:15 Acc:99%\n",
            "Noise:16 Acc:99%\n",
            "Noise:17 Acc:95%\n",
            "Noise:18 Acc:98%\n",
            "Noise:19 Acc:96%\n",
            "Noise:20 Acc:98%\n",
            "Noise:21 Acc:95%\n",
            "Noise:22 Acc:97%\n",
            "Noise:23 Acc:94%\n",
            "Noise:24 Acc:91%\n",
            "Noise:25 Acc:94%\n",
            "Noise:26 Acc:90%\n",
            "Noise:27 Acc:84%\n",
            "Noise:28 Acc:87%\n",
            "Noise:29 Acc:87%\n",
            "Noise:30 Acc:84%\n",
            "Noise:31 Acc:83%\n",
            "Noise:32 Acc:80%\n",
            "Noise:33 Acc:87%\n",
            "Noise:34 Acc:81%\n",
            "Noise:35 Acc:82%\n",
            "Noise:36 Acc:84%\n",
            "Noise:37 Acc:78%\n",
            "Noise:38 Acc:82%\n",
            "Noise:39 Acc:77%\n",
            "Noise:40 Acc:69%\n",
            "Noise:41 Acc:78%\n",
            "Noise:42 Acc:69%\n",
            "Noise:43 Acc:74%\n",
            "Noise:44 Acc:74%\n",
            "Noise:45 Acc:74%\n",
            "Noise:46 Acc:71%\n",
            "Noise:47 Acc:82%\n",
            "Noise:48 Acc:75%\n",
            "Noise:49 Acc:72%\n"
          ],
          "name": "stdout"
        }
      ]
    },
    {
      "cell_type": "markdown",
      "metadata": {
        "id": "IZEzqp1I0iS3"
      },
      "source": [
        "tahap ini adalah tahap testing dimana testing dilakukan pada noise 0 hingga 49 dan pada setiap noise terdapat 100 dataset (noise 0 ada 100 dataset, noise 1 ada 100 dataset, noise 2 ada 100 dataset, dan seterusnya dengan total 50*100 = 5000 dataset). Training dataset yang digunakan di generate sendiri dengan fungsi diatas, dimana dilakukan for sebanyak jumlah noise kemudian dipilih satu angka acak yang belum terpilih sebelumnya (menggunakan set untuk mengecek), angka tersebut kemudian diubah, jika 0 menjadi 1 dan jika 1 menjadi 0. Hal ini diperlukan agar data yang terpilih jika sama, karena jika data yang sama terpilih 2 kali atau lebih maka jumlah noise tidak sesuai.\n",
        "\n",
        "accuracy yang didapatkan secara keseluruhan cukup besar, namun disarankan untuk menggunakan noise maximum yaitu hingga 22 noise dimana semua accuracy sebelumnya masih diatas 95%.\n"
      ]
    }
  ]
}