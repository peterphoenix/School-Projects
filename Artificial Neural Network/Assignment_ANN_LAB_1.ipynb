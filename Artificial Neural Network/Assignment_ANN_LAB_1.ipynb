{
  "nbformat": 4,
  "nbformat_minor": 0,
  "metadata": {
    "colab": {
      "name": "Assignment ANN LAB 1.ipynb",
      "provenance": [],
      "mount_file_id": "1s1RkuwRK8g3lJdpHbLc10QZPa9L9KkhK",
      "authorship_tag": "ABX9TyOH/FBqWA71hKhur/zW+CTo",
      "include_colab_link": true
    },
    "kernelspec": {
      "name": "python3",
      "display_name": "Python 3"
    }
  },
  "cells": [
    {
      "cell_type": "markdown",
      "metadata": {
        "id": "view-in-github",
        "colab_type": "text"
      },
      "source": [
        "<a href=\"https://colab.research.google.com/github/peterphoenix/School-Projects/blob/master/Assignment_ANN_LAB_1.ipynb\" target=\"_parent\"><img src=\"https://colab.research.google.com/assets/colab-badge.svg\" alt=\"Open In Colab\"/></a>"
      ]
    },
    {
      "cell_type": "code",
      "metadata": {
        "id": "MKgwPErkPUbR",
        "outputId": "2cff494d-fe3d-401c-e352-3239e00f0e25",
        "colab": {
          "base_uri": "https://localhost:8080/",
          "height": 34
        }
      },
      "source": [
        "%tensorflow_version 1.x"
      ],
      "execution_count": null,
      "outputs": [
        {
          "output_type": "stream",
          "text": [
            "TensorFlow 1.x selected.\n"
          ],
          "name": "stdout"
        }
      ]
    },
    {
      "cell_type": "code",
      "metadata": {
        "id": "SveLOJfZPVhA",
        "outputId": "ac49ab40-79cd-4af1-da23-c39d1bbabe7f",
        "colab": {
          "base_uri": "https://localhost:8080/",
          "height": 816
        }
      },
      "source": [
        "\n",
        "import tensorflow as tf\n",
        "import pandas as pd\n",
        "from sklearn.preprocessing import MinMaxScaler\n",
        "from sklearn.preprocessing import OrdinalEncoder\n",
        "from sklearn.preprocessing import OneHotEncoder\n",
        "from sklearn.model_selection import train_test_split\n",
        "\n",
        "def load_dataset():\n",
        "    dataset = pd.read_csv('pulsar_stars.csv')\n",
        "    feature = dataset[['Mean of the integrated profile',\t'Standard deviation of the integrated profile',\t'Excess kurtosis of the integrated profile',\t'Skewness of the integrated profile', 'Mean of the DM-SNR curve',\t'Standard deviation of the DM-SNR curve',\t'Excess kurtosis of the DM-SNR curve',\t'Skewness of the DM-SNR curve']]\n",
        "    target = dataset[['target_class']]\n",
        "    return feature, target\n",
        "\n",
        "feature, target = load_dataset()\n",
        "\n",
        "layer = {\n",
        "    'input': 8,\n",
        "    'hidden': 3,\n",
        "    'output': 2\n",
        "}\n",
        "\n",
        "weight = {\n",
        "    'input_to_hidden': tf.Variable(tf.random_normal([layer['input'], layer['hidden']])),\n",
        "    'hidden_to_output': tf.Variable(tf.random_normal([layer['hidden'], layer['output']]))\n",
        "}\n",
        "\n",
        "bias = {\n",
        "    'input_to_hidden': tf.Variable(tf.random_normal([layer['hidden']])),\n",
        "    'hidden_to_output': tf.Variable(tf.random_normal([layer['output']]))\n",
        "}\n",
        "\n",
        "feature = OrdinalEncoder().fit_transform(feature)\n",
        "feature = MinMaxScaler().fit_transform(feature)\n",
        "target = OneHotEncoder(sparse = False).fit_transform(target)\n",
        "\n",
        "input_placeholder = tf.placeholder(tf.float32, [None, layer['input']])\n",
        "output_placeholder = tf.placeholder(tf.float32, [None, layer['output']])\n",
        "\n",
        "def feed_forward(dataset):\n",
        "  weightxbias1 = tf.matmul(dataset, weight['input_to_hidden']) + bias['input_to_hidden']\n",
        "  activation1 = tf.nn.sigmoid(weightxbias1)\n",
        "\n",
        "  weightxbias2 = tf.matmul(activation1, weight['hidden_to_output']) + bias['hidden_to_output']\n",
        "  activation2 = tf.nn.sigmoid(weightxbias2)\n",
        "\n",
        "  return activation2\n",
        "\n",
        "learning_rate = 0.3\n",
        "epoch = 5000\n",
        "\n",
        "output = feed_forward(input_placeholder)\n",
        "loss = tf.reduce_mean(0.5 * (output - output_placeholder) ** 2)\n",
        "optimizer = tf.train.GradientDescentOptimizer(learning_rate)\n",
        "train = optimizer.minimize(loss)\n",
        "\n",
        "\n",
        "feature_train, feature_test, target_train, target_test = train_test_split(feature, target, test_size=0.2)\n",
        "\n",
        "with tf.Session() as sess:\n",
        "  sess.run(tf.global_variables_initializer())\n",
        "\n",
        "  feed_train = {\n",
        "      input_placeholder: feature_train,\n",
        "      output_placeholder: target_train\n",
        "  }\n",
        "  \n",
        "  print(input_placeholder)\n",
        "  print(output_placeholder)\n",
        "  print(feed_train)\n",
        "  for i in range(epoch+1):\n",
        "    sess.run(train, feed_dict = feed_train)\n",
        "    error = sess.run(loss, feed_dict = feed_train)\n",
        "\n",
        "    if (i+1)%200 == 0:\n",
        "      print('Epoch: {}, Loss: {}'.format(i+1, error))\n",
        "\n",
        "  feed_test = {\n",
        "      input_placeholder: feature_test,\n",
        "      output_placeholder: target_test\n",
        "  }\n",
        "\n",
        "  matches = tf.equal(tf.argmax(output, axis = 1), tf.argmax(output_placeholder, axis = 1))\n",
        "  accuracy = tf.reduce_mean(tf.cast(matches, tf.float32))\n",
        "  print('Accuracy: {}%'.format(sess.run(accuracy*100, feed_dict=feed_test)))\n",
        "\n"
      ],
      "execution_count": null,
      "outputs": [
        {
          "output_type": "stream",
          "text": [
            "Tensor(\"Placeholder_2:0\", shape=(?, 8), dtype=float32)\n",
            "Tensor(\"Placeholder_3:0\", shape=(?, 2), dtype=float32)\n",
            "{<tf.Tensor 'Placeholder_2:0' shape=(?, 8) dtype=float32>: array([[0.30984127, 0.37543253, 0.52191465, ..., 0.51384083, 0.42964245,\n",
            "        0.44925029],\n",
            "       [0.35555556, 0.3638985 , 0.69492503, ..., 0.38408304, 0.71741638,\n",
            "        0.69204152],\n",
            "       [0.93206349, 0.52595156, 0.11707036, ..., 0.51268743, 0.76701269,\n",
            "        0.69896194],\n",
            "       ...,\n",
            "       [0.42857143, 0.66551326, 0.63206459, ..., 0.08419839, 0.90599769,\n",
            "        0.90599769],\n",
            "       [0.63111111, 0.29296424, 0.31084198, ..., 0.91580161, 0.07035755,\n",
            "        0.06978085],\n",
            "       [0.05015873, 0.06805075, 0.95963091, ..., 0.92733564, 0.07670127,\n",
            "        0.07785467]]), <tf.Tensor 'Placeholder_3:0' shape=(?, 2) dtype=float32>: array([[1., 0.],\n",
            "       [1., 0.],\n",
            "       [1., 0.],\n",
            "       ...,\n",
            "       [1., 0.],\n",
            "       [1., 0.],\n",
            "       [0., 1.]])}\n",
            "Epoch: 200, Loss: 0.04066358506679535\n",
            "Epoch: 400, Loss: 0.039176397025585175\n",
            "Epoch: 600, Loss: 0.038592904806137085\n",
            "Epoch: 800, Loss: 0.03809954226016998\n",
            "Epoch: 1000, Loss: 0.037570927292108536\n",
            "Epoch: 1200, Loss: 0.03697819262742996\n",
            "Epoch: 1400, Loss: 0.03632401302456856\n",
            "Epoch: 1600, Loss: 0.035625431686639786\n",
            "Epoch: 1800, Loss: 0.03490402549505234\n",
            "Epoch: 2000, Loss: 0.03418063372373581\n",
            "Epoch: 2200, Loss: 0.033473413437604904\n",
            "Epoch: 2400, Loss: 0.0327969491481781\n",
            "Epoch: 2600, Loss: 0.032161518931388855\n",
            "Epoch: 2800, Loss: 0.03157282993197441\n",
            "Epoch: 3000, Loss: 0.03103218786418438\n",
            "Epoch: 3200, Loss: 0.030537333339452744\n",
            "Epoch: 3400, Loss: 0.030083412304520607\n",
            "Epoch: 3600, Loss: 0.029663894325494766\n",
            "Epoch: 3800, Loss: 0.02927122823894024\n",
            "Epoch: 4000, Loss: 0.028897209092974663\n",
            "Epoch: 4200, Loss: 0.028533050790429115\n",
            "Epoch: 4400, Loss: 0.02816925011575222\n",
            "Epoch: 4600, Loss: 0.027795137837529182\n",
            "Epoch: 4800, Loss: 0.027398230507969856\n",
            "Epoch: 5000, Loss: 0.02696346677839756\n",
            "Accuracy: 91.0662841796875%\n"
          ],
          "name": "stdout"
        }
      ]
    },
    {
      "cell_type": "markdown",
      "metadata": {
        "id": "tR3UOE8jV_k4"
      },
      "source": [
        ""
      ]
    },
    {
      "cell_type": "code",
      "metadata": {
        "id": "0wQbA09RV_6D",
        "outputId": "a31e7055-eedd-4284-ffce-5a16c6fbbf4b",
        "colab": {
          "base_uri": "https://localhost:8080/",
          "height": 306
        }
      },
      "source": [
        "import tensorflow as tf\n",
        "import pandas as pd\n",
        "from sklearn.preprocessing import MinMaxScaler\n",
        "from sklearn.preprocessing import OrdinalEncoder\n",
        "from sklearn.preprocessing import OneHotEncoder\n",
        "from sklearn.model_selection import train_test_split\n",
        "import matplotlib.pyplot as plt\n",
        "from sklearn import datasets, metrics\n",
        "\n",
        "digits = datasets.load_digits()\n",
        "\n",
        "\n",
        "\n",
        "n_samples = len(digits.data)\n",
        "t_samples = len(digits.target)\n",
        "data = digits.data.reshape((n_samples, -1))\n",
        "target = digits.target.reshape((n_samples, -1))\n",
        "\n",
        "layer = {\n",
        "    'input': 64,\n",
        "    'hidden': 15,\n",
        "    'output': 10\n",
        "}\n",
        "\n",
        "weight = {\n",
        "    'input_to_hidden': tf.Variable(tf.random_normal([layer['input'], layer['hidden']])),\n",
        "    'hidden_to_output': tf.Variable(tf.random_normal([layer['hidden'], layer['output']]))\n",
        "}\n",
        "\n",
        "bias = {\n",
        "    'input_to_hidden': tf.Variable(tf.random_normal([layer['hidden']])),\n",
        "    'hidden_to_output': tf.Variable(tf.random_normal([layer['output']]))\n",
        "}\n",
        "\n",
        "data = OrdinalEncoder().fit_transform(data)\n",
        "data = MinMaxScaler().fit_transform(data)\n",
        "target = OneHotEncoder(sparse = False).fit_transform(target)\n",
        "\n",
        "input_placeholder = tf.placeholder(tf.float32, [None, layer['input']])\n",
        "output_placeholder = tf.placeholder(tf.float32, [None, layer['output']])\n",
        "\n",
        "def feed_forward(dataset):\n",
        "  weightxbias1 = tf.matmul(dataset, weight['input_to_hidden']) + bias['input_to_hidden']\n",
        "  activation1 = tf.nn.sigmoid(weightxbias1)\n",
        "\n",
        "  weightxbias2 = tf.matmul(activation1, weight['hidden_to_output']) + bias['hidden_to_output']\n",
        "  activation2 = tf.nn.sigmoid(weightxbias2)\n",
        "\n",
        "  return activation2\n",
        "\n",
        "learning_rate = 1\n",
        "epoch = 1000\n",
        "\n",
        "output = feed_forward(input_placeholder)\n",
        "loss = tf.reduce_mean(0.5 * (output - output_placeholder) ** 2)\n",
        "optimizer = tf.train.GradientDescentOptimizer(learning_rate)\n",
        "train = optimizer.minimize(loss)\n",
        "\n",
        "feature_train, feature_test, target_train, target_test = train_test_split(\n",
        "    data, target, test_size=0.5, shuffle=False)\n",
        "\n",
        "with tf.Session() as sess:\n",
        "  sess.run(tf.global_variables_initializer())\n",
        "\n",
        "  feed_train = {\n",
        "      input_placeholder: feature_train,\n",
        "      output_placeholder: target_train\n",
        "  }\n",
        "\n",
        "  print(input_placeholder)\n",
        "  print(output_placeholder)\n",
        "  print(feed_train)\n",
        "\n",
        "  for i in range(epoch+1):\n",
        "    sess.run(train, feed_dict = feed_train)\n",
        "    error = sess.run(loss, feed_dict = feed_train)\n",
        "\n",
        "    if (i+1)%1000 == 0:\n",
        "      print('Epoch: {}, Loss: {}'.format(i+1, error))\n",
        "\n",
        "  feed_test = {\n",
        "      input_placeholder: feature_test,\n",
        "      output_placeholder: target_test\n",
        "  }\n",
        "\n",
        "  matches = tf.equal(tf.argmax(output, axis = 1), tf.argmax(output_placeholder, axis = 1))\n",
        "  accuracy = tf.reduce_mean(tf.cast(matches, tf.float32))\n",
        "  print('Accuracy: {}%'.format(sess.run(accuracy*100, feed_dict=feed_test)))\n",
        "\n",
        "\n",
        "# predicted = classifier.predict(X_test)\n",
        "\n",
        "\n",
        "# print(\"Classification report for classifier %s:\\n%s\\n\"\n",
        "#       % (classifier, metrics.classification_report(y_test, predicted)))\n",
        "# disp = metrics.plot_confusion_matrix(classifier, X_test, y_test)\n",
        "# disp.figure_.suptitle(\"Confusion Matrix\")\n",
        "# print(\"Confusion matrix:\\n%s\" % disp.confusion_matrix)\n"
      ],
      "execution_count": null,
      "outputs": [
        {
          "output_type": "stream",
          "text": [
            "Tensor(\"Placeholder_16:0\", shape=(?, 64), dtype=float32)\n",
            "Tensor(\"Placeholder_17:0\", shape=(?, 10), dtype=float32)\n",
            "{<tf.Tensor 'Placeholder_16:0' shape=(?, 64) dtype=float32>: array([[0.    , 0.    , 0.3125, ..., 0.    , 0.    , 0.    ],\n",
            "       [0.    , 0.    , 0.    , ..., 0.625 , 0.    , 0.    ],\n",
            "       [0.    , 0.    , 0.    , ..., 1.    , 0.5625, 0.    ],\n",
            "       ...,\n",
            "       [0.    , 0.    , 0.125 , ..., 0.875 , 0.    , 0.    ],\n",
            "       [0.    , 0.125 , 0.75  , ..., 0.    , 0.    , 0.    ],\n",
            "       [0.    , 0.    , 0.    , ..., 0.1875, 0.    , 0.    ]]), <tf.Tensor 'Placeholder_17:0' shape=(?, 10) dtype=float32>: array([[1., 0., 0., ..., 0., 0., 0.],\n",
            "       [0., 1., 0., ..., 0., 0., 0.],\n",
            "       [0., 0., 1., ..., 0., 0., 0.],\n",
            "       ...,\n",
            "       [0., 0., 0., ..., 0., 0., 1.],\n",
            "       [0., 0., 0., ..., 0., 0., 0.],\n",
            "       [0., 0., 0., ..., 0., 0., 0.]])}\n",
            "Epoch: 1000, Loss: 0.040637485682964325\n",
            "Accuracy: 29.477197647094727%\n"
          ],
          "name": "stdout"
        }
      ]
    },
    {
      "cell_type": "code",
      "metadata": {
        "id": "pLnswxp3WoCw",
        "outputId": "68fd6ad1-6172-4854-e6d2-417325585f86",
        "colab": {
          "base_uri": "https://localhost:8080/",
          "height": 1000
        }
      },
      "source": [
        "import matplotlib.pyplot as plt\n",
        "\n",
        "# Import datasets, classifiers and performance metrics\n",
        "from sklearn import datasets, svm, metrics\n",
        "from sklearn.model_selection import train_test_split\n",
        "\n",
        "# The digits dataset\n",
        "digits = datasets.load_digits()\n",
        "\n",
        "# The data that we are interested in is made of 8x8 images of digits, let's\n",
        "# have a look at the first 4 images, stored in the `images` attribute of the\n",
        "# dataset.  If we were working from image files, we could load them using\n",
        "# matplotlib.pyplot.imread.  Note that each image must have the same size. For these\n",
        "# images, we know which digit they represent: it is given in the 'target' of\n",
        "# the dataset.\n",
        "_, axes = plt.subplots(2, 4)\n",
        "images_and_labels = list(zip(digits.images, digits.target))\n",
        "for ax, (image, label) in zip(axes[0, :], images_and_labels[:4]):\n",
        "    ax.set_axis_off()\n",
        "    ax.imshow(image, cmap=plt.cm.gray_r, interpolation='nearest')\n",
        "    ax.set_title('Training: %i' % label)\n",
        "\n",
        "# To apply a classifier on this data, we need to flatten the image, to\n",
        "# turn the data in a (samples, feature) matrix:\n",
        "n_samples = len(digits.images)\n",
        "data = digits.images.reshape((n_samples, -1))\n",
        "\n",
        "# Create a classifier: a support vector classifier\n",
        "classifier = svm.SVC(gamma=0.001)\n",
        "\n",
        "# Split data into train and test subsets\n",
        "X_train, X_test, y_train, y_test = train_test_split(\n",
        "    data, digits.target, test_size=0.5, shuffle=False)\n",
        "\n",
        "# We learn the digits on the first half of the digits\n",
        "classifier.fit(X_train, y_train)\n",
        "\n",
        "# Now predict the value of the digit on the second half:\n",
        "predicted = classifier.predict(X_test)\n",
        "\n",
        "images_and_predictions = list(zip(digits.images[n_samples // 2:], predicted))\n",
        "for ax, (image, prediction) in zip(axes[1, :], images_and_predictions[:4]):\n",
        "    ax.set_axis_off()\n",
        "    ax.imshow(image, cmap=plt.cm.gray_r, interpolation='nearest')\n",
        "    ax.set_title('Prediction: %i' % prediction)\n",
        "\n",
        "print(\"Classification report for classifier %s:\\n%s\\n\"\n",
        "      % (classifier, metrics.classification_report(y_test, predicted)))\n",
        "disp = metrics.plot_confusion_matrix(classifier, X_test, y_test)\n",
        "disp.figure_.suptitle(\"Confusion Matrix\")\n",
        "print(\"Confusion matrix:\\n%s\" % disp.confusion_matrix)\n",
        "\n",
        "plt.show()"
      ],
      "execution_count": null,
      "outputs": [
        {
          "output_type": "stream",
          "text": [
            "Classification report for classifier SVC(C=1.0, break_ties=False, cache_size=200, class_weight=None, coef0=0.0,\n",
            "    decision_function_shape='ovr', degree=3, gamma=0.001, kernel='rbf',\n",
            "    max_iter=-1, probability=False, random_state=None, shrinking=True,\n",
            "    tol=0.001, verbose=False):\n",
            "              precision    recall  f1-score   support\n",
            "\n",
            "           0       1.00      0.99      0.99        88\n",
            "           1       0.99      0.97      0.98        91\n",
            "           2       0.99      0.99      0.99        86\n",
            "           3       0.98      0.87      0.92        91\n",
            "           4       0.99      0.96      0.97        92\n",
            "           5       0.95      0.97      0.96        91\n",
            "           6       0.99      0.99      0.99        91\n",
            "           7       0.96      0.99      0.97        89\n",
            "           8       0.94      1.00      0.97        88\n",
            "           9       0.93      0.98      0.95        92\n",
            "\n",
            "    accuracy                           0.97       899\n",
            "   macro avg       0.97      0.97      0.97       899\n",
            "weighted avg       0.97      0.97      0.97       899\n",
            "\n",
            "\n",
            "Confusion matrix:\n",
            "[[87  0  0  0  1  0  0  0  0  0]\n",
            " [ 0 88  1  0  0  0  0  0  1  1]\n",
            " [ 0  0 85  1  0  0  0  0  0  0]\n",
            " [ 0  0  0 79  0  3  0  4  5  0]\n",
            " [ 0  0  0  0 88  0  0  0  0  4]\n",
            " [ 0  0  0  0  0 88  1  0  0  2]\n",
            " [ 0  1  0  0  0  0 90  0  0  0]\n",
            " [ 0  0  0  0  0  1  0 88  0  0]\n",
            " [ 0  0  0  0  0  0  0  0 88  0]\n",
            " [ 0  0  0  1  0  1  0  0  0 90]]\n"
          ],
          "name": "stdout"
        },
        {
          "output_type": "display_data",
          "data": {
            "image/png": "[encoded data removed]",
            "text/plain": [
              "<Figure size 432x288 with 8 Axes>"
            ]
          },
          "metadata": {
            "tags": [],
            "needs_background": "light"
          }
        },
        {
          "output_type": "display_data",
          "data": {
            "image/png": "[encoded data removed]",
            "text/plain": [
              "<Figure size 432x288 with 2 Axes>"
            ]
          },
          "metadata": {
            "tags": [],
            "needs_background": "light"
          }
        }
      ]
    },
    {
      "cell_type": "code",
      "metadata": {
        "id": "X9l-Did0ZaqN",
        "outputId": "6a3c4ea2-e827-4716-86a9-6aee933770b2",
        "colab": {
          "base_uri": "https://localhost:8080/",
          "height": 34
        }
      },
      "source": [
        "import matplotlib.pyplot as plt\n",
        "\n",
        "# Import datasets, classifiers and performance metrics\n",
        "from sklearn import datasets, svm, metrics\n",
        "from sklearn.model_selection import train_test_split\n",
        "\n",
        "# The digits dataset\n",
        "digits = datasets.load_digits()\n",
        "print(digits.target)"
      ],
      "execution_count": null,
      "outputs": [
        {
          "output_type": "stream",
          "text": [
            "[0 1 2 ... 8 9 8]\n"
          ],
          "name": "stdout"
        }
      ]
    }
  ]
}
