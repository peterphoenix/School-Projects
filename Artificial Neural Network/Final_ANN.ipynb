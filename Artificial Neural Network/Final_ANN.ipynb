{
  "nbformat": 4,
  "nbformat_minor": 0,
  "metadata": {
    "colab": {
      "name": "Final ANN.ipynb",
      "provenance": [],
      "collapsed_sections": [],
      "authorship_tag": "ABX9TyMd/0COIGRnRTWTkBwpUBzx",
      "include_colab_link": true
    },
    "kernelspec": {
      "name": "python3",
      "display_name": "Python 3"
    }
  },
  "cells": [
    {
      "cell_type": "markdown",
      "metadata": {
        "id": "view-in-github",
        "colab_type": "text"
      },
      "source": [
        "<a href=\"https://colab.research.google.com/github/peterphoenix/School-Projects/blob/master/Final_ANN.ipynb\" target=\"_parent\"><img src=\"https://colab.research.google.com/assets/colab-badge.svg\" alt=\"Open In Colab\"/></a>"
      ]
    },
    {
      "cell_type": "markdown",
      "metadata": {
        "id": "6J1OQgYUsR0E"
      },
      "source": [
        "Peter Phoenix - 2201735413\n",
        "\n",
        "Machine Learning - LA01"
      ]
    },
    {
      "cell_type": "markdown",
      "metadata": {
        "id": "8bBz1Gn0sTzo"
      },
      "source": [
        "#1. Clustering"
      ]
    },
    {
      "cell_type": "code",
      "metadata": {
        "id": "pb1xZq75_4gY"
      },
      "source": [
        "import numpy as np\n",
        "import matplotlib.pyplot as plt\n",
        "from scipy.spatial import distance"
      ],
      "execution_count": null,
      "outputs": []
    },
    {
      "cell_type": "code",
      "metadata": {
        "id": "6JyjEupKAIcf"
      },
      "source": [
        "data = np.array (\n",
        "    [[1, 2, -1], \n",
        "    [-1, 3, -2]]\n",
        "    )\n",
        "data = data.astype(\"float64\")\n",
        "\n",
        "weight = np.array (\n",
        "    [[1, 1, -1], \n",
        "    [2, 1, 1],\n",
        "    [-1, 2, -3], \n",
        "    [1, 2, 3],\n",
        "    [1, 1, 3]]\n",
        "    )\n",
        "weight = weight.astype(\"float64\")\n",
        "\n",
        "\n",
        "l_rate = 0.5\n",
        "rad = 1.0\n",
        "decay = 1.0\n",
        "n = 1000"
      ],
      "execution_count": null,
      "outputs": []
    },
    {
      "cell_type": "markdown",
      "metadata": {
        "id": "MftUcGbKNGDI"
      },
      "source": [
        "A. Implementasi SOM 1 dimensi"
      ]
    },
    {
      "cell_type": "code",
      "metadata": {
        "id": "73b-6XS1BzEa"
      },
      "source": [
        "# Berikut adalah fungsi untuk mencari Best Matching Unit, yaitu unit dengan euclidean distance terkecil\n",
        "# minDist di set menjadi nilai sebesar mungkin, kemudian jika distrance yang didapatkan lebih kecil daripada minDist, maka nilai idx dan minDist akan diupdate\n",
        "# Euclidean distance dihitung dengan memanfaatkan fungsi pada library scipy\n",
        "def BMU (dat):\n",
        "  idx = -1\n",
        "  minDist = np.iinfo(np.int).max\n",
        "  for i in range (weight.shape[0]):\n",
        "    dist = distance.euclidean(dat, weight[i])\n",
        "    if minDist > dist:\n",
        "      minDist = dist\n",
        "      idx = i\n",
        "  return idx\n",
        "\n",
        "# Berikut adalah fungsi untuk menghitung decaying radius, dimana rumusnya adalah nilai decaying radius awal dikali dengan nilai exponent dari negatif dari nomor iterasi dibagi dengan maximum iterasi\n",
        "def decay_rad(decay, i, maxIter):\n",
        "  return decay * np.exp(-i/maxIter)"
      ],
      "execution_count": null,
      "outputs": []
    },
    {
      "cell_type": "code",
      "metadata": {
        "id": "b6lHMPrGAchQ",
        "outputId": "5dddb1d2-c943-40cf-991a-227b200340c9",
        "colab": {
          "base_uri": "https://localhost:8080/",
          "height": 115
        }
      },
      "source": [
        "for i in range (n) :\n",
        "  # Pilih data secara random\n",
        "  dat = data[np.random.randint(0, data.shape[0])]\n",
        "  idx = BMU(dat)\n",
        "  \n",
        "  # Update\n",
        "  # Akan dilakukan update pada weight yang memiliki selisih indeks kurang dari sama dengan radius\n",
        "  for j in range (weight.shape[0]) :\n",
        "    if (abs(j-idx) <= rad) :\n",
        "      # Berikut rumus untuk mengupdate weight yang ada\n",
        "      neighbor_stregth = np.exp(-((j-idx)*(j-idx)) / decay_rad(decay, j, n))\n",
        "      weight[j] = weight[j] + (neighbor_stregth * l_rate * (dat - weight[j]))\n",
        " \n",
        "print(\"Final Weight:\")\n",
        "print(weight)"
      ],
      "execution_count": null,
      "outputs": [
        {
          "output_type": "stream",
          "text": [
            "Final Weight:\n",
            "[[ 1.          2.         -1.        ]\n",
            " [-0.04344943  2.52172472 -1.52172472]\n",
            " [-1.          3.         -2.        ]\n",
            " [-1.          3.         -2.        ]\n",
            " [ 1.          1.          3.        ]]\n"
          ],
          "name": "stdout"
        }
      ]
    },
    {
      "cell_type": "markdown",
      "metadata": {
        "id": "_LKPQ_bMNidu"
      },
      "source": [
        "B. Visualisasi dari SOM dengan warna RGB"
      ]
    },
    {
      "cell_type": "code",
      "metadata": {
        "id": "uVklH8EGNmw7",
        "outputId": "4d6c8575-c1e3-43a6-e318-886217d6e35e",
        "colab": {
          "base_uri": "https://localhost:8080/",
          "height": 216
        }
      },
      "source": [
        "# Array diubah menjadi 3 dimensi agar value yang terdapat dalam array melambangkan RGB\n",
        "img = np.array([weight])\n",
        "plt.imshow(img)\n",
        "plt.show()"
      ],
      "execution_count": null,
      "outputs": [
        {
          "output_type": "stream",
          "text": [
            "Clipping input data to the valid range for imshow with RGB data ([0..1] for floats or [0..255] for integers).\n"
          ],
          "name": "stderr"
        },
        {
          "output_type": "stream",
          "text": [
            "[[[ 1.          2.         -1.        ]\n",
            "  [-0.04344943  2.52172472 -1.52172472]\n",
            "  [-1.          3.         -2.        ]\n",
            "  [-1.          3.         -2.        ]\n",
            "  [ 1.          1.          3.        ]]]\n"
          ],
          "name": "stdout"
        },
        {
          "output_type": "display_data",
          "data": {
            "image/png": "[encoded data removed]",
            "text/plain": [
              "<Figure size 432x288 with 1 Axes>"
            ]
          },
          "metadata": {
            "tags": [],
            "needs_background": "light"
          }
        }
      ]
    },
    {
      "cell_type": "markdown",
      "metadata": {
        "id": "Vmcx26PBiKoz"
      },
      "source": [
        "Setelah dilakukan normalisasi"
      ]
    },
    {
      "cell_type": "code",
      "metadata": {
        "id": "hkYdgtThhdQG",
        "outputId": "625c0fc8-60e2-490c-ef5b-663ac15fb6bc",
        "colab": {
          "base_uri": "https://localhost:8080/",
          "height": 118
        }
      },
      "source": [
        "from sklearn import preprocessing\n",
        "\n",
        "scaler = preprocessing.MinMaxScaler()\n",
        "scaler.fit(weight)\n",
        "\n",
        "normalized = scaler.transform(weight)\n",
        "\n",
        "img = np.array([normalized])\n",
        "plt.imshow(img)\n",
        "plt.show()"
      ],
      "execution_count": null,
      "outputs": [
        {
          "output_type": "display_data",
          "data": {
            "image/png": "[encoded data removed]",
            "text/plain": [
              "<Figure size 432x288 with 1 Axes>"
            ]
          },
          "metadata": {
            "tags": [],
            "needs_background": "light"
          }
        }
      ]
    },
    {
      "cell_type": "markdown",
      "metadata": {
        "id": "lSJcS895sW1N"
      },
      "source": [
        "#2. Dimension Reduction"
      ]
    },
    {
      "cell_type": "code",
      "metadata": {
        "id": "uDkhd63osaDX"
      },
      "source": [
        "import pandas as pd\n",
        "import numpy as np\n",
        "from sklearn.decomposition import PCA\n",
        "from sklearn.preprocessing import StandardScaler\n",
        "import matplotlib.pyplot as plt"
      ],
      "execution_count": null,
      "outputs": []
    },
    {
      "cell_type": "code",
      "metadata": {
        "id": "KMSZIRb-d4Dh",
        "outputId": "df7e8673-b075-4f32-9935-d4e11a0f2286",
        "colab": {
          "base_uri": "https://localhost:8080/",
          "height": 553
        }
      },
      "source": [
        "D1 = {\"sepal_length\": [5.1, 4.9, 4.7, 4.6, 5, 5.4, 4.6, 5, 4.4, 4.9], \"sepal_width\": [3.5, 3, 3.2, 3.1, 3.6, 3.9, 3.4, 3.4, 2.9, 3.1], \n",
        "      \"petal_length\": [1.4, 1.4, 1.3, 1.5, 1.4, 1.7, 1.4, 1.5, 1.4, 1.5], \"petal_width\": [0.2, 0.2, 0.2, 0.2, 0.2, 0.4, 0.3, 0.2, 0.2, 0.1]}\n",
        "data1 = pd.DataFrame(D1)\n",
        "\n",
        "D2 = {\"sepal_length\": [7, 6.4, 6.9, 5.5, 6.5, 5.7, 6.3, 4.9, 6.6, 5.2], \"sepal_width\": [3.2, 3.2, 3.1, 2.3, 2.8, 2.8, 3.3, 2.4, 2.9, 2.7], \n",
        "      \"petal_length\": [4.7, 4.5, 4.9, 4, 4.6, 4.5, 4.7, 3.3, 4.6, 3.9], \"petal_width\": [1.4, 1.5, 1.5, 1.3, 1.5, 1.3, 1.6, 1, 1.3, 1.4]}\n",
        "data2 = pd.DataFrame(D2)\n",
        "\n",
        "D3 = {\"sepal_length\": [6.3, 5.8, 7.1, 6.3, 6.5, 7.6, 4.9, 7.3, 6.7, 7.2], \"sepal_width\": [3.3, 2.7, 3, 2.9, 3, 3, 2.5, 2.9, 2.5, 3.6], \n",
        "      \"petal_length\": [6, 5.1, 5.9, 5.6, 5.8, 6.6, 4.5, 6.3, 5.8, 6.1], \"petal_width\": [2.5, 1.9, 2.1, 1.8, 2.2, 2.1, 1.7, 1.8, 1.8, 2.5]}\n",
        "data3 = pd.DataFrame(D3)\n",
        "\n",
        "print(data1)\n",
        "print(data2)\n",
        "print(data3)"
      ],
      "execution_count": null,
      "outputs": [
        {
          "output_type": "stream",
          "text": [
            "   sepal_length  sepal_width  petal_length  petal_width\n",
            "0           5.1          3.5           1.4          0.2\n",
            "1           4.9          3.0           1.4          0.2\n",
            "2           4.7          3.2           1.3          0.2\n",
            "3           4.6          3.1           1.5          0.2\n",
            "4           5.0          3.6           1.4          0.2\n",
            "5           5.4          3.9           1.7          0.4\n",
            "6           4.6          3.4           1.4          0.3\n",
            "7           5.0          3.4           1.5          0.2\n",
            "8           4.4          2.9           1.4          0.2\n",
            "9           4.9          3.1           1.5          0.1\n",
            "   sepal_length  sepal_width  petal_length  petal_width\n",
            "0           7.0          3.2           4.7          1.4\n",
            "1           6.4          3.2           4.5          1.5\n",
            "2           6.9          3.1           4.9          1.5\n",
            "3           5.5          2.3           4.0          1.3\n",
            "4           6.5          2.8           4.6          1.5\n",
            "5           5.7          2.8           4.5          1.3\n",
            "6           6.3          3.3           4.7          1.6\n",
            "7           4.9          2.4           3.3          1.0\n",
            "8           6.6          2.9           4.6          1.3\n",
            "9           5.2          2.7           3.9          1.4\n",
            "   sepal_length  sepal_width  petal_length  petal_width\n",
            "0           6.3          3.3           6.0          2.5\n",
            "1           5.8          2.7           5.1          1.9\n",
            "2           7.1          3.0           5.9          2.1\n",
            "3           6.3          2.9           5.6          1.8\n",
            "4           6.5          3.0           5.8          2.2\n",
            "5           7.6          3.0           6.6          2.1\n",
            "6           4.9          2.5           4.5          1.7\n",
            "7           7.3          2.9           6.3          1.8\n",
            "8           6.7          2.5           5.8          1.8\n",
            "9           7.2          3.6           6.1          2.5\n"
          ],
          "name": "stdout"
        }
      ]
    },
    {
      "cell_type": "markdown",
      "metadata": {
        "id": "d80BuVcg2n3c"
      },
      "source": [
        "Sebelum dilakukannya perhitungan covariance matrix, eigen value, eigen vector, dan PCA data tersebut perlu digabungkan agar nilai yang didapatkan berdasarkan setiap kelas yang ada tidak hanya pada satu kelas tertentu saja. Jika dilakukan secara terpisah, maka tidak akan terlihat clusternya."
      ]
    },
    {
      "cell_type": "code",
      "metadata": {
        "id": "ic2ONTCe24Xj",
        "outputId": "ce552833-cd20-4bf2-bb6d-f9aba4b29e6d",
        "colab": {
          "base_uri": "https://localhost:8080/",
          "height": 521
        }
      },
      "source": [
        "# Penambahan kolom class pada setiap data untuk memberi label dari tabel mana data tersebut berasal\n",
        "data1.insert(4, 'Class', 'data 1')\n",
        "data2.insert(4, 'Class', 'data 2')\n",
        "data3.insert(4, 'Class', 'data 3')\n",
        "\n",
        "# Penggabungan data\n",
        "# ignore_index = True digunakan hanya agar index terurut kembali, jika tidak digunakan maka index yang terprint adalah 0-9 0-9 0-9 (sesuai dengan index awal)\n",
        "data = pd.concat([data1, data2, data3], ignore_index=True)\n",
        "print(data)"
      ],
      "execution_count": null,
      "outputs": [
        {
          "output_type": "stream",
          "text": [
            "    sepal_length  sepal_width  petal_length  petal_width   Class\n",
            "0            5.1          3.5           1.4          0.2  data 1\n",
            "1            4.9          3.0           1.4          0.2  data 1\n",
            "2            4.7          3.2           1.3          0.2  data 1\n",
            "3            4.6          3.1           1.5          0.2  data 1\n",
            "4            5.0          3.6           1.4          0.2  data 1\n",
            "5            5.4          3.9           1.7          0.4  data 1\n",
            "6            4.6          3.4           1.4          0.3  data 1\n",
            "7            5.0          3.4           1.5          0.2  data 1\n",
            "8            4.4          2.9           1.4          0.2  data 1\n",
            "9            4.9          3.1           1.5          0.1  data 1\n",
            "10           7.0          3.2           4.7          1.4  data 2\n",
            "11           6.4          3.2           4.5          1.5  data 2\n",
            "12           6.9          3.1           4.9          1.5  data 2\n",
            "13           5.5          2.3           4.0          1.3  data 2\n",
            "14           6.5          2.8           4.6          1.5  data 2\n",
            "15           5.7          2.8           4.5          1.3  data 2\n",
            "16           6.3          3.3           4.7          1.6  data 2\n",
            "17           4.9          2.4           3.3          1.0  data 2\n",
            "18           6.6          2.9           4.6          1.3  data 2\n",
            "19           5.2          2.7           3.9          1.4  data 2\n",
            "20           6.3          3.3           6.0          2.5  data 3\n",
            "21           5.8          2.7           5.1          1.9  data 3\n",
            "22           7.1          3.0           5.9          2.1  data 3\n",
            "23           6.3          2.9           5.6          1.8  data 3\n",
            "24           6.5          3.0           5.8          2.2  data 3\n",
            "25           7.6          3.0           6.6          2.1  data 3\n",
            "26           4.9          2.5           4.5          1.7  data 3\n",
            "27           7.3          2.9           6.3          1.8  data 3\n",
            "28           6.7          2.5           5.8          1.8  data 3\n",
            "29           7.2          3.6           6.1          2.5  data 3\n"
          ],
          "name": "stdout"
        }
      ]
    },
    {
      "cell_type": "markdown",
      "metadata": {
        "id": "FgK82NiQ4-7I"
      },
      "source": [
        "Sebelum dilakukannya perhitungan, data juga perlu dipisahkan input serta outputnya (class)"
      ]
    },
    {
      "cell_type": "code",
      "metadata": {
        "id": "mhRNjUOy5D2P",
        "outputId": "4ee8e3f1-f985-493f-e414-193563b55e8b",
        "colab": {
          "base_uri": "https://localhost:8080/",
          "height": 1000
        }
      },
      "source": [
        "inp = data.iloc[:, [0, 1, 2, 3]]\n",
        "print(inp)\n",
        "\n",
        "out = data.iloc[:, [4]]\n",
        "print(out)"
      ],
      "execution_count": null,
      "outputs": [
        {
          "output_type": "stream",
          "text": [
            "    sepal_length  sepal_width  petal_length  petal_width\n",
            "0            5.1          3.5           1.4          0.2\n",
            "1            4.9          3.0           1.4          0.2\n",
            "2            4.7          3.2           1.3          0.2\n",
            "3            4.6          3.1           1.5          0.2\n",
            "4            5.0          3.6           1.4          0.2\n",
            "5            5.4          3.9           1.7          0.4\n",
            "6            4.6          3.4           1.4          0.3\n",
            "7            5.0          3.4           1.5          0.2\n",
            "8            4.4          2.9           1.4          0.2\n",
            "9            4.9          3.1           1.5          0.1\n",
            "10           7.0          3.2           4.7          1.4\n",
            "11           6.4          3.2           4.5          1.5\n",
            "12           6.9          3.1           4.9          1.5\n",
            "13           5.5          2.3           4.0          1.3\n",
            "14           6.5          2.8           4.6          1.5\n",
            "15           5.7          2.8           4.5          1.3\n",
            "16           6.3          3.3           4.7          1.6\n",
            "17           4.9          2.4           3.3          1.0\n",
            "18           6.6          2.9           4.6          1.3\n",
            "19           5.2          2.7           3.9          1.4\n",
            "20           6.3          3.3           6.0          2.5\n",
            "21           5.8          2.7           5.1          1.9\n",
            "22           7.1          3.0           5.9          2.1\n",
            "23           6.3          2.9           5.6          1.8\n",
            "24           6.5          3.0           5.8          2.2\n",
            "25           7.6          3.0           6.6          2.1\n",
            "26           4.9          2.5           4.5          1.7\n",
            "27           7.3          2.9           6.3          1.8\n",
            "28           6.7          2.5           5.8          1.8\n",
            "29           7.2          3.6           6.1          2.5\n",
            "     Class\n",
            "0   data 1\n",
            "1   data 1\n",
            "2   data 1\n",
            "3   data 1\n",
            "4   data 1\n",
            "5   data 1\n",
            "6   data 1\n",
            "7   data 1\n",
            "8   data 1\n",
            "9   data 1\n",
            "10  data 2\n",
            "11  data 2\n",
            "12  data 2\n",
            "13  data 2\n",
            "14  data 2\n",
            "15  data 2\n",
            "16  data 2\n",
            "17  data 2\n",
            "18  data 2\n",
            "19  data 2\n",
            "20  data 3\n",
            "21  data 3\n",
            "22  data 3\n",
            "23  data 3\n",
            "24  data 3\n",
            "25  data 3\n",
            "26  data 3\n",
            "27  data 3\n",
            "28  data 3\n",
            "29  data 3\n"
          ],
          "name": "stdout"
        }
      ]
    },
    {
      "cell_type": "markdown",
      "metadata": {
        "id": "-N5MdNUmgokn"
      },
      "source": [
        "A. Covariance matrix"
      ]
    },
    {
      "cell_type": "code",
      "metadata": {
        "id": "sIkGW2dshk9Y",
        "outputId": "e6427d99-f57e-44c3-9e9f-cd776329d299",
        "colab": {
          "base_uri": "https://localhost:8080/",
          "height": 131
        }
      },
      "source": [
        "cov = inp.cov()\n",
        "\n",
        "print(\"Covariance matrix data\\n\")\n",
        "print(cov)"
      ],
      "execution_count": null,
      "outputs": [
        {
          "output_type": "stream",
          "text": [
            "Covariance matrix data\n",
            "\n",
            "              sepal_length  sepal_width  petal_length  petal_width\n",
            "sepal_length      0.929437    -0.006621      1.589920     0.613195\n",
            "sepal_width      -0.006621     0.139034     -0.237448    -0.085034\n",
            "petal_length      1.589920    -0.237448      3.539644     1.446713\n",
            "petal_width       0.613195    -0.085034      1.446713     0.622575\n"
          ],
          "name": "stdout"
        }
      ]
    },
    {
      "cell_type": "markdown",
      "metadata": {
        "id": "Y7ldxqUhk3n1"
      },
      "source": [
        "A. Eigen Value dan Eigen Vector"
      ]
    },
    {
      "cell_type": "code",
      "metadata": {
        "id": "TBgND6wcipQI",
        "outputId": "08138bea-13da-4e35-d8a8-a5265f1d5429",
        "colab": {
          "base_uri": "https://localhost:8080/",
          "height": 147
        }
      },
      "source": [
        "eig_val, eig_vec = np.linalg.eig(cov)\n",
        "\n",
        "print(\"Eigen Value:\")\n",
        "print (eig_val)\n",
        "print(\"\\nEigen Vector:\")\n",
        "print (eig_vec)"
      ],
      "execution_count": null,
      "outputs": [
        {
          "output_type": "stream",
          "text": [
            "Eigen Value:\n",
            "[4.88325892 0.26187349 0.07725825 0.00829899]\n",
            "\n",
            "Eigen Vector:\n",
            "[[ 0.39532578 -0.76391507 -0.40461393  0.31054608]\n",
            " [-0.04926785 -0.56346221  0.74617672 -0.35114573]\n",
            " [ 0.84934414  0.23996295  0.01616932 -0.4698626 ]\n",
            " [ 0.34627263  0.20337622  0.52843773  0.7479886 ]]\n"
          ],
          "name": "stdout"
        }
      ]
    },
    {
      "cell_type": "markdown",
      "metadata": {
        "id": "s-rkMnktk0OH"
      },
      "source": [
        "B. Reduce into 2 dimensions using PCA\n",
        "\n",
        "Sebelum dilakukannya PCA, data di normalisasi terlebih dahulu agar seluruh data memiliki nilai yang serupa. Hal ini diperlukan agar PCA yang dihasilkan lebih merata, karena jika tidak dilakukan normalisasi maka data dengan nilai yang lebih besar akan berpengaruh jauh lebih banyak dibandingkan dengan data dengan nilai yang kecil."
      ]
    },
    {
      "cell_type": "code",
      "metadata": {
        "id": "5jacitKxlYcD",
        "outputId": "daa67b11-323d-42dc-f81d-009cbfda03ea",
        "colab": {
          "base_uri": "https://localhost:8080/",
          "height": 521
        }
      },
      "source": [
        "norm = StandardScaler().fit_transform(inp)\n",
        "\n",
        "pca = PCA(n_components = 2)\n",
        "pca = pca.fit(norm)\n",
        "pca_out = pca.transform(norm)\n",
        "\n",
        "print(\"Output after PCA:\")\n",
        "print(pca_out)"
      ],
      "execution_count": null,
      "outputs": [
        {
          "output_type": "stream",
          "text": [
            "Output after PCA:\n",
            "[[-2.20548647  0.89036835]\n",
            " [-2.04114319 -0.46349245]\n",
            " [-2.2956321  -0.0224054 ]\n",
            " [-2.23256684 -0.31509423]\n",
            " [-2.31677919  1.11082379]\n",
            " [-2.01501033  2.02842316]\n",
            " [-2.35638875  0.45685881]\n",
            " [-2.17432466  0.5978557 ]\n",
            " [-2.26595362 -0.89959099]\n",
            " [-2.13842341 -0.20986167]\n",
            " [ 0.96437887  0.82930424]\n",
            " [ 0.63837693  0.61660249]\n",
            " [ 1.10135228  0.5392044 ]\n",
            " [ 0.32436837 -2.01872282]\n",
            " [ 0.94739971 -0.37321699]\n",
            " [ 0.31954242 -0.66574292]\n",
            " [ 0.66479928  0.83929456]\n",
            " [-0.51205901 -1.98450368]\n",
            " [ 0.80032508 -0.0860585 ]\n",
            " [-0.02278065 -1.09819538]\n",
            " [ 1.74471764  0.86030515]\n",
            " [ 1.06570481 -0.87172149]\n",
            " [ 2.03114572  0.36846162]\n",
            " [ 1.32084888 -0.1826969 ]\n",
            " [ 1.73704725  0.1555837 ]\n",
            " [ 2.53455593  0.54693093]\n",
            " [ 0.33286406 -1.71209894]\n",
            " [ 2.10434505  0.17547499]\n",
            " [ 1.8298267  -1.06487101]\n",
            " [ 2.11494924  1.95278148]]\n"
          ],
          "name": "stdout"
        }
      ]
    },
    {
      "cell_type": "markdown",
      "metadata": {
        "id": "aRqNBwFSmAuc"
      },
      "source": [
        "C. Plot the PCA"
      ]
    },
    {
      "cell_type": "markdown",
      "metadata": {
        "id": "D_M1snBzuxfm"
      },
      "source": [
        "Sebelum dilakukan plot, setiap data perlu digabungkan kembali dengan class mereka diawal."
      ]
    },
    {
      "cell_type": "code",
      "metadata": {
        "id": "e5ioHGXRmFQ5",
        "outputId": "fa545821-9047-4024-a277-e284b2c922b3",
        "colab": {
          "base_uri": "https://localhost:8080/",
          "height": 521
        }
      },
      "source": [
        "DF_inp = pd.DataFrame(data = pca_out, columns = ['principal component 1', 'principal component 2'])\n",
        "DF_out = pd.DataFrame(data = out, columns = ['Class'])\n",
        "finalDF = pd.concat([DF_inp, DF_out], axis = 1)\n",
        "print(finalDF)"
      ],
      "execution_count": null,
      "outputs": [
        {
          "output_type": "stream",
          "text": [
            "    principal component 1  principal component 2   Class\n",
            "0               -2.205486               0.890368  data 1\n",
            "1               -2.041143              -0.463492  data 1\n",
            "2               -2.295632              -0.022405  data 1\n",
            "3               -2.232567              -0.315094  data 1\n",
            "4               -2.316779               1.110824  data 1\n",
            "5               -2.015010               2.028423  data 1\n",
            "6               -2.356389               0.456859  data 1\n",
            "7               -2.174325               0.597856  data 1\n",
            "8               -2.265954              -0.899591  data 1\n",
            "9               -2.138423              -0.209862  data 1\n",
            "10               0.964379               0.829304  data 2\n",
            "11               0.638377               0.616602  data 2\n",
            "12               1.101352               0.539204  data 2\n",
            "13               0.324368              -2.018723  data 2\n",
            "14               0.947400              -0.373217  data 2\n",
            "15               0.319542              -0.665743  data 2\n",
            "16               0.664799               0.839295  data 2\n",
            "17              -0.512059              -1.984504  data 2\n",
            "18               0.800325              -0.086059  data 2\n",
            "19              -0.022781              -1.098195  data 2\n",
            "20               1.744718               0.860305  data 3\n",
            "21               1.065705              -0.871721  data 3\n",
            "22               2.031146               0.368462  data 3\n",
            "23               1.320849              -0.182697  data 3\n",
            "24               1.737047               0.155584  data 3\n",
            "25               2.534556               0.546931  data 3\n",
            "26               0.332864              -1.712099  data 3\n",
            "27               2.104345               0.175475  data 3\n",
            "28               1.829827              -1.064871  data 3\n",
            "29               2.114949               1.952781  data 3\n"
          ],
          "name": "stdout"
        }
      ]
    },
    {
      "cell_type": "code",
      "metadata": {
        "id": "QTlTwQ7usHkY",
        "outputId": "026c0d43-a20e-4633-cdb0-1153c006e38b",
        "colab": {
          "base_uri": "https://localhost:8080/",
          "height": 522
        }
      },
      "source": [
        "fig = plt.figure(figsize = (8,8))\n",
        "ax = fig.add_subplot(1,1,1) \n",
        "ax.set_xlabel('Principal Component 1', fontsize = 15)\n",
        "ax.set_ylabel('Principal Component 2', fontsize = 15)\n",
        "ax.set_title('2 component PCA', fontsize = 20)\n",
        "targets = ['data 1', 'data 2', 'data 3']\n",
        "colors = ['r', 'g', 'b']\n",
        "for target, color in zip(targets,colors):\n",
        "    indicesToKeep = finalDF['Class'] == target\n",
        "    ax.scatter(finalDF.loc[indicesToKeep, 'principal component 1']\n",
        "               , finalDF.loc[indicesToKeep, 'principal component 2']\n",
        "               , c = color\n",
        "               , s = 50)\n",
        "ax.legend(targets)\n",
        "ax.grid()"
      ],
      "execution_count": null,
      "outputs": [
        {
          "output_type": "display_data",
          "data": {
            "image/png": "[encoded data removed]",
            "text/plain": [
              "<Figure size 576x576 with 1 Axes>"
            ]
          },
          "metadata": {
            "tags": [],
            "needs_background": "light"
          }
        }
      ]
    },
    {
      "cell_type": "markdown",
      "metadata": {
        "id": "bOKYAkhrvFdl"
      },
      "source": [
        "Pada diagram cartesius diatas dapat dilihat persebaran data yang ada dimana sumbu X dan Y berasal dari nilai hasil PCA yang telah me-reduce data menjadi 2 dimensi. Penjelasan persebaran data adalah sebagai berikut:\n",
        "\n",
        "\n",
        "*   Data yang berasal dari tabel Data I ditandai dengan warna merah\n",
        "*   Data yang berasal dari tabel Data II ditandai dengan warna hijau\n",
        "*   Data yang berasal dari tabel Data III ditandai dengan warna biru\n",
        "\n",
        "Pada data 1 dapat terlihat dengan jelas karena terpisah dari data yang lain, namun posisi data 2 dan data 3 sangat dekat jadi lebih sulit untuk dibedakan."
      ]
    },
    {
      "cell_type": "markdown",
      "metadata": {
        "id": "cxR4uCDksaQG"
      },
      "source": [
        "#3. Convolution"
      ]
    },
    {
      "cell_type": "code",
      "metadata": {
        "id": "9ksEenCDwVCB"
      },
      "source": [
        "import numpy as np\n",
        "from PIL import Image"
      ],
      "execution_count": null,
      "outputs": []
    },
    {
      "cell_type": "code",
      "metadata": {
        "id": "ddItOTN5scRs",
        "outputId": "4370249a-0678-4b77-e4bd-563282ca2dec",
        "colab": {
          "base_uri": "https://localhost:8080/",
          "height": 342
        }
      },
      "source": [
        "data = np.array([\n",
        "                 [1, 0, 1, 1, 1, 1, 1, 1, 0, 1],\n",
        "                 [1, 0, 1, 1, 1, 1, 1, 1, 1, 1],\n",
        "                 [1, 0, 1, 1, 1, 1, 1, 1, 1, 1],\n",
        "                 [1, 0, 0, 0, 0, 0, 0, 1, 1, 1],\n",
        "                 [1, 0, 1, 0, 0, 0, 0, 1, 1, 1],\n",
        "                 [1, 0, 0, 0, 0, 0, 0, 1, 1, 1],\n",
        "                 [1, 0, 1, 0, 0, 0, 0, 1, 1, 1],\n",
        "                 [1, 1, 0, 0, 0, 0, 0, 0, 0, 0],\n",
        "                 [1, 0, 1, 1, 1, 1, 1, 1, 1, 1],\n",
        "                 [1, 0, 1, 1, 1, 1, 1, 1, 1, 1]\n",
        "])\n",
        "\n",
        "kernel1 = np.array([\n",
        "                    [0, 0.25, 0],\n",
        "                    [0.25, 0.25, 0.25],\n",
        "                    [0, 0.25, 0]\n",
        "])\n",
        "\n",
        "kernel2 = np.array([\n",
        "                    [1, 0, -1],\n",
        "                    [1, 0, -1],\n",
        "                    [1, 0, -1]                  \n",
        "])\n",
        "\n",
        "kernel = np.stack((kernel1, kernel2), axis = 0)\n",
        "\n",
        "print(\"Data:\")\n",
        "print(data)\n",
        "\n",
        "print(\"\\n Kernel:\")\n",
        "print(kernel)"
      ],
      "execution_count": null,
      "outputs": [
        {
          "output_type": "stream",
          "text": [
            "Data:\n",
            "[[1 0 1 1 1 1 1 1 0 1]\n",
            " [1 0 1 1 1 1 1 1 1 1]\n",
            " [1 0 1 1 1 1 1 1 1 1]\n",
            " [1 0 0 0 0 0 0 1 1 1]\n",
            " [1 0 1 0 0 0 0 1 1 1]\n",
            " [1 0 0 0 0 0 0 1 1 1]\n",
            " [1 0 1 0 0 0 0 1 1 1]\n",
            " [1 1 0 0 0 0 0 0 0 0]\n",
            " [1 0 1 1 1 1 1 1 1 1]\n",
            " [1 0 1 1 1 1 1 1 1 1]]\n",
            "\n",
            " Kernel:\n",
            "[[[ 0.    0.25  0.  ]\n",
            "  [ 0.25  0.25  0.25]\n",
            "  [ 0.    0.25  0.  ]]\n",
            "\n",
            " [[ 1.    0.   -1.  ]\n",
            "  [ 1.    0.   -1.  ]\n",
            "  [ 1.    0.   -1.  ]]]\n"
          ],
          "name": "stdout"
        }
      ]
    },
    {
      "cell_type": "markdown",
      "metadata": {
        "id": "9xGG2yRCGZ5O"
      },
      "source": [
        "A. Convolution calculation"
      ]
    },
    {
      "cell_type": "markdown",
      "metadata": {
        "id": "2kr2IHX9KWli"
      },
      "source": [
        "I. Berikut kode untuk menerapkan Convolution tanpa border padding"
      ]
    },
    {
      "cell_type": "code",
      "metadata": {
        "id": "4zC3galbAbxk"
      },
      "source": [
        "# Filter yang dimaksud disini adalah kernel\n",
        "def conv(img, conv_filter):\n",
        "\n",
        "    # If dibawah ini hanya untuk mengecek apakah input yang diberikan memiliki dimensi yang sesuai, jika tidak maka kode akan dihentikan.\n",
        "    if len(img.shape) != len(conv_filter.shape) - 1: # Cek apakah jumlah dimensi sama.\n",
        "        print(\"Error: Number of dimensions in conv filter and image do not match.\")  \n",
        "        exit()\n",
        "    if len(img.shape) > 2 or len(conv_filter.shape) > 3: # Cek apakah jumlah channel gambar sesuai dengan jumlah channel kernel.\n",
        "        if img.shape[-1] != conv_filter.shape[-1]:\n",
        "            print(\"Error: Number of channels in both image and filter must match.\")\n",
        "            sys.exit()\n",
        "    if conv_filter.shape[1] != conv_filter.shape[2]: # Cek apakah dimensi kernel sama.\n",
        "        print('Error: Filter must be a square matrix. I.e. number of rows and columns must match.')\n",
        "        sys.exit()\n",
        "    if conv_filter.shape[1]%2==0: # Cek apakah dimensi kernel ganjil.\n",
        "        print('Error: Filter must have an odd size. I.e. number of rows and columns must be odd.')\n",
        "        sys.exit()\n",
        "\n",
        "    # Feature map kosong untuk menampung output dari hasil convolution setiap kernel.\n",
        "    feature_maps = np.zeros((img.shape[0]-conv_filter.shape[1]+1, \n",
        "                                img.shape[1]-conv_filter.shape[1]+1, \n",
        "                                conv_filter.shape[0]))\n",
        "\n",
        "    # Melakukan convolution dengan setiap kernel yang ada.\n",
        "    for filter_num in range(conv_filter.shape[0]):\n",
        "        print(\"Filter \", filter_num + 1)\n",
        "        curr_filter = conv_filter[filter_num, :]\n",
        "\n",
        "        # If dibawah ini untuk mengecek apakah terdapat lebih dari 1 channel untuk kernel\n",
        "        # Jika ada (dimana pada soal ini terdapat 2 channel), maka setiap channel akan melakukan convolution\n",
        "        # Hasil dari setiap convolution akan dijumlahkan menjadi sebuah feature map \n",
        "        if len(curr_filter.shape) > 2:\n",
        "            conv_map = conv_(img[:, :, 0], curr_filter[:, :, 0]) # Array yang menyimpan jumlah dari seluruh feature map.\n",
        "            for ch_num in range(1, curr_filter.shape[-1]): # Proses convolution pada setiap channel dan menjumlahkan hasilnya.\n",
        "                conv_map = conv_map + conv_(img[:, :, ch_num], \n",
        "                                  curr_filter[:, :, ch_num])\n",
        "        else:\n",
        "            conv_map = conv_(img, curr_filter)\n",
        "        feature_maps[:, :, filter_num] = conv_map\n",
        "    return feature_maps\n",
        "\n",
        "# Implementasi dari fungsi convolution\n",
        "def conv_(img, conv_filter):\n",
        "    filter_size = conv_filter.shape[1]\n",
        "    result = np.zeros((img.shape))\n",
        "\n",
        "    for r in np.uint16(np.arange(filter_size/2.0, \n",
        "                          img.shape[0]-filter_size/2.0+1)):\n",
        "        for c in np.uint16(np.arange(filter_size/2.0, \n",
        "                                           img.shape[1]-filter_size/2.0+1)):\n",
        "\n",
        "            curr_region = img[r-np.uint16(np.floor(filter_size/2.0)):r+np.uint16(np.ceil(filter_size/2.0)), \n",
        "                              c-np.uint16(np.floor(filter_size/2.0)):c+np.uint16(np.ceil(filter_size/2.0))]\n",
        "\n",
        "            curr_result = curr_region * conv_filter\n",
        "            conv_sum = np.sum(curr_result)\n",
        "            result[r, c] = conv_sum \n",
        "            \n",
        "    final_result = result[np.uint16(filter_size/2.0):result.shape[0]-np.uint16(filter_size/2.0), \n",
        "                          np.uint16(filter_size/2.0):result.shape[1]-np.uint16(filter_size/2.0)]\n",
        "    return final_result"
      ],
      "execution_count": null,
      "outputs": []
    },
    {
      "cell_type": "code",
      "metadata": {
        "id": "NAJAid8xAeYU",
        "outputId": "bb7eb0c3-c5c5-4311-d82a-6eb99e61e128",
        "colab": {
          "base_uri": "https://localhost:8080/",
          "height": 50
        }
      },
      "source": [
        "feature_map = conv(data, kernel)"
      ],
      "execution_count": null,
      "outputs": [
        {
          "output_type": "stream",
          "text": [
            "Filter  1\n",
            "Filter  2\n"
          ],
          "name": "stdout"
        }
      ]
    },
    {
      "cell_type": "markdown",
      "metadata": {
        "id": "T9yQVmwLKfPI"
      },
      "source": [
        "II. Berikut kode untuk menerapkan ReLU\n",
        "\n",
        "Cara kerjanya adalah dengan melakukan looping pada setiap element pada feature map dan mengembalikan nilai asli jika nilai pada sel tersebut lebih dari 0, dan jika nilai kurang dari 0 maka nilai yang dikembalikan adalah 0."
      ]
    },
    {
      "cell_type": "code",
      "metadata": {
        "id": "cJf_6glZKmd4"
      },
      "source": [
        "def relu(feature_map):\n",
        "    relu_out = np.zeros(feature_map.shape)\n",
        "    for map_num in range(feature_map.shape[-1]):\n",
        "        for r in np.arange(0,feature_map.shape[0]):\n",
        "            for c in np.arange(0, feature_map.shape[1]):\n",
        "                relu_out[r, c, map_num] = np.max([feature_map[r, c, map_num], 0])\n",
        "    return relu_out"
      ],
      "execution_count": null,
      "outputs": []
    },
    {
      "cell_type": "code",
      "metadata": {
        "id": "3lHJthqrKn0u"
      },
      "source": [
        "feature_map_relu = relu(feature_map)"
      ],
      "execution_count": null,
      "outputs": []
    },
    {
      "cell_type": "markdown",
      "metadata": {
        "id": "BC83cectKuNy"
      },
      "source": [
        "III. Berikut kode untuk menerapkan Max pooling layer 2x2\n",
        "\n",
        "Cara kerja dari pooling layer ini adalah dengan mengambil nilai max pada setiap kotak berukuran 2x2 (size = 2) kemudian berpindah sebanyak 2 kotak (stride = 2)."
      ]
    },
    {
      "cell_type": "code",
      "metadata": {
        "id": "BOo2sHNdK0UV"
      },
      "source": [
        "def pooling(feature_map, size=2, stride=2):\n",
        "    # Array kosong untuk menampung output dengan ukuran yang disesuaikan\n",
        "    pool_out = np.zeros((np.uint16((feature_map.shape[0]-size)/stride)+1,\n",
        "                            np.uint16((feature_map.shape[1]-size)/stride)+1,\n",
        "                            feature_map.shape[-1]))\n",
        "    for map_num in range(feature_map.shape[-1]):\n",
        "        r2 = 0\n",
        "        for r in np.arange(0,feature_map.shape[0]-size+1, stride):\n",
        "            c2 = 0\n",
        "            for c in np.arange(0, feature_map.shape[1]-size+1, stride):\n",
        "                pool_out[r2, c2, map_num] = np.max([feature_map[r:r+size,  c:c+size, map_num]])\n",
        "                c2 = c2 + 1\n",
        "            r2 = r2 +1\n",
        "    return pool_out"
      ],
      "execution_count": null,
      "outputs": []
    },
    {
      "cell_type": "code",
      "metadata": {
        "id": "7ciwVtHvK2hV"
      },
      "source": [
        "feature_map_relu_pool = pooling(feature_map_relu, 2, 2)"
      ],
      "execution_count": null,
      "outputs": []
    },
    {
      "cell_type": "markdown",
      "metadata": {
        "id": "JBfvmFJxUbJW"
      },
      "source": [
        "Dikarenakan soal tidak meminta adanya convolution layer lain untuk distack, maka proses perhitungan berhenti disini. Namun, jika diperlukan adanya convolution layer lain untuk distack, maka dapat memanggil ulang fungsi conv, relu dan pooling."
      ]
    },
    {
      "cell_type": "markdown",
      "metadata": {
        "id": "uCbaKMtXG0C-"
      },
      "source": [
        "B. Convert numpy array to images and show\n",
        "\n",
        "Code untuk menampilkan gambar seharusnya im.show() namun colab tidak menampilkan gambar saat fungsi tersebut dipanggil.\n",
        "\n",
        "Untuk menangani hal ini, dapat langsung dipanggil im saja dan colab akan otomatis menampilkan gambar."
      ]
    },
    {
      "cell_type": "code",
      "metadata": {
        "id": "c_lBgzG9DHUM",
        "outputId": "cea91fbc-7c3b-46d2-e428-a70b1153e87e",
        "colab": {
          "base_uri": "https://localhost:8080/",
          "height": 33
        }
      },
      "source": [
        "im1 = Image.fromarray((feature_map_relu_pool[:,:,0] * 255).astype(np.uint8))\n",
        "im1\n",
        "\n",
        "im2 = Image.fromarray((feature_map_relu_pool[:,:,1] * 255).astype(np.uint8))\n",
        "im2\n",
        "\n"
      ],
      "execution_count": null,
      "outputs": [
        {
          "output_type": "execute_result",
          "data": {
            "image/png": "[encoded data removed]",
            "text/plain": [
              "<PIL.Image.Image image mode=L size=4x4 at 0x7F55809298D0>"
            ]
          },
          "metadata": {
            "tags": []
          },
          "execution_count": 78
        }
      ]
    },
    {
      "cell_type": "markdown",
      "metadata": {
        "id": "tLvuGtiUyta8"
      },
      "source": [
        "Gambar juga dapat dilihat value per pixelnya, berikut contoh dengan menggunakan library matplotlib"
      ]
    },
    {
      "cell_type": "code",
      "metadata": {
        "id": "LMj1Qu7cvADB",
        "outputId": "54c75b84-c16b-4245-8593-bf40cd963bba",
        "colab": {
          "base_uri": "https://localhost:8080/",
          "height": 537
        }
      },
      "source": [
        "import matplotlib.pyplot as plt\n",
        "pix1 = np.array((feature_map_relu_pool[:,:,0] * 255))\n",
        "plt.imshow(pix1)\n",
        "plt.show()\n",
        "\n",
        "pix2 = np.array((feature_map_relu_pool[:,:,1] * 255))\n",
        "plt.imshow(pix2)\n",
        "plt.show()\n",
        "\n",
        "print(feature_map.shape[-1])"
      ],
      "execution_count": null,
      "outputs": [
        {
          "output_type": "display_data",
          "data": {
            "image/png": "[encoded data removed]",
            "text/plain": [
              "<Figure size 432x288 with 1 Axes>"
            ]
          },
          "metadata": {
            "tags": [],
            "needs_background": "light"
          }
        },
        {
          "output_type": "display_data",
          "data": {
            "image/png": "[encoded data removed]",
            "text/plain": [
              "<Figure size 432x288 with 1 Axes>"
            ]
          },
          "metadata": {
            "tags": [],
            "needs_background": "light"
          }
        },
        {
          "output_type": "stream",
          "text": [
            "2\n"
          ],
          "name": "stdout"
        }
      ]
    },
    {
      "cell_type": "markdown",
      "metadata": {
        "id": "Pcz9Osi6GyFT"
      },
      "source": [
        "Gambar tersebut juga dapat di save dengan kode berikut\n",
        "\n",
        "Karena format gambar adalah RGBA atau Red, Green Blue, Alpha dan format .jpg tidak dapat mensupport Alpha (transparansi), maka perlu diconvert menjadi RGB untuk disave dalam bentuk .jpg atau dapat menggunkan .png"
      ]
    },
    {
      "cell_type": "code",
      "metadata": {
        "id": "9jfzKCJxE8vM"
      },
      "source": [
        "rgb_im1 = im1.convert('RGB')\n",
        "rgb_im1.save('test1.jpg')\n",
        "\n",
        "im1.save('test1.png')\n",
        "\n",
        "rgb_im2 = im2.convert('RGB')\n",
        "rgb_im2.save('test2.jpg')\n",
        "\n",
        "im2.save('test2.png')"
      ],
      "execution_count": null,
      "outputs": []
    },
    {
      "cell_type": "markdown",
      "metadata": {
        "id": "62rrNNQrseQm"
      },
      "source": [
        "#4. CNN"
      ]
    },
    {
      "cell_type": "markdown",
      "metadata": {
        "id": "zxZ3Umgd-q3O"
      },
      "source": [
        "**I. [2%] Why LeNet-5 is said consist of 5-layer networks? Please explain it!**\n",
        "\n",
        "![alt text](https://drive.google.com/uc?export=view&id=1QSh4L9m0fxouVAPLb2F59-LUd2jgiBaX)\n",
        "\n",
        "Figure 4.1 LeNet-5 Architecture\n",
        "(Source: powerpoint Binus)\n",
        "\n",
        "Jika dilihat sekilas, LeNet-5 memiliki 7 buah layer, yaitu :\n",
        "1.   C1 Convolutional Layer\n",
        "2.   S2 Pooling Layer\n",
        "3.   C3 Convolutional Layer\n",
        "4.   S4 Pooling Layer\n",
        "5.   C5 Fully Connected Convolutional Layer\n",
        "6.   FC6 Fully Connected Layer\n",
        "7.   Output Layer \n",
        "\n",
        "Namun layer nomor 5, 6, dan 7 bersifat fully connected jadi dapat dianggap sebagai sebuah layer saja, oleh karena itu kenapa LeNet-5 disebut terdiri dari 5 buah layer, yaitu:\n",
        "1.   C1 Convolutional Layer\n",
        "2.   S2 Pooling Layer\n",
        "3.   C3 Convolutional Layer\n",
        "4.   S4 Pooling Layer\n",
        "5.   Gabungan layer C5, FC6, dan Output"
      ]
    },
    {
      "cell_type": "markdown",
      "metadata": {
        "id": "RW5f7MOD-twa"
      },
      "source": [
        "**II. [2%] Why in C1 there is 28x28 image pixels? Please sketch the process!**\n",
        "\n",
        "C1 memiliki ukuran 28x28 pixel karena input layer memiliki ukuran 32x32 pixel kemudian dilakukan convolution dengan ukuran 5x5 tanpa padding dan stride sebesar 1, yang berarti filter tersebut akan bergerak sebanyak 1 kotak.\n",
        "\n",
        "![alt text](https://drive.google.com/uc?export=view&id=1aK9fOfeuaiXRkRIguK5cT1QSxp--rZ6Y)\n",
        "\n",
        "Figure 4.2 Convolution Process\n",
        "\n",
        "*   Matrix berukuran 10x10 disebelah kanan dapat diibaratkan dengan input\n",
        "*   Kotak hitam berukuran 5x5 disebelah kanan adalah filter berukuran 5x5\n",
        "*   Matrix sebelah kiri adalah hasil setelah convolution atau dapat diartikan sebagai layer C1\n",
        "*   Kotak hitam disebelah kanan bergerak sesuai dengan ukuran stride, yaitu 1\n",
        "\n",
        "Setelah melihat gambar diatas, dapat terlihat mengapa ukurannya berkurang menjadi 28x28 pixel. \n",
        "\n",
        "\n",
        "\n",
        "\n",
        "\n",
        "\n"
      ]
    },
    {
      "cell_type": "markdown",
      "metadata": {
        "id": "59BCbH8r-woO"
      },
      "source": [
        "**III. [2%] Why in S2 there is 14x14 image pixels? Please draw the process!**\n",
        "\n",
        "S2 memiliki ukuran 14x14 pixel karena layer sebelumnya, yaitu C1 memiliki ukuran 28x28 pixel kemudian dilakukan subsampling menggunakan filter berukuran 2x2 tanpa padding dan stride sebesar 2, yang berarti filter 2x2 tersebut akan bergerak sebanyak 2 kotak.\n",
        "\n",
        "![alt text](https://drive.google.com/uc?export=view&id=1qQ-AiLLL83vFNt3XY6nqapACwuQHxcam)\n",
        "\n",
        "Figure 4.2 Subsampling Process\n",
        "\n",
        "*   Matrix berukuran 8x8 disebelah kanan dapat diibaratkan dengan input\n",
        "*   Kotak hitam berukuran 2x2 disebelah kanan adalah filter berukuran 2x2\n",
        "*   Matrix sebelah kiri adalah hasil setelah subsampling atau dapat diartikan sebagai layer S2\n",
        "*   Kotak hitam disebelah kanan bergerak sesuai dengan ukuran stride, yaitu 2\n",
        "\n",
        "Setelah melihat gambar diatas, dapat terlihat mengapa ukurannya berkurang menjadi 14x14 pixel."
      ]
    },
    {
      "cell_type": "markdown",
      "metadata": {
        "id": "lYJ7TpdD-yap"
      },
      "source": [
        "**IV. [2%] How many numbers of CNN weights in C1 and C3?**\n",
        "\n",
        "C1 memiilki 6 channel weight berukuran 28x28, jadi total weight yang ada pada C1 ada 6 * 28 * 28 = 4.704‬ buah weight.\n",
        "\n",
        "C2 memiilki 16 channel weight berukuran 10x10, jadi total weight yang ada pada C2 ada 16 * 10 * 10 = 1600 buah weight.\n",
        "\n"
      ]
    },
    {
      "cell_type": "markdown",
      "metadata": {
        "id": "_KbA58cWUMGa"
      },
      "source": [
        "A. Implementasi dari arsitektur LeNet-5"
      ]
    },
    {
      "cell_type": "code",
      "metadata": {
        "id": "C03OkEbJsfqj",
        "outputId": "febf98ea-f079-47cb-9b42-25bd5ec17b7c",
        "colab": {
          "base_uri": "https://localhost:8080/",
          "height": 33
        }
      },
      "source": [
        "from keras.models import Sequential\n",
        "from keras import models, layers\n",
        "import keras\n",
        "\n",
        "# Model kosong untuk dipanggil nantinya\n",
        "model = Sequential()\n",
        "\n",
        "# C1 Convolutional Layer\n",
        "model.add(layers.Conv2D(6, kernel_size=(5, 5), strides=(1, 1), activation='tanh', input_shape=(28,28,1), padding='same'))\n",
        "\n",
        "# S2 Pooling Layer\n",
        "model.add(layers.AveragePooling2D(pool_size=(2, 2), strides=(1, 1), padding='valid'))\n",
        "\n",
        "# C3 Convolutional Layer\n",
        "model.add(layers.Conv2D(16, kernel_size=(5, 5), strides=(1, 1), activation='tanh', padding='valid'))\n",
        "\n",
        "# S4 Pooling Layer\n",
        "model.add(layers.AveragePooling2D(pool_size=(2, 2), strides=(2, 2), padding='valid'))\n",
        "\n",
        "# C5 Fully Connected Convolutional Layer\n",
        "model.add(layers.Conv2D(120, kernel_size=(5, 5), strides=(1, 1), activation='tanh', padding='valid'))\n",
        "# CNN output perlu dilakukan flattening agar dapat diconnect dengan layer lainnya\n",
        "model.add(layers.Flatten())\n",
        "\n",
        "# FC6 Fully Connected Layer\n",
        "model.add(layers.Dense(84, activation='tanh'))\n",
        "\n",
        "# Output Layer\n",
        "model.add(layers.Dense(10, activation='softmax'))\n",
        "\n",
        "# Compile\n",
        "model.compile(loss=keras.losses.categorical_crossentropy, optimizer='SGD', metrics=[\"accuracy\"])"
      ],
      "execution_count": null,
      "outputs": [
        {
          "output_type": "stream",
          "text": [
            "Using TensorFlow backend.\n"
          ],
          "name": "stderr"
        }
      ]
    },
    {
      "cell_type": "markdown",
      "metadata": {
        "id": "DDszQ-fuYOXq"
      },
      "source": [
        "B. Classification menggunkan LeNet-5 dan MNIST dataset"
      ]
    },
    {
      "cell_type": "code",
      "metadata": {
        "id": "kmsf6h4nYTC0",
        "outputId": "f5b7f9a4-3cd4-49f8-d37f-2e18ac807215",
        "colab": {
          "base_uri": "https://localhost:8080/",
          "height": 50
        }
      },
      "source": [
        "from keras.datasets import mnist\n",
        "from keras.utils import np_utils\n",
        "# Dataset dapat diload menggunakan fungsi mnist.load_data() dimana data ini sama dengan data yang diberikan di soal.\n",
        "(x_train, y_train), (x_test, y_test) = mnist.load_data()\n",
        "\n",
        "# Mengubah tipe data dari uint8 menjadi float32 \n",
        "x_train = x_train.astype('float32')\n",
        "x_test = x_test.astype('float32')\n",
        "\n",
        "# Normalisasi value menjadi kisaran 0 hingga 1 (dari yang awalnya 0-255)\n",
        "x_train /= 255\n",
        "x_test /= 255\n",
        "\n",
        "# Transform label menggunakan one-hot encoding\n",
        "y_train = np_utils.to_categorical(y_train, 10)\n",
        "y_test = np_utils.to_categorical(y_test, 10)\n",
        "\n",
        "# Reshape dataset menjadi array 4 dimensi\n",
        "x_train = x_train.reshape(x_train.shape[0], 28,28,1)\n",
        "x_test = x_test.reshape(x_test.shape[0], 28,28,1)"
      ],
      "execution_count": null,
      "outputs": [
        {
          "output_type": "stream",
          "text": [
            "Downloading data from https://s3.amazonaws.com/img-datasets/mnist.npz\n",
            "11493376/11490434 [==============================] - 0s 0us/step\n"
          ],
          "name": "stdout"
        }
      ]
    },
    {
      "cell_type": "code",
      "metadata": {
        "id": "UmhqNWLCYcVP",
        "outputId": "fdf62501-58f5-411d-df69-2493a64bf652",
        "colab": {
          "base_uri": "https://localhost:8080/",
          "height": 358
        }
      },
      "source": [
        "hist = model.fit(x=x_train,y=y_train, epochs=10, batch_size=128, validation_data=(x_test, y_test), verbose=1)"
      ],
      "execution_count": null,
      "outputs": [
        {
          "output_type": "stream",
          "text": [
            "Train on 60000 samples, validate on 10000 samples\n",
            "Epoch 1/10\n",
            "60000/60000 [==============================] - 87s 1ms/step - loss: 0.6716 - accuracy: 0.8250 - val_loss: 0.3418 - val_accuracy: 0.9044\n",
            "Epoch 2/10\n",
            "60000/60000 [==============================] - 86s 1ms/step - loss: 0.3159 - accuracy: 0.9102 - val_loss: 0.2621 - val_accuracy: 0.9273\n",
            "Epoch 3/10\n",
            "60000/60000 [==============================] - 86s 1ms/step - loss: 0.2583 - accuracy: 0.9270 - val_loss: 0.2233 - val_accuracy: 0.9377\n",
            "Epoch 4/10\n",
            "60000/60000 [==============================] - 86s 1ms/step - loss: 0.2238 - accuracy: 0.9364 - val_loss: 0.1984 - val_accuracy: 0.9447\n",
            "Epoch 5/10\n",
            "60000/60000 [==============================] - 86s 1ms/step - loss: 0.1996 - accuracy: 0.9429 - val_loss: 0.1791 - val_accuracy: 0.9491\n",
            "Epoch 6/10\n",
            "60000/60000 [==============================] - 86s 1ms/step - loss: 0.1811 - accuracy: 0.9490 - val_loss: 0.1635 - val_accuracy: 0.9550\n",
            "Epoch 7/10\n",
            "60000/60000 [==============================] - 86s 1ms/step - loss: 0.1659 - accuracy: 0.9527 - val_loss: 0.1512 - val_accuracy: 0.9579\n",
            "Epoch 8/10\n",
            "60000/60000 [==============================] - 86s 1ms/step - loss: 0.1531 - accuracy: 0.9561 - val_loss: 0.1419 - val_accuracy: 0.9591\n",
            "Epoch 9/10\n",
            "60000/60000 [==============================] - 86s 1ms/step - loss: 0.1422 - accuracy: 0.9599 - val_loss: 0.1308 - val_accuracy: 0.9618\n",
            "Epoch 10/10\n",
            "60000/60000 [==============================] - 86s 1ms/step - loss: 0.1324 - accuracy: 0.9629 - val_loss: 0.1237 - val_accuracy: 0.9654\n"
          ],
          "name": "stdout"
        }
      ]
    },
    {
      "cell_type": "markdown",
      "metadata": {
        "id": "EASKqDyiYrTv"
      },
      "source": [
        "Loss dan Accuracy Final"
      ]
    },
    {
      "cell_type": "code",
      "metadata": {
        "id": "VvmxlmU0Yez_",
        "outputId": "0de110ec-a4e8-441a-ae9d-30c6ac1de2ed",
        "colab": {
          "base_uri": "https://localhost:8080/",
          "height": 50
        }
      },
      "source": [
        "test_score = model.evaluate(x_test, y_test)\n",
        "print(\"Test loss {:.4f}, accuracy {:.2f}%\".format(test_score[0], test_score[1] * 100))"
      ],
      "execution_count": null,
      "outputs": [
        {
          "output_type": "stream",
          "text": [
            "10000/10000 [==============================] - 6s 624us/step\n",
            "Test loss 0.1237, accuracy 96.54%\n"
          ],
          "name": "stdout"
        }
      ]
    },
    {
      "cell_type": "markdown",
      "metadata": {
        "id": "-YNoWFTkYzxw"
      },
      "source": [
        "Visualisasi Accuracy"
      ]
    },
    {
      "cell_type": "code",
      "metadata": {
        "id": "7Bv1j_n4YmHQ",
        "outputId": "329eea45-a829-4a67-de6d-b02fe7f17848",
        "colab": {
          "base_uri": "https://localhost:8080/",
          "height": 311
        }
      },
      "source": [
        "import matplotlib.pyplot as plt\n",
        "f, ax = plt.subplots()\n",
        "ax.plot([None] + hist.history['accuracy'], 'o-')\n",
        "ax.plot([None] + hist.history['val_accuracy'], 'x-')\n",
        "\n",
        "ax.legend(['Train acc', 'Validation acc'], loc = 0)\n",
        "ax.set_title('Training/Validation acc per Epoch')\n",
        "ax.set_xlabel('Epoch')\n",
        "ax.set_ylabel('Accuracy')"
      ],
      "execution_count": null,
      "outputs": [
        {
          "output_type": "execute_result",
          "data": {
            "text/plain": [
              "Text(0, 0.5, 'Accuracy')"
            ]
          },
          "metadata": {
            "tags": []
          },
          "execution_count": 10
        },
        {
          "output_type": "display_data",
          "data": {
            "image/png": "[encoded data removed]",
            "text/plain": [
              "<Figure size 432x288 with 1 Axes>"
            ]
          },
          "metadata": {
            "tags": [],
            "needs_background": "light"
          }
        }
      ]
    },
    {
      "cell_type": "markdown",
      "metadata": {
        "id": "Dc-gQbKZY16t"
      },
      "source": [
        "Visualisasi Loss"
      ]
    },
    {
      "cell_type": "code",
      "metadata": {
        "id": "50EQuCpzYnPJ",
        "outputId": "aacc29a1-f828-4c01-d296-664672e23ffd",
        "colab": {
          "base_uri": "https://localhost:8080/",
          "height": 311
        }
      },
      "source": [
        "import matplotlib.pyplot as plt\n",
        "f, ax = plt.subplots()\n",
        "ax.plot([None] + hist.history['loss'], 'o-')\n",
        "ax.plot([None] + hist.history['val_loss'], 'x-')\n",
        "\n",
        "ax.legend(['Train Loss', 'Validation Loss'], loc = 0)\n",
        "ax.set_title('Training/Validation Loss per Epoch')\n",
        "ax.set_xlabel('Epoch')\n",
        "ax.set_ylabel('Loss')"
      ],
      "execution_count": null,
      "outputs": [
        {
          "output_type": "execute_result",
          "data": {
            "text/plain": [
              "Text(0, 0.5, 'Loss')"
            ]
          },
          "metadata": {
            "tags": []
          },
          "execution_count": 7
        },
        {
          "output_type": "display_data",
          "data": {
            "image/png": "[encoded data removed]",
            "text/plain": [
              "<Figure size 432x288 with 1 Axes>"
            ]
          },
          "metadata": {
            "tags": [],
            "needs_background": "light"
          }
        }
      ]
    },
    {
      "cell_type": "markdown",
      "metadata": {
        "id": "Or9mRRlyyfbp"
      },
      "source": [
        "Walaupun algoritma LeNet-5 sangat mudah untuk diimplementasikan, namun hasil yang didapatkan sangatlah baik, mencapai accuracy hingga lebih dari 96% dan loss kurang dari 0.13"
      ]
    },
    {
      "cell_type": "markdown",
      "metadata": {
        "id": "hvFUm2H8ZBHE"
      },
      "source": [
        "C. Remove one Full connection layer\n",
        "\n",
        "Layer FC6 akan dihilangkan"
      ]
    },
    {
      "cell_type": "code",
      "metadata": {
        "id": "pXGFofFEZIgT"
      },
      "source": [
        "from keras.models import Sequential\n",
        "from keras import models, layers\n",
        "import keras\n",
        "\n",
        "# Model kosong untuk dipanggil nantinya\n",
        "model = Sequential()\n",
        "\n",
        "# C1 Convolutional Layer\n",
        "model.add(layers.Conv2D(6, kernel_size=(5, 5), strides=(1, 1), activation='tanh', input_shape=(28,28,1), padding='same'))\n",
        "\n",
        "# S2 Pooling Layer\n",
        "model.add(layers.AveragePooling2D(pool_size=(2, 2), strides=(1, 1), padding='valid'))\n",
        "\n",
        "# C3 Convolutional Layer\n",
        "model.add(layers.Conv2D(16, kernel_size=(5, 5), strides=(1, 1), activation='tanh', padding='valid'))\n",
        "\n",
        "# S4 Pooling Layer\n",
        "model.add(layers.AveragePooling2D(pool_size=(2, 2), strides=(2, 2), padding='valid'))\n",
        "\n",
        "# C5 Fully Connected Convolutional Layer\n",
        "model.add(layers.Conv2D(120, kernel_size=(5, 5), strides=(1, 1), activation='tanh', padding='valid'))\n",
        "# CNN output perlu dilakukan flattening agar dapat diconnect dengan layer lainnya\n",
        "model.add(layers.Flatten())\n",
        "\n",
        "# Output Layer\n",
        "model.add(layers.Dense(10, activation='softmax'))\n",
        "\n",
        "# Compile\n",
        "model.compile(loss=keras.losses.categorical_crossentropy, optimizer='SGD', metrics=[\"accuracy\"])"
      ],
      "execution_count": null,
      "outputs": []
    },
    {
      "cell_type": "code",
      "metadata": {
        "id": "YE5yU0bST12L"
      },
      "source": [
        "from keras.datasets import mnist\n",
        "from keras.utils import np_utils\n",
        "# # Dataset dapat diload menggunakan fungsi mnist.load_data() dimana data ini sama dengan data yang diberikan di soal.\n",
        "(x_train, y_train), (x_test, y_test) = mnist.load_data()\n",
        "\n",
        "# Mengubah tipe data dari uint8 menjadi float32 \n",
        "x_train = x_train.astype('float32')\n",
        "x_test = x_test.astype('float32')\n",
        "\n",
        "# Normalisasi value menjadi kisaran 0 hingga 1 (dari yang awalnya 0-255)\n",
        "x_train /= 255\n",
        "x_test /= 255\n",
        "\n",
        "# Transform label menggunakan one-hot encoding\n",
        "y_train = np_utils.to_categorical(y_train, 10)\n",
        "y_test = np_utils.to_categorical(y_test, 10)\n",
        "\n",
        "# Reshape dataset menjadi array 4 dimensi\n",
        "x_train = x_train.reshape(x_train.shape[0], 28,28,1)\n",
        "x_test = x_test.reshape(x_test.shape[0], 28,28,1)"
      ],
      "execution_count": null,
      "outputs": []
    },
    {
      "cell_type": "code",
      "metadata": {
        "id": "Kx0I1UzOZg6q",
        "outputId": "6484b3a5-38eb-4315-8f8d-573d5209b7f0",
        "colab": {
          "base_uri": "https://localhost:8080/",
          "height": 358
        }
      },
      "source": [
        "hist = model.fit(x=x_train,y=y_train, epochs=10, batch_size=128, validation_data=(x_test, y_test), verbose=1)"
      ],
      "execution_count": null,
      "outputs": [
        {
          "output_type": "stream",
          "text": [
            "Train on 60000 samples, validate on 10000 samples\n",
            "Epoch 1/10\n",
            "60000/60000 [==============================] - 75s 1ms/step - loss: 0.7240 - accuracy: 0.8115 - val_loss: 0.3589 - val_accuracy: 0.8972\n",
            "Epoch 2/10\n",
            "60000/60000 [==============================] - 75s 1ms/step - loss: 0.3455 - accuracy: 0.8989 - val_loss: 0.2979 - val_accuracy: 0.9144\n",
            "Epoch 3/10\n",
            "60000/60000 [==============================] - 75s 1ms/step - loss: 0.2981 - accuracy: 0.9133 - val_loss: 0.2607 - val_accuracy: 0.9244\n",
            "Epoch 4/10\n",
            "60000/60000 [==============================] - 75s 1ms/step - loss: 0.2629 - accuracy: 0.9244 - val_loss: 0.2311 - val_accuracy: 0.9342\n",
            "Epoch 5/10\n",
            "60000/60000 [==============================] - 75s 1ms/step - loss: 0.2318 - accuracy: 0.9330 - val_loss: 0.2042 - val_accuracy: 0.9406\n",
            "Epoch 6/10\n",
            "60000/60000 [==============================] - 75s 1ms/step - loss: 0.2041 - accuracy: 0.9407 - val_loss: 0.1771 - val_accuracy: 0.9481\n",
            "Epoch 7/10\n",
            "60000/60000 [==============================] - 75s 1ms/step - loss: 0.1804 - accuracy: 0.9482 - val_loss: 0.1538 - val_accuracy: 0.9544\n",
            "Epoch 8/10\n",
            "60000/60000 [==============================] - 76s 1ms/step - loss: 0.1598 - accuracy: 0.9539 - val_loss: 0.1393 - val_accuracy: 0.9589\n",
            "Epoch 9/10\n",
            "60000/60000 [==============================] - 80s 1ms/step - loss: 0.1434 - accuracy: 0.9585 - val_loss: 0.1252 - val_accuracy: 0.9635\n",
            "Epoch 10/10\n",
            "60000/60000 [==============================] - 76s 1ms/step - loss: 0.1294 - accuracy: 0.9623 - val_loss: 0.1116 - val_accuracy: 0.9681\n"
          ],
          "name": "stdout"
        }
      ]
    },
    {
      "cell_type": "code",
      "metadata": {
        "id": "Mw9O4okfZnq7",
        "outputId": "407d4712-a673-4095-c618-595158e90cb8",
        "colab": {
          "base_uri": "https://localhost:8080/",
          "height": 50
        }
      },
      "source": [
        "test_score = model.evaluate(x_test, y_test)\n",
        "print(\"Test loss {:.4f}, accuracy {:.2f}%\".format(test_score[0], test_score[1] * 100))"
      ],
      "execution_count": null,
      "outputs": [
        {
          "output_type": "stream",
          "text": [
            "10000/10000 [==============================] - 5s 543us/step\n",
            "Test loss 0.1116, accuracy 96.81%\n"
          ],
          "name": "stdout"
        }
      ]
    },
    {
      "cell_type": "code",
      "metadata": {
        "id": "5ljt7hg5XSky",
        "outputId": "5936ec9b-4d93-4b47-b8b2-148222c18f88",
        "colab": {
          "base_uri": "https://localhost:8080/",
          "height": 311
        }
      },
      "source": [
        "import matplotlib.pyplot as plt\n",
        "f, ax = plt.subplots()\n",
        "ax.plot([None] + hist.history['accuracy'], 'o-')\n",
        "ax.plot([None] + hist.history['val_accuracy'], 'x-')\n",
        "\n",
        "ax.legend(['Train acc', 'Validation acc'], loc = 0)\n",
        "ax.set_title('Training/Validation acc per Epoch')\n",
        "ax.set_xlabel('Epoch')\n",
        "ax.set_ylabel('Accuracy')"
      ],
      "execution_count": null,
      "outputs": [
        {
          "output_type": "execute_result",
          "data": {
            "text/plain": [
              "Text(0, 0.5, 'Accuracy')"
            ]
          },
          "metadata": {
            "tags": []
          },
          "execution_count": 80
        },
        {
          "output_type": "display_data",
          "data": {
            "image/png": "[encoded data removed]",
            "text/plain": [
              "<Figure size 432x288 with 1 Axes>"
            ]
          },
          "metadata": {
            "tags": [],
            "needs_background": "light"
          }
        }
      ]
    },
    {
      "cell_type": "code",
      "metadata": {
        "id": "GGZv_rjCafyr",
        "outputId": "8e9b4c84-d285-4a19-862a-43850988c2ea",
        "colab": {
          "base_uri": "https://localhost:8080/",
          "height": 311
        }
      },
      "source": [
        "import matplotlib.pyplot as plt\n",
        "f, ax = plt.subplots()\n",
        "ax.plot([None] + hist.history['loss'], 'o-')\n",
        "ax.plot([None] + hist.history['val_loss'], 'x-')\n",
        "# Plot legend and use the best location automatically: loc = 0.\n",
        "ax.legend(['Train Loss', 'Validation Loss'], loc = 0)\n",
        "ax.set_title('Training/Validation Loss per Epoch')\n",
        "ax.set_xlabel('Epoch')\n",
        "ax.set_ylabel('Loss')"
      ],
      "execution_count": null,
      "outputs": [
        {
          "output_type": "execute_result",
          "data": {
            "text/plain": [
              "Text(0, 0.5, 'Loss')"
            ]
          },
          "metadata": {
            "tags": []
          },
          "execution_count": 81
        },
        {
          "output_type": "display_data",
          "data": {
            "image/png": "[encoded data removed]",
            "text/plain": [
              "<Figure size 432x288 with 1 Axes>"
            ]
          },
          "metadata": {
            "tags": [],
            "needs_background": "light"
          }
        }
      ]
    },
    {
      "cell_type": "markdown",
      "metadata": {
        "id": "bTRh8fWTllvq"
      },
      "source": [
        "Accuracy yang didapatkan sebelum layer FC6 dihilangkan dan sesudah FC6 dihilangkan serupa. FC6 dalam layer ini berperan sebagai hidden layer diantara C5 dan Output layer, yang membuat proses yang terjadi serupa dengan Multi Layer Perceptron. Namun, jika FC6 dihilangkan maka proses yang terjadi diantara C5 dan Output Layer hanya berupa single layer perceptron.\n",
        "\n",
        "Jika kita menghilangkan layer FC6, tentunya proses akan berjalan dengan lebih cepat, dapat dilhat pada hasil diatas bahwa LeNet-5 berjalan 10 detik lebih cepat pada setiap epochnya.\n",
        "\n",
        "Namun menghilangkan layer FC6 dapat merusak hasil jika data yang digunakan kompleks. Data yang digunakan pada MNIST dataset berupa tulisan tangan angka, dimana data ini dapat dipisahkan secara linear oleh karena itu menghilangkan layer FC6 pada kasus ini tidak berpengaruh besar. Lain halnya jika data yang digunakan sangat kompleks dan tidak dapat dipisahkan secara linear, jika hal ini terjadi maka menghilangkan layer FC6 akan mengurangi performa dari model yang ada."
      ]
    }
  ]
}
