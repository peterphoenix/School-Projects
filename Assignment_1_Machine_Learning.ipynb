{
  "nbformat": 4,
  "nbformat_minor": 0,
  "metadata": {
    "colab": {
      "name": "Assignment 1 Machine Learning.ipynb",
      "provenance": [],
      "collapsed_sections": [],
      "toc_visible": true,
      "authorship_tag": "ABX9TyM52LnjP515KAqBwzWgWfDr",
      "include_colab_link": true
    },
    "kernelspec": {
      "name": "python3",
      "display_name": "Python 3"
    }
  },
  "cells": [
    {
      "cell_type": "markdown",
      "metadata": {
        "id": "view-in-github",
        "colab_type": "text"
      },
      "source": [
        "<a href=\"https://colab.research.google.com/github/peterphoenix/School-Projects/blob/master/Assignment_1_Machine_Learning.ipynb\" target=\"_parent\"><img src=\"https://colab.research.google.com/assets/colab-badge.svg\" alt=\"Open In Colab\"/></a>"
      ]
    },
    {
      "cell_type": "markdown",
      "metadata": {
        "id": "ZlEWuYmvn2lc"
      },
      "source": [
        "COMP6577_LA01_ASG1 - Peter Phoenix 2201735413"
      ]
    },
    {
      "cell_type": "code",
      "metadata": {
        "id": "rhvQ0tvyhO88"
      },
      "source": [
        "import pandas as pd\n",
        "Data = pd.read_csv(\"listings.csv\")"
      ],
      "execution_count": null,
      "outputs": []
    },
    {
      "cell_type": "code",
      "metadata": {
        "id": "37FRVWhZkbMi",
        "outputId": "0eb85043-d98d-44c6-ee8d-eea2a89bc515",
        "colab": {
          "base_uri": "https://localhost:8080/",
          "height": 527
        }
      },
      "source": [
        "#1. Find Minimum or Maximum Value\n",
        "minValue = Data.min()\n",
        "print(minValue)\n",
        "maxValue = Data.max()\n",
        "print(maxValue)"
      ],
      "execution_count": null,
      "outputs": [
        {
          "output_type": "stream",
          "text": [
            "id                                                   49091\n",
            "host_id                                              23666\n",
            "host_name                         (Email hidden by Airbnb)\n",
            "neighbourhood_group                         Central Region\n",
            "neighbourhood                                   Ang Mo Kio\n",
            "latitude                                           1.24387\n",
            "longitude                                          103.647\n",
            "room_type                                  Entire home/apt\n",
            "price                                                    0\n",
            "minimum_nights                                           1\n",
            "number_of_reviews                                        0\n",
            "reviews_per_month                                     0.01\n",
            "calculated_host_listings_count                           1\n",
            "availability_365                                         0\n",
            "dtype: object\n",
            "id                                   38112762\n",
            "host_id                             288567551\n",
            "host_name                                  ｼﾝ\n",
            "neighbourhood_group               West Region\n",
            "neighbourhood                          Yishun\n",
            "latitude                              1.45459\n",
            "longitude                             103.973\n",
            "room_type                         Shared room\n",
            "price                                   10000\n",
            "minimum_nights                           1000\n",
            "number_of_reviews                         323\n",
            "reviews_per_month                          13\n",
            "calculated_host_listings_count            274\n",
            "availability_365                          365\n",
            "dtype: object\n"
          ],
          "name": "stdout"
        }
      ]
    },
    {
      "cell_type": "code",
      "metadata": {
        "id": "yxW32m94kpVi",
        "outputId": "87563d55-fe1c-43f4-8c3d-48bfd42d850e",
        "colab": {
          "base_uri": "https://localhost:8080/",
          "height": 255
        }
      },
      "source": [
        "#2. Eliminate Null Value\n",
        "noNullVal = Data.dropna()\n",
        "print(noNullVal)"
      ],
      "execution_count": null,
      "outputs": [
        {
          "output_type": "stream",
          "text": [
            "            id  ... availability_365\n",
            "0        49091  ...              365\n",
            "1        50646  ...              365\n",
            "2        56334  ...              365\n",
            "3        71609  ...              353\n",
            "4        71896  ...              355\n",
            "...        ...  ...              ...\n",
            "7715  37621650  ...              189\n",
            "7728  37690516  ...                1\n",
            "7752  37798739  ...              120\n",
            "7766  37841266  ...              159\n",
            "7767  37852422  ...              298\n",
            "\n",
            "[5148 rows x 16 columns]\n"
          ],
          "name": "stdout"
        }
      ]
    },
    {
      "cell_type": "code",
      "metadata": {
        "id": "F__rk633lKUj",
        "outputId": "6347a6c0-b2b9-4937-cfd7-70d80e2266cc",
        "colab": {
          "base_uri": "https://localhost:8080/",
          "height": 255
        }
      },
      "source": [
        "#3. Replace Null Value to certain Value (in this Case 0)\n",
        "fillNullVal = Data.fillna(0)\n",
        "print(fillNullVal)"
      ],
      "execution_count": null,
      "outputs": [
        {
          "output_type": "stream",
          "text": [
            "            id  ... availability_365\n",
            "0        49091  ...              365\n",
            "1        50646  ...              365\n",
            "2        56334  ...              365\n",
            "3        71609  ...              353\n",
            "4        71896  ...              355\n",
            "...        ...  ...              ...\n",
            "7902  38105126  ...               61\n",
            "7903  38108273  ...              365\n",
            "7904  38109336  ...              173\n",
            "7905  38110493  ...               30\n",
            "7906  38112762  ...              365\n",
            "\n",
            "[7907 rows x 16 columns]\n"
          ],
          "name": "stdout"
        }
      ]
    }
  ]
}