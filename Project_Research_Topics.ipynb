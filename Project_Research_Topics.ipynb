{
  "nbformat": 4,
  "nbformat_minor": 0,
  "metadata": {
    "colab": {
      "name": "Project Research Topics",
      "provenance": [],
      "collapsed_sections": [],
      "include_colab_link": true
    },
    "kernelspec": {
      "name": "python3",
      "display_name": "Python 3"
    }
  },
  "cells": [
    {
      "cell_type": "markdown",
      "metadata": {
        "id": "view-in-github",
        "colab_type": "text"
      },
      "source": [
        "<a href=\"https://colab.research.google.com/github/peterphoenix/School-Projects/blob/master/Project_Research_Topics.ipynb\" target=\"_parent\"><img src=\"https://colab.research.google.com/assets/colab-badge.svg\" alt=\"Open In Colab\"/></a>"
      ]
    },
    {
      "cell_type": "code",
      "metadata": {
        "id": "i79Aztr5xm5R",
        "outputId": "8626b7c2-007b-4617-f36e-56b66832644e",
        "colab": {
          "base_uri": "https://localhost:8080/",
          "height": 127
        }
      },
      "source": [
        "!pip install Sastrawi"
      ],
      "execution_count": null,
      "outputs": [
        {
          "output_type": "stream",
          "text": [
            "Collecting Sastrawi\n",
            "\u001b[?25l  Downloading https://files.pythonhosted.org/packages/6f/4b/bab676953da3103003730b8fcdfadbdd20f333d4add10af949dd5c51e6ed/Sastrawi-1.0.1-py2.py3-none-any.whl (209kB)\n",
            "\r\u001b[K     |█▋                              | 10kB 18.7MB/s eta 0:00:01\r\u001b[K     |███▏                            | 20kB 6.2MB/s eta 0:00:01\r\u001b[K     |████▊                           | 30kB 7.3MB/s eta 0:00:01\r\u001b[K     |██████▎                         | 40kB 8.1MB/s eta 0:00:01\r\u001b[K     |███████▉                        | 51kB 6.3MB/s eta 0:00:01\r\u001b[K     |█████████▍                      | 61kB 7.0MB/s eta 0:00:01\r\u001b[K     |███████████                     | 71kB 7.7MB/s eta 0:00:01\r\u001b[K     |████████████▌                   | 81kB 8.2MB/s eta 0:00:01\r\u001b[K     |██████████████                  | 92kB 7.6MB/s eta 0:00:01\r\u001b[K     |███████████████▋                | 102kB 7.9MB/s eta 0:00:01\r\u001b[K     |█████████████████▏              | 112kB 7.9MB/s eta 0:00:01\r\u001b[K     |██████████████████▊             | 122kB 7.9MB/s eta 0:00:01\r\u001b[K     |████████████████████▎           | 133kB 7.9MB/s eta 0:00:01\r\u001b[K     |█████████████████████▉          | 143kB 7.9MB/s eta 0:00:01\r\u001b[K     |███████████████████████▍        | 153kB 7.9MB/s eta 0:00:01\r\u001b[K     |█████████████████████████       | 163kB 7.9MB/s eta 0:00:01\r\u001b[K     |██████████████████████████▋     | 174kB 7.9MB/s eta 0:00:01\r\u001b[K     |████████████████████████████▏   | 184kB 7.9MB/s eta 0:00:01\r\u001b[K     |█████████████████████████████▊  | 194kB 7.9MB/s eta 0:00:01\r\u001b[K     |███████████████████████████████▎| 204kB 7.9MB/s eta 0:00:01\r\u001b[K     |████████████████████████████████| 215kB 7.9MB/s \n",
            "\u001b[?25hInstalling collected packages: Sastrawi\n",
            "Successfully installed Sastrawi-1.0.1\n"
          ],
          "name": "stdout"
        }
      ]
    },
    {
      "cell_type": "code",
      "metadata": {
        "id": "dVkkxrb01DpH",
        "outputId": "c0c2f714-3c36-4107-c1e3-65ee71034ced",
        "colab": {
          "base_uri": "https://localhost:8080/",
          "height": 323
        }
      },
      "source": [
        "from nltk.tokenize import word_tokenize\n",
        "from Sastrawi.Stemmer.StemmerFactory import StemmerFactory\n",
        "from Sastrawi.StopWordRemover.StopWordRemoverFactory import StopWordRemoverFactory\n",
        "from sklearn.feature_extraction.text import TfidfVectorizer\n",
        "from sklearn.metrics import precision_score, recall_score, f1_score, accuracy_score\n",
        "from sklearn.model_selection import KFold\n",
        "from sklearn.naive_bayes import MultinomialNB\n",
        "from sklearn.neighbors import KNeighborsClassifier\n",
        "from sklearn.ensemble import RandomForestClassifier\n",
        "from tabulate import tabulate\n",
        "import numpy as np\n",
        "import pandas as pd\n",
        " \n",
        "dataset = pd.read_csv(\"http://tesuntukresearchtopics.surge.sh/data.csv\")\n",
        " \n",
        "# for i in range(len(dataset['data'])):\n",
        "#     print(i)\n",
        "#     temp = dataset['data'][i]\n",
        "#     temp1 = StopWordRemoverFactory().create_stop_word_remover().remove(temp)\n",
        "#     temp2 = StemmerFactory().create_stemmer().stem(temp1)\n",
        "#     dataset['data'][i] = temp2\n",
        " \n",
        "# dataset.to_csv('datacleaned.csv')\n",
        " \n",
        "X = TfidfVectorizer().fit_transform(dataset['data'])\n",
        "y = dataset['promo']\n",
        " \n",
        "folds = 5\n",
        "kf = KFold(n_splits=folds)\n",
        "kf.get_n_splits(X)\n",
        " \n",
        "knn = [0, 0, 0, 0]\n",
        "nb = [0, 0, 0, 0]\n",
        "rf = [0, 0, 0, 0]\n",
        " \n",
        "for train_index, test_index in kf.split(X):\n",
        "    # print(\"TRAIN:\", train_index, \"TEST:\", test_index)\n",
        "    X_train, X_test = X[train_index], X[test_index]\n",
        "    y_train, y_test = y[train_index], y[test_index]\n",
        " \n",
        "    modelknn = KNeighborsClassifier(n_neighbors=5).fit(X_train, y_train)\n",
        "    modelnb = MultinomialNB().fit(X_train, y_train)\n",
        "    modelrf = RandomForestClassifier(max_depth=None,random_state=None).fit(X_train,y_train)\n",
        " \n",
        "    predictknn = modelknn.predict(X_test)\n",
        "    predictnb = modelnb.predict(X_test)\n",
        "    predictrf = modelrf.predict(X_test)\n",
        " \n",
        "    knn[0] += accuracy_score(y_test, predictknn) * 100\n",
        "    knn[1] += precision_score(y_test, predictknn) * 100\n",
        "    knn[2] += recall_score(y_test, predictknn) * 100\n",
        "    knn[3] += f1_score(y_test, predictknn)\n",
        " \n",
        "    nb[0] += accuracy_score(y_test, predictnb) * 100\n",
        "    nb[1] += precision_score(y_test, predictnb) * 100\n",
        "    nb[2] += recall_score(y_test, predictnb) * 100\n",
        "    nb[3] += f1_score(y_test, predictnb)\n",
        "\n",
        "    rf[0] += accuracy_score(y_test, predictrf) * 100\n",
        "    rf[1] += precision_score(y_test, predictrf) * 100\n",
        "    rf[2] += recall_score(y_test, predictrf) * 100\n",
        "    rf[3] += f1_score(y_test, predictrf)\n",
        " \n",
        "print(\"KNN:\")\n",
        "print(\"Accuracy: \", knn[0] / folds)\n",
        "print(\"Precision: \", knn[1] / folds)\n",
        "print(\"Recall: \", knn[2] / folds)\n",
        "print(\"F1 Score: \", knn[3] / folds)\n",
        " \n",
        "print(\"\\nNaive Bayes:\")\n",
        "print(\"Accuracy: \", nb[0] / folds)\n",
        "print(\"Precision: \", nb[1] / folds)\n",
        "print(\"Recall: \", nb[2] / folds)\n",
        "print(\"F1 Score: \", nb[3] / folds)\n",
        "\n",
        " \n",
        "print(\"\\nRF:\")\n",
        "print(\"Accuracy: \", rf[0] / folds)\n",
        "print(\"Precision: \", rf[1] / folds)\n",
        "print(\"Recall: \", rf[2] / folds)\n",
        "print(\"F1 Score: \", rf[3] / folds)"
      ],
      "execution_count": null,
      "outputs": [
        {
          "output_type": "stream",
          "text": [
            "KNN:\n",
            "Accuracy:  90.46370967741936\n",
            "Precision:  86.64027149321267\n",
            "Recall:  93.475935828877\n",
            "F1 Score:  0.8956363636363637\n",
            "\n",
            "Naive Bayes:\n",
            "Accuracy:  94.31451612903227\n",
            "Precision:  94.33333333333333\n",
            "Recall:  94.11764705882352\n",
            "F1 Score:  0.9395186335403727\n",
            "\n",
            "RF:\n",
            "Accuracy:  83.00403225806451\n",
            "Precision:  92.94117647058823\n",
            "Recall:  72.84313725490196\n",
            "F1 Score:  0.7743763456617556\n"
          ],
          "name": "stdout"
        }
      ]
    }
  ]
}